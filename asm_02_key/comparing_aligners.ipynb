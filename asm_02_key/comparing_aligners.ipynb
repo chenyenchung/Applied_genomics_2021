{
 "cells": [
  {
   "cell_type": "markdown",
   "metadata": {},
   "source": [
    "# Assignment 2: Comparing aligners"
   ]
  },
  {
   "cell_type": "markdown",
   "metadata": {},
   "source": [
    "## Question 1: Please list the considerations you have to pick an aligner for your experiment (Make sure you mentioned the different consideration when your sample is genomic DNA vs RNA) \n",
    "\n",
    "Briefly, the first thing to consider is the nature of the sample: whether it is DNA or RNA. In eukaryotes, cDNA library won't align to a reference genome due to alternative splicing. As a consequence, an aligner that deal with splicing junctions (splicing-aware) should be used with RNA-Seq.\n",
    "\n",
    "If the sample is DNA (e.g., Whole genome sequencing, ChIP-Seq, ATAC-Seq, MNase-seq, and etc.), a splicing-unaware aligner is preferred because splicing-aware and unaware mappers are designed differently. As a result, while alignment of genomic DNA is usually okay, things like the mapping quality score from a splicing-aware aligner are defined in a different way. The different way defining mapping quality scores will have an impact on later analysis: For example, GATK uses MAPQ to call variants.\n",
    "\n",
    "As a result, it is advisable to use a splicing-aware aligner when you know there is splicing, and to use a splicing-unaware aligner in all other cases.\n",
    "\n",
    "Other considerations include the features the aligner supports (e.g., seed length, mismatch tolerance, soft-clipping), alignment rate, alignment speed, and etc.\n",
    "\n",
    "For who is interested, there are many benchmarking study for bioinformatic tools like [this](https://bmcbioinformatics.biomedcentral.com/articles/10.1186/1471-2105-14-184)."
   ]
  },
  {
   "cell_type": "markdown",
   "metadata": {},
   "source": [
    "## Question 2: Align the RNA-seq (read_1.fastq and read_2.fastq) with HISAT2 + two other aligners of your choice and submit them as sbatch scripts, and compare the alignment results. Alignment results should be converted to BAM and sorted (upload the sbatch scripts for the alignment jobs and the output of samtools flagstats, 25% each).\n",
    "\n",
    "- For references of a sbatch script, please see [this wiki page](https://devwikis.nyu.edu/display/NYUHPC/Slurm+Tutorial). Briefly, arrange your commands as a bash script, and prepend the script with slurm options. (Splicing-aware aligners require more resources especially when indexing the reference genome, so --mem=8GB is recommended)."
   ]
  },
  {
   "cell_type": "markdown",
   "metadata": {},
   "source": [
    "## Using STAR (With gene model information)"
   ]
  },
  {
   "cell_type": "code",
   "execution_count": 3,
   "metadata": {},
   "outputs": [
    {
     "name": "stdout",
     "output_type": "stream",
     "text": [
      "#!/bin/bash\n",
      "#SBATCH --nodes=1\n",
      "#SBATCH --ntasks-per-node=1\n",
      "#SBATCH --cpus-per-task=4\n",
      "#SBATCH --time=0:30:00\n",
      "#SBATCH --mem=16GB\n",
      "#SBATCH --job-name=star\n",
      "#SBATCH --mail-type=END\n",
      "#SBATCH --account=class\n",
      "#SBATCH --mail-user=ycc520@nyu.edu\n",
      "#SBATCH --output=slurm_%j.out\n",
      "module purge\n",
      "module load star/intel/2.7.6a\n",
      "module load samtools/intel/1.11\n",
      "\n",
      "# Index the reference genome for STAR\n",
      "STAR --runThreadN 4 \\\n",
      "--runMode genomeGenerate \\\n",
      "--genomeSAindexNbases 11 \\\n",
      "--genomeDir star_ref \\\n",
      "--genomeFastaFiles chr17.fa \\\n",
      "--sjdbGTFfile chr17.gtf \\\n",
      "--sjdbOverhang 99\n",
      "\n",
      "# Align\n",
      "STAR --genomeDir star_ref \\\n",
      "--runThreadN 4 \\\n",
      "--readFilesIn read_1.fastq read_2.fastq \\\n",
      "--outFileNamePrefix ./result/STAR/ \\\n",
      "--outSAMtype BAM SortedByCoordinate \\\n",
      "--outSAMunmapped Within \\\n",
      "--outSAMattributes Standard\n"
     ]
    }
   ],
   "source": [
    "# Show the sbatch script\n",
    "cat star_align.sbatch"
   ]
  },
  {
   "cell_type": "code",
   "execution_count": 4,
   "metadata": {},
   "outputs": [
    {
     "name": "stdout",
     "output_type": "stream",
     "text": [
      "Submitted batch job 4163945\n"
     ]
    }
   ],
   "source": [
    "sbatch star_align.sbatch"
   ]
  },
  {
   "cell_type": "code",
   "execution_count": 5,
   "metadata": {},
   "outputs": [],
   "source": [
    "module load samtools/intel/1.11"
   ]
  },
  {
   "cell_type": "code",
   "execution_count": 9,
   "metadata": {},
   "outputs": [
    {
     "name": "stdout",
     "output_type": "stream",
     "text": [
      "751688 + 0 in total (QC-passed reads + QC-failed reads)\n",
      "15048 + 0 secondary\n",
      "0 + 0 supplementary\n",
      "0 + 0 duplicates\n",
      "751420 + 0 mapped (99.96% : N/A)\n",
      "736640 + 0 paired in sequencing\n",
      "368320 + 0 read1\n",
      "368320 + 0 read2\n",
      "736370 + 0 properly paired (99.96% : N/A)\n",
      "736370 + 0 with itself and mate mapped\n",
      "2 + 0 singletons (0.00% : N/A)\n",
      "0 + 0 with mate mapped to a different chr\n",
      "0 + 0 with mate mapped to a different chr (mapQ>=5)\n"
     ]
    }
   ],
   "source": [
    "samtools flagstat result/STAR/Aligned.sortedByCoord.out.bam"
   ]
  },
  {
   "cell_type": "markdown",
   "metadata": {},
   "source": [
    "## Using Bowtie2"
   ]
  },
  {
   "cell_type": "code",
   "execution_count": 22,
   "metadata": {},
   "outputs": [
    {
     "name": "stdout",
     "output_type": "stream",
     "text": [
      "#!/bin/bash\n",
      "#SBATCH --nodes=1\n",
      "#SBATCH --ntasks-per-node=1\n",
      "#SBATCH --cpus-per-task=4\n",
      "#SBATCH --time=0:30:00\n",
      "#SBATCH --mem=8GB\n",
      "#SBATCH --job-name=bowtie2\n",
      "#SBATCH --mail-type=END\n",
      "#SBATCH --account=class\n",
      "#SBATCH --mail-user=ycc520@nyu.edu\n",
      "#SBATCH --output=slurm_%j.out\n",
      "module purge\n",
      "module load bowtie2/2.4.2\n",
      "module load samtools/intel/1.11\n",
      "\n",
      "# Index the reference genome for Bowtie2\n",
      "bowtie2-build chr17.fa chr17_bowtie2\n",
      "\n",
      "# Align\n",
      "bowtie2 -x chr17_bowtie2 \\\n",
      "\t-1 read_1.fastq \\\n",
      "\t-2 read_2.fastq \\\n",
      "\t-S result/bowtie2/aligned_bowtie2.sam\n",
      "\n",
      "cd result/bowtie2\n",
      "\n",
      "# Convert to BAM\n",
      "samtools view -S -b aligned_bowtie2.sam > aligned_bowtie2.bam\n",
      "# Sort by coordinate\n",
      "samtools sort aligned_bowtie2.sam -o aligned_bowtie2_sorted.bam\n",
      "# Index the BAM\n",
      "samtools index aligned_bowtie2_sorted.bam\n"
     ]
    }
   ],
   "source": [
    "# Show the sbatch script\n",
    "cat bowtie2_align.sbatch"
   ]
  },
  {
   "cell_type": "code",
   "execution_count": 23,
   "metadata": {},
   "outputs": [
    {
     "name": "stdout",
     "output_type": "stream",
     "text": [
      "mkdir: cannot create directory ‘result/bowtie2’: File exists\n",
      "Submitted batch job 4166105\n"
     ]
    }
   ],
   "source": [
    "mkdir result/bowtie2\n",
    "sbatch bowtie2_align.sbatch"
   ]
  },
  {
   "cell_type": "code",
   "execution_count": 29,
   "metadata": {},
   "outputs": [
    {
     "name": "stdout",
     "output_type": "stream",
     "text": [
      "736640 + 0 in total (QC-passed reads + QC-failed reads)\n",
      "0 + 0 secondary\n",
      "0 + 0 supplementary\n",
      "0 + 0 duplicates\n",
      "600718 + 0 mapped (81.55% : N/A)\n",
      "736640 + 0 paired in sequencing\n",
      "368320 + 0 read1\n",
      "368320 + 0 read2\n",
      "488146 + 0 properly paired (66.27% : N/A)\n",
      "527108 + 0 with itself and mate mapped\n",
      "73610 + 0 singletons (9.99% : N/A)\n",
      "0 + 0 with mate mapped to a different chr\n",
      "0 + 0 with mate mapped to a different chr (mapQ>=5)\n"
     ]
    }
   ],
   "source": [
    "samtools flagstat result/bowtie2/aligned_bowtie2_sorted.sam"
   ]
  },
  {
   "cell_type": "markdown",
   "metadata": {},
   "source": [
    "## Using BWA-MEM"
   ]
  },
  {
   "cell_type": "code",
   "execution_count": 24,
   "metadata": {},
   "outputs": [
    {
     "name": "stdout",
     "output_type": "stream",
     "text": [
      "#!/bin/bash\n",
      "#SBATCH --nodes=1\n",
      "#SBATCH --ntasks-per-node=1\n",
      "#SBATCH --cpus-per-task=4\n",
      "#SBATCH --time=0:30:00\n",
      "#SBATCH --mem=8GB\n",
      "#SBATCH --job-name=bwa\n",
      "#SBATCH --mail-type=END\n",
      "#SBATCH --account=class\n",
      "#SBATCH --mail-user=ycc520@nyu.edu\n",
      "#SBATCH --output=slurm_%j.out\n",
      "module purge\n",
      "module load bwa/intel/0.7.17\n",
      "module load samtools/intel/1.11\n",
      "\n",
      "# Index the reference genome for BWA\n",
      "bwa index chr17.fa\n",
      "\n",
      "mkdir result/BWA\n",
      "# Align\n",
      "bwa mem chr17.fa \\\n",
      "\tread_1.fastq read_2.fastq > result/BWA/aligned_bwa.sam\n",
      "\n",
      "cd result/BWA\n",
      "\n",
      "# Convert to BAM\n",
      "samtools view -S -b aligned_bwa.sam > aligned_bwa.bam\n",
      "# Sort by coordinate\n",
      "samtools sort aligned_bwa.sam -o aligned_bwa_sorted.bam\n",
      "# Index the BAM\n",
      "samtools index aligned_bwa_sorted.bam\n"
     ]
    }
   ],
   "source": [
    "# Show the sbatch script\n",
    "cat bwa_align.sbatch"
   ]
  },
  {
   "cell_type": "code",
   "execution_count": 25,
   "metadata": {},
   "outputs": [
    {
     "name": "stdout",
     "output_type": "stream",
     "text": [
      "Submitted batch job 4166106\n"
     ]
    }
   ],
   "source": [
    "sbatch bwa_align.sbatch"
   ]
  },
  {
   "cell_type": "code",
   "execution_count": 28,
   "metadata": {},
   "outputs": [
    {
     "name": "stdout",
     "output_type": "stream",
     "text": [
      "834803 + 0 in total (QC-passed reads + QC-failed reads)\n",
      "0 + 0 secondary\n",
      "98163 + 0 supplementary\n",
      "0 + 0 duplicates\n",
      "834489 + 0 mapped (99.96% : N/A)\n",
      "736640 + 0 paired in sequencing\n",
      "368320 + 0 read1\n",
      "368320 + 0 read2\n",
      "639544 + 0 properly paired (86.82% : N/A)\n",
      "736072 + 0 with itself and mate mapped\n",
      "254 + 0 singletons (0.03% : N/A)\n",
      "0 + 0 with mate mapped to a different chr\n",
      "0 + 0 with mate mapped to a different chr (mapQ>=5)\n"
     ]
    }
   ],
   "source": [
    "samtools flagstat result/BWA/aligned_bwa_sorted.bam"
   ]
  },
  {
   "cell_type": "markdown",
   "metadata": {},
   "source": [
    "## Using HISAT2"
   ]
  },
  {
   "cell_type": "code",
   "execution_count": 30,
   "metadata": {},
   "outputs": [
    {
     "name": "stdout",
     "output_type": "stream",
     "text": [
      "#!/bin/bash\n",
      "#SBATCH --nodes=1\n",
      "#SBATCH --ntasks-per-node=1\n",
      "#SBATCH --cpus-per-task=4\n",
      "#SBATCH --time=0:30:00\n",
      "#SBATCH --mem=16GB\n",
      "#SBATCH --job-name=HISAT2\n",
      "#SBATCH --mail-type=END\n",
      "#SBATCH --account=class\n",
      "#SBATCH --mail-user=ycc520@nyu.edu\n",
      "#SBATCH --output=slurm_%j.out\n",
      "module purge\n",
      "module load hisat2/2.2.1\n",
      "module load samtools/intel/1.11\n",
      "\n",
      "# Index the reference genome for HISAT2\n",
      "\n",
      "## Prepare gene model information\n",
      "hisat2_extract_splice_sites.py chr17.gtf > genome.ss\n",
      "hisat2_extract_exons.py chr17.gtf > genome.exon\n",
      "\n",
      "## Index the genome\n",
      "hisat2-build -p 4 chr17.fa hisat2_genome\n",
      "\n",
      "mkdir result/hisat2\n",
      "# Align\n",
      "hisat2 -x hisat2_genome \\\n",
      "       -1 read_1.fastq \\\n",
      "       -2 read_2.fastq \\\n",
      "       -S result/hisat2/aligned_hisat2.sam\n",
      "\n",
      "cd result/hisat2\n",
      "# Convert to BAM\n",
      "samtools view -S -b aligned_hisat2.sam > aligned_hisat2.bam\n",
      "# Sort by coordinate\n",
      "samtools sort aligned_hisat2.sam -o aligned_hisat2_sorted.bam\n",
      "# Index the BAM\n",
      "samtools index aligned_hisat2_sorted.bam\n"
     ]
    }
   ],
   "source": [
    "cat hisat2.sbatch"
   ]
  },
  {
   "cell_type": "code",
   "execution_count": 31,
   "metadata": {},
   "outputs": [
    {
     "name": "stdout",
     "output_type": "stream",
     "text": [
      "Submitted batch job 4166336\n"
     ]
    }
   ],
   "source": [
    "sbatch hisat2.sbatch"
   ]
  },
  {
   "cell_type": "code",
   "execution_count": 32,
   "metadata": {},
   "outputs": [
    {
     "name": "stdout",
     "output_type": "stream",
     "text": [
      "748101 + 0 in total (QC-passed reads + QC-failed reads)\n",
      "11461 + 0 secondary\n",
      "0 + 0 supplementary\n",
      "0 + 0 duplicates\n",
      "729548 + 0 mapped (97.52% : N/A)\n",
      "736640 + 0 paired in sequencing\n",
      "368320 + 0 read1\n",
      "368320 + 0 read2\n",
      "709488 + 0 properly paired (96.31% : N/A)\n",
      "712002 + 0 with itself and mate mapped\n",
      "6085 + 0 singletons (0.83% : N/A)\n",
      "0 + 0 with mate mapped to a different chr\n",
      "0 + 0 with mate mapped to a different chr (mapQ>=5)\n"
     ]
    }
   ],
   "source": [
    "samtools flagstat result/hisat2/aligned_hisat2_sorted.bam"
   ]
  },
  {
   "cell_type": "markdown",
   "metadata": {},
   "source": [
    "## Q3: Briefly describe the differences between the alignment results, and select an alignment tool to use if you were the author of this study. Justify your pick. (15%)"
   ]
  },
  {
   "cell_type": "markdown",
   "metadata": {},
   "source": [
    "Considering the sample is RNA-Seq, splicing-unaware aligners like BWA-MEM or Bowtie2 are not suitable for the job because they are not able to deal with splicing junctions. Note that the ratio of mapped reads does not always reflect the ability of an aligner to deal with RNA splicing.\n",
    "\n",
    "Modern aligners are often versatile and will tolerate suboptimal alignments. For example, BWA-MEM will try to find if a read maps to two distinct region of the genome and report it to be multiply mapped.\n",
    "\n",
    "On the other hand, HISAT2 and STAR are both suitable for the job and both popular in the field. While the popularity of a tool does not warrant its quality, the larger user base does provide a better chance for an issue to be spotted. It will be also easier to find tutorials and trouble-shooting discussions for popular tools.\n",
    "\n",
    "While HISAT2 and STAR are both suitable, since we are not doing SNP analyis, which only HISAT2 is designed to deal with, I will go with the one that maps more reads.\n",
    "\n",
    "To examine if HISAT2 is correctly omitting reads while STAR might be mapping those wrongly, it will be nice to export unmapped reads with `samtools view -f 4` from HISAT2 alignment results to see what is being omitted by HISAT2 but STAR."
   ]
  },
  {
   "cell_type": "code",
   "execution_count": null,
   "metadata": {},
   "outputs": [],
   "source": []
  }
 ],
 "metadata": {
  "kernelspec": {
   "display_name": "Bash",
   "language": "bash",
   "name": "bash"
  },
  "language_info": {
   "codemirror_mode": "shell",
   "file_extension": ".sh",
   "mimetype": "text/x-sh",
   "name": "bash"
  }
 },
 "nbformat": 4,
 "nbformat_minor": 4
}
