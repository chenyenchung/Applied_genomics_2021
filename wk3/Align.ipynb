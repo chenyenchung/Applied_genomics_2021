{
 "cells": [
  {
   "cell_type": "code",
   "execution_count": 1,
   "metadata": {},
   "outputs": [
    {
     "name": "stdout",
     "output_type": "stream",
     "text": [
      "GCF_000001405.33_GRCh38.p7_chr20_genomic.fna  read_1.fastq  read_2.fastq\n"
     ]
    }
   ],
   "source": [
    "# Copy required dataset to working directory\n",
    "ls /scratch/work/courses/AppliedGenomics2021Sec3/week03_SeqAln/"
   ]
  },
  {
   "cell_type": "code",
   "execution_count": 2,
   "metadata": {},
   "outputs": [
    {
     "name": "stdout",
     "output_type": "stream",
     "text": [
      "data\n",
      "├── [ 1.0G]  KCL_1.fastq\n",
      "└── [ 4.0K]  align\n",
      "    ├── [  62M]  GCF_000001405.33_GRCh38.p7_chr20_genomic.fna\n",
      "    ├── [  22M]  read_1.fastq\n",
      "    └── [  22M]  read_2.fastq\n",
      "\n",
      "1 directory, 4 files\n"
     ]
    }
   ],
   "source": [
    "cp -r /scratch/work/courses/AppliedGenomics2021Sec3/week03_SeqAln/ data/align\n",
    "tree data -h"
   ]
  },
  {
   "cell_type": "markdown",
   "metadata": {},
   "source": [
    "### What do you need to perform alignment?"
   ]
  },
  {
   "cell_type": "code",
   "execution_count": 3,
   "metadata": {},
   "outputs": [
    {
     "name": "stdout",
     "output_type": "stream",
     "text": [
      "\n",
      "Currently Loaded Modules:\n",
      "  1) r/gcc/4.0.3\n",
      "\n",
      " \n",
      "\n"
     ]
    }
   ],
   "source": [
    "# Check modules, I always have R loaded for other reasons, you should not see this normally.\n",
    "module list"
   ]
  },
  {
   "cell_type": "code",
   "execution_count": 4,
   "metadata": {},
   "outputs": [
    {
     "name": "stdout",
     "output_type": "stream",
     "text": [
      "\n",
      "--------------------------- /share/apps/modulefiles ----------------------------\n",
      "   bwa-mem2/2.1    bwa/intel/0.7.17\n"
     ]
    }
   ],
   "source": [
    "# Where's our BWA?\n",
    "module purge\n",
    "module avail bwa"
   ]
  },
  {
   "cell_type": "code",
   "execution_count": 8,
   "metadata": {},
   "outputs": [
    {
     "name": "stdout",
     "output_type": "stream",
     "text": [
      "[main] unrecognized command '--version'\n"
     ]
    },
    {
     "ename": "",
     "evalue": "1",
     "output_type": "error",
     "traceback": []
    }
   ],
   "source": [
    "module load bwa/intel/0.7.17\n",
    "bwa --version\n",
    "# Welps... I usually use the --version flag to check if a program is available\n",
    "# but it seems that bwa does not have it\n",
    "# the result still shows that it's available now though"
   ]
  },
  {
   "cell_type": "code",
   "execution_count": 9,
   "metadata": {},
   "outputs": [
    {
     "name": "stdout",
     "output_type": "stream",
     "text": [
      "bash: bwaa: command not found\n"
     ]
    },
    {
     "ename": "",
     "evalue": "127",
     "output_type": "error",
     "traceback": []
    }
   ],
   "source": [
    "# If a command is not available\n",
    "bwaa"
   ]
  },
  {
   "cell_type": "code",
   "execution_count": 10,
   "metadata": {},
   "outputs": [
    {
     "name": "stdout",
     "output_type": "stream",
     "text": [
      "ls (GNU coreutils) 8.30\n",
      "Copyright (C) 2018 Free Software Foundation, Inc.\n",
      "License GPLv3+: GNU GPL version 3 or later <https://gnu.org/licenses/gpl.html>.\n",
      "This is free software: you are free to change and redistribute it.\n",
      "There is NO WARRANTY, to the extent permitted by law.\n",
      "\n",
      "Written by Richard M. Stallman and David MacKenzie.\n"
     ]
    }
   ],
   "source": [
    "# What I was expecting\n",
    "ls --version"
   ]
  },
  {
   "cell_type": "code",
   "execution_count": 13,
   "metadata": {},
   "outputs": [
    {
     "name": "stdout",
     "output_type": "stream",
     "text": [
      "No manual entry for bwa\n",
      "No manual entry for index\n"
     ]
    },
    {
     "ename": "",
     "evalue": "16",
     "output_type": "error",
     "traceback": []
    }
   ],
   "source": [
    "man bwa index"
   ]
  },
  {
   "cell_type": "code",
   "execution_count": 14,
   "metadata": {},
   "outputs": [
    {
     "name": "stdout",
     "output_type": "stream",
     "text": [
      "[bwa_index] Pack FASTA... 0.42 sec\n",
      "[bwa_index] Construct BWT for the packed sequence...\n",
      "[BWTIncCreate] textLength=128888334, availableWord=21068624\n",
      "[BWTIncConstructFromPacked] 10 iterations done. 34753182 characters processed.\n",
      "[BWTIncConstructFromPacked] 20 iterations done. 64202446 characters processed.\n",
      "[BWTIncConstructFromPacked] 30 iterations done. 90372990 characters processed.\n",
      "[BWTIncConstructFromPacked] 40 iterations done. 113629422 characters processed.\n",
      "[bwt_gen] Finished constructing BWT in 48 iterations.\n",
      "[bwa_index] 27.07 seconds elapse.\n",
      "[bwa_index] Update BWT... 0.29 sec\n",
      "[bwa_index] Pack forward-only FASTA... 0.25 sec\n",
      "[bwa_index] Construct SA from BWT and Occ... 11.71 sec\n",
      "[main] Version: 0.7.17-r1188\n",
      "[main] CMD: bwa index GCF_000001405.33_GRCh38.p7_chr20_genomic.fna\n",
      "[main] Real time: 40.440 sec; CPU: 39.754 sec\n"
     ]
    }
   ],
   "source": [
    "# Index the reference genome (what does this do?)\n",
    "\n",
    "cd data/align\n",
    "bwa index GCF_000001405.33_GRCh38.p7_chr20_genomic.fna"
   ]
  },
  {
   "cell_type": "code",
   "execution_count": 15,
   "metadata": {},
   "outputs": [
    {
     "name": "stdout",
     "output_type": "stream",
     "text": [
      "total 220289\n",
      "-rw-r-xr-- 1 ycc520 ycc520 65518251 Feb 18 07:43 GCF_000001405.33_GRCh38.p7_chr20_genomic.fna\n",
      "-rw-rw-r-- 1 ycc520 ycc520     1341 Feb 18 07:57 GCF_000001405.33_GRCh38.p7_chr20_genomic.fna.amb\n",
      "-rw-rw-r-- 1 ycc520 ycc520       50 Feb 18 07:57 GCF_000001405.33_GRCh38.p7_chr20_genomic.fna.ann\n",
      "-rw-rw-r-- 1 ycc520 ycc520 64444268 Feb 18 07:57 GCF_000001405.33_GRCh38.p7_chr20_genomic.fna.bwt\n",
      "-rw-rw-r-- 1 ycc520 ycc520 16111043 Feb 18 07:57 GCF_000001405.33_GRCh38.p7_chr20_genomic.fna.pac\n",
      "-rw-rw-r-- 1 ycc520 ycc520 32222136 Feb 18 07:57 GCF_000001405.33_GRCh38.p7_chr20_genomic.fna.sa\n",
      "-rw-r-xr-- 1 ycc520 ycc520 23476243 Feb 18 07:43 read_1.fastq\n",
      "-rw-r-xr-- 1 ycc520 ycc520 23476243 Feb 18 07:43 read_2.fastq\n"
     ]
    }
   ],
   "source": [
    "# The index files for the reference genome\n",
    "ls -l"
   ]
  },
  {
   "cell_type": "code",
   "execution_count": 19,
   "metadata": {},
   "outputs": [
    {
     "name": "stdout",
     "output_type": "stream",
     "text": [
      "[M::bwa_idx_load_from_disk] read 0 ALT contigs\n",
      "[M::process] read 100000 sequences (10000000 bp)...\n",
      "[M::process] read 94412 sequences (9441200 bp)...\n",
      "[M::mem_pestat] # candidate unique pairs for (FF, FR, RF, RR): (4, 39412, 0, 2)\n",
      "[M::mem_pestat] skip orientation FF as there are not enough pairs\n",
      "[M::mem_pestat] analyzing insert size distribution for orientation FR...\n",
      "[M::mem_pestat] (25, 50, 75) percentile: (323, 343, 363)\n",
      "[M::mem_pestat] low and high boundaries for computing mean and std.dev: (243, 443)\n",
      "[M::mem_pestat] mean and std.dev: (343.19, 26.73)\n",
      "[M::mem_pestat] low and high boundaries for proper pairs: (203, 483)\n",
      "[M::mem_pestat] skip orientation RF as there are not enough pairs\n",
      "[M::mem_pestat] skip orientation RR as there are not enough pairs\n",
      "[M::mem_process_seqs] Processed 100000 reads in 9.141 CPU sec, 9.193 real sec\n",
      "[M::mem_pestat] # candidate unique pairs for (FF, FR, RF, RR): (5, 37060, 0, 1)\n",
      "[M::mem_pestat] skip orientation FF as there are not enough pairs\n",
      "[M::mem_pestat] analyzing insert size distribution for orientation FR...\n",
      "[M::mem_pestat] (25, 50, 75) percentile: (323, 343, 363)\n",
      "[M::mem_pestat] low and high boundaries for computing mean and std.dev: (243, 443)\n",
      "[M::mem_pestat] mean and std.dev: (343.37, 26.81)\n",
      "[M::mem_pestat] low and high boundaries for proper pairs: (203, 483)\n",
      "[M::mem_pestat] skip orientation RF as there are not enough pairs\n",
      "[M::mem_pestat] skip orientation RR as there are not enough pairs\n",
      "[M::mem_process_seqs] Processed 94412 reads in 8.257 CPU sec, 8.305 real sec\n",
      "[main] Version: 0.7.17-r1188\n",
      "[main] CMD: bwa mem GCF_000001405.33_GRCh38.p7_chr20_genomic.fna read_1.fastq read_2.fastq\n",
      "[main] Real time: 17.850 sec; CPU: 17.558 sec\n"
     ]
    }
   ],
   "source": [
    "# Now let's do the real thing\n",
    "\n",
    "bwa mem GCF_000001405.33_GRCh38.p7_chr20_genomic.fna read_1.fastq read_2.fastq > ../../int/aligned_reads.sam"
   ]
  },
  {
   "cell_type": "code",
   "execution_count": 20,
   "metadata": {},
   "outputs": [
    {
     "name": "stdout",
     "output_type": "stream",
     "text": [
      "@SQ\tSN:NC_000020.11\tLN:64444167\n",
      "@PG\tID:bwa\tPN:bwa\tVN:0.7.17-r1188\tCL:bwa mem GCF_000001405.33_GRCh38.p7_chr20_genomic.fna read_1.fastq read_2.fastq\n",
      "HS2000-940_146:5:1101:1161:63226\t73\tNC_000020.11\t23775298\t60\t78M22S\t=\t23775298\t0\tCTGNTAGCCCTGCTGAATCTCCCTCCTGACCCAACTCCCTCNTNNNNNNNGCTGGGTGACTGCTGNCNNCACNGGCTGTGNNNNNNNNNNNNNCAGCTGG\t?@@#4ADDDFDFFHIGGFCFHCHFGIHGCGHEHHEHD3?BH#0#######--5CEECG=?AEEHE###################################\tNM:i:13\tMD:Z:3G37C1C0T0A0C0T0C0T15T1C0T3T5\tAS:i:52\tXS:i:0\n",
      "HS2000-940_146:5:1101:1161:63226\t133\tNC_000020.11\t23775298\t0\t*\t=\t23775298\t0\tNNCTCNNNNNNNNNNNNNNNNNNNNNNNNNNNNNNNNNNNNNNNNNNNNNNNNNNNNNNNNNNNNNNNNNNNNNNNNNNGNNNNCNAAAGGAGCCTGGGT\t####################################################################################################\tMC:Z:78M22S\tAS:i:0\tXS:i:0\n",
      "HS2000-940_146:5:1101:1262:12434\t99\tNC_000020.11\t23843774\t60\t100M\t=\t23843977\t258\tATCAATGGTGTTTCTTTGCCAAGCTTCCTTAGTCGCCTTTAATCGGGAAAAGGTCTTCATTCTTTCTTGTCTTTGTTACCCTGTCATTTTTGAAGATAAC\t?@@BDDFFFFHHHGHIIIHJEGHIIIGIJICHIGIIGIJIDHHGJJJ:;8EFH=CFHGGHIIIJJHHGBEHFFFFEEDCCCCEDCCADDEDD(5>5>@5@\tNM:i:0\tMD:Z:100\tMC:Z:55M45S\tAS:i:100\tXS:i:60\n",
      "HS2000-940_146:5:1101:1262:12434\t147\tNC_000020.11\t23843977\t60\t55M45S\t=\t23843774\t-258\tGTACATCATTCTGGGAGGCCAGGATACCATTGTCCAATTGCNNNNGGATGTTAATNNNNNNNNNNNNNNNNNNNNANNNNCTTCCNNNNNNNNCCACTCT\t#CDDCCC@38C<DDDDBBCDC;5ADDDCCACAADCC?=5,,####>CGHDC;;--####################1####FC<24########FDDD=B=\tNM:i:4\tMD:Z:41T0G0A0T10\tMC:Z:100M\tAS:i:47\tXS:i:28\n",
      "HS2000-940_146:5:1101:1295:90112\t83\tNC_000020.11\t23920564\t60\t100M\t=\t23920284\t-380\tGCAAGTGAATGCTCTTTCCCACAGCAAAGGATTAACTGATTTCTGCTACTTGTGGCTCAGAGGCCAGGGACACTTGACCTGTCCTAGGAAGGCTGTCACC\t#@DDDD@><DDDEEAC?FFFHHEC=HECEAIGGE@IIGGHB;HAFD??F?IIJIEGGCIIJJJIHCIIIIIHIIHECIJIIHIJJJIFGHHFFDFFF@C@\tNM:i:0\tMD:Z:100\tMC:Z:100M\tAS:i:100\tXS:i:0\n",
      "HS2000-940_146:5:1101:1295:90112\t163\tNC_000020.11\t23920284\t60\t100M\t=\t23920564\t380\tTGCCTTTCTNNACCGCCCACACTGTCACCCACNNNNNNTACACACTGGCTGGCAGTGGCCCCGGGAGCCAGGCCTCCCTGATAACTTGTTTTCTCTAAGT\t@@@FFFFFH##2<AAGHGDHHIGGIGGIJEEH######00?BB8AFHHIGCHGEE?=@DEDC>BB'83<98?12@?BBCDCD:>4:444:9ACCAA>>@C\tNM:i:9\tMD:Z:9G0A21A0A0G0G0C0A27C34\tMC:Z:100M\tAS:i:79\tXS:i:0\n",
      "HS2000-940_146:5:1101:1357:81190\t83\tNC_000020.11\t23913876\t60\t100M\t=\t23913621\t-355\tTGATGTGAATTCCTAACAGGAATTGGTGTAGGGGGCGGGCATGTGAACCGGCCCTGACCAATGAGACAGCAGGGGTGGTGAGCTGGGGAGTGGGTAGGAA\t4CDDDDCCC>>?@CCCCCCCCABACCCDDDDDDBCAEDEC>GHEHEGJJIJJIIGIEIJJJJJJJGJIJJJJIJJJIJHFIJJJJJJHHHHHFFFFFCCC\tNM:i:0\tMD:Z:100\tMC:Z:100M\tAS:i:100\tXS:i:44\n",
      "HS2000-940_146:5:1101:1357:81190\t163\tNC_000020.11\t23913621\t60\t100M\t=\t23913876\t355\tACAAAGAACTTTGTATTAACATGCCATATATACCTTTCTTCAATAAAAATCTATTCAAGGTGTATTAAAAATTATTGCCATTTTAACACATATATCCTTA\tB@CFFFFFHHFHHFHHGJJIIJIJJHJJIIJJJIIJJIJJIJJIGIJJJEGHGIJJIIJJFGF@GICEDGIHHIGGIEHIIJIIIHGFHEEFCEDCFCEE\tNM:i:1\tMD:Z:37T62\tMC:Z:100M\tAS:i:95\tXS:i:20\n"
     ]
    }
   ],
   "source": [
    "# What does the result look like?\n",
    "cd ../../int\n",
    "\n",
    "head aligned_reads.sam"
   ]
  },
  {
   "cell_type": "markdown",
   "metadata": {},
   "source": [
    "## What does alignment do?\n",
    "\n",
    "1. What if there are multiple matches?\n",
    "\n",
    "2. What if there are point mutations?\n",
    "\n",
    "2. What if there are deletions?\n",
    "\n",
    "3. What if there are splicing?"
   ]
  },
  {
   "cell_type": "markdown",
   "metadata": {},
   "source": [
    "## Prepare SAM files for further analysis\n",
    "\n",
    "- [SAM file format intro](https://learn.gencore.bio.nyu.edu/ngs-file-formats/sambam-format/)"
   ]
  },
  {
   "cell_type": "code",
   "execution_count": 24,
   "metadata": {},
   "outputs": [
    {
     "name": "stdout",
     "output_type": "stream",
     "text": [
      "total 63M\n",
      "drwxrwsr-x 2 ycc520 ycc520 4.0K Feb 18 02:02 align\n",
      "-rw-rw-r-- 1 ycc520 ycc520  63M Feb 18 07:59 aligned_reads.sam\n",
      "drwxrwsr-x 2 ycc520 ycc520 4.0K Feb 18 02:02 bam\n",
      "drwxrwsr-x 2 ycc520 ycc520 4.0K Feb 18 02:02 trim\n"
     ]
    }
   ],
   "source": [
    "ls -hl"
   ]
  },
  {
   "cell_type": "code",
   "execution_count": 29,
   "metadata": {},
   "outputs": [
    {
     "name": "stdout",
     "output_type": "stream",
     "text": [
      "\n",
      "--------------------------- /share/apps/modulefiles ----------------------------\n",
      "   samtools/intel/1.11\n"
     ]
    }
   ],
   "source": [
    "module avail samtools"
   ]
  },
  {
   "cell_type": "code",
   "execution_count": 30,
   "metadata": {},
   "outputs": [
    {
     "name": "stdout",
     "output_type": "stream",
     "text": [
      "samtools 1.11\n",
      "Using htslib 1.11\n",
      "Copyright (C) 2020 Genome Research Ltd.\n"
     ]
    }
   ],
   "source": [
    "module load samtools/intel/1.11\n",
    "samtools --version"
   ]
  },
  {
   "cell_type": "code",
   "execution_count": 34,
   "metadata": {},
   "outputs": [
    {
     "name": "stdout",
     "output_type": "stream",
     "text": [
      "HS2000-940_146:5:1101:1161:63226\t73\tNC_000020.11\t23775298\t60\t78M22S\t=\t23775298\t0\tCTGNTAGCCCTGCTGAATCTCCCTCCTGACCCAACTCCCTCNTNNNNNNNGCTGGGTGACTGCTGNCNNCACNGGCTGTGNNNNNNNNNNNNNCAGCTGG\t?@@#4ADDDFDFFHIGGFCFHCHFGIHGCGHEHHEHD3?BH#0#######--5CEECG=?AEEHE###################################\tNM:i:13\tMD:Z:3G37C1C0T0A0C0T0C0T15T1C0T3T5\tAS:i:52\tXS:i:0\n",
      "HS2000-940_146:5:1101:1161:63226\t133\tNC_000020.11\t23775298\t0\t*\t=\t23775298\t0\tNNCTCNNNNNNNNNNNNNNNNNNNNNNNNNNNNNNNNNNNNNNNNNNNNNNNNNNNNNNNNNNNNNNNNNNNNNNNNNNGNNNNCNAAAGGAGCCTGGGT\t####################################################################################################\tMC:Z:78M22S\tAS:i:0\tXS:i:0\n",
      "HS2000-940_146:5:1101:1262:12434\t99\tNC_000020.11\t23843774\t60\t100M\t=\t23843977\t258\tATCAATGGTGTTTCTTTGCCAAGCTTCCTTAGTCGCCTTTAATCGGGAAAAGGTCTTCATTCTTTCTTGTCTTTGTTACCCTGTCATTTTTGAAGATAAC\t?@@BDDFFFFHHHGHIIIHJEGHIIIGIJICHIGIIGIJIDHHGJJJ:;8EFH=CFHGGHIIIJJHHGBEHFFFFEEDCCCCEDCCADDEDD(5>5>@5@\tNM:i:0\tMD:Z:100\tMC:Z:55M45S\tAS:i:100\tXS:i:60\n",
      "HS2000-940_146:5:1101:1262:12434\t147\tNC_000020.11\t23843977\t60\t55M45S\t=\t23843774\t-258\tGTACATCATTCTGGGAGGCCAGGATACCATTGTCCAATTGCNNNNGGATGTTAATNNNNNNNNNNNNNNNNNNNNANNNNCTTCCNNNNNNNNCCACTCT\t#CDDCCC@38C<DDDDBBCDC;5ADDDCCACAADCC?=5,,####>CGHDC;;--####################1####FC<24########FDDD=B=\tNM:i:4\tMD:Z:41T0G0A0T10\tMC:Z:100M\tAS:i:47\tXS:i:28\n",
      "HS2000-940_146:5:1101:1295:90112\t83\tNC_000020.11\t23920564\t60\t100M\t=\t23920284\t-380\tGCAAGTGAATGCTCTTTCCCACAGCAAAGGATTAACTGATTTCTGCTACTTGTGGCTCAGAGGCCAGGGACACTTGACCTGTCCTAGGAAGGCTGTCACC\t#@DDDD@><DDDEEAC?FFFHHEC=HECEAIGGE@IIGGHB;HAFD??F?IIJIEGGCIIJJJIHCIIIIIHIIHECIJIIHIJJJIFGHHFFDFFF@C@\tNM:i:0\tMD:Z:100\tMC:Z:100M\tAS:i:100\tXS:i:0\n",
      "samtools view: writing to standard output failed: Broken pipe\n",
      "samtools view: error closing standard output: -1\n"
     ]
    }
   ],
   "source": [
    "# Sort the sam, what does this mean?\n",
    "samtools view aligned_reads.sam | head -n 5"
   ]
  },
  {
   "cell_type": "code",
   "execution_count": 35,
   "metadata": {},
   "outputs": [],
   "source": [
    "samtools sort aligned_reads.sam -o aligned_reads_sorted.sam"
   ]
  },
  {
   "cell_type": "code",
   "execution_count": 37,
   "metadata": {},
   "outputs": [
    {
     "name": "stdout",
     "output_type": "stream",
     "text": [
      "HS2000-940_146:5:2109:14063:29918\t161\tNC_000020.11\t64145\t2\t54S46M\t=\t23724989\t23660944\tTTCCAATCCATTCCATTCCATCACACTGCATTCCATTCCATTCCAATCCCCTCAACTCCACTCCACTCCACTCCATTCCACTCCAATCAATTCCATTGCA\t@CCFFFFFHGDHHJIJJJJJIJIFHHGCGIHHIJJJGHIHIIIJJIHIGGGHIJJE:FFHIGIDHJGIGGIJJ@;CDHGGEIHHHEHF;CCB>;;3;>;>\tNM:i:3\tMD:Z:6G27C8T2\tMC:Z:100M\tAS:i:33\tXS:i:31\tXA:Z:NC_000020.11,+60520,54S31M15S,0;NC_000020.11,+60582,56S29M15S,0;NC_000020.11,+64492,56S29M15S,0;NC_000020.11,+62105,85M15S,12;\n",
      "HS2000-940_146:5:2110:1521:37886\t163\tNC_000020.11\t1217420\t0\t55S21M24S\t=\t1217591\t271\tGACAGTTCTGAAGAGAGCAGGGGTTCTTCCAGCATTGCATTTGAGCTCCGAAAATGGACAGACTGCCTCCTCAAGTCGGTCCTTGACCTCCGTGCACCCT\t?7:DDD:B,+ADD43C?BF++<2<):**11*1:;C*0?0B?F>GCDBF30'-'-8@8..@1@E@;37@)?76@###########################\tNM:i:0\tMD:Z:21\tMC:Z:100M\tAS:i:21\tXS:i:34\tXA:Z:NC_000020.11,+22851991,88M12S,11;NC_000020.11,-23620838,66S34M,1;NC_000020.11,-35076707,12S32M56S,2;NC_000020.11,-16793280,12S36M52S,3;\n",
      "HS2000-940_146:5:2110:1521:37886\t83\tNC_000020.11\t1217591\t0\t100M\t=\t1217420\t-271\tATATCCAGACAAACAGGGTCTGGAGTAGACCTCCAGCAAATTCCAACAGACCTGCAGCTGAGGGTCCTGACTGTTAGAAGGAAAACTAACAAACAGAAAG\tCA@>9CA;5?@>6;;..1;77;3=77)75CCF=)>HG@>BB3GEIGFB??BHDIIIGBHGFC:13@ACF9CAA,@F?EDA4IGGGAGHHHGHEFFFD?@@\tNM:i:4\tMD:Z:3C4G17G13C59\tMC:Z:55S21M24S\tAS:i:81\tXS:i:81\n",
      "HS2000-940_146:5:1102:10582:53061\t113\tNC_000020.11\t1544082\t22\t100M\t=\t23852837\t22308739\tTTCTGTTGATTTGGGGTGGAGAGTTCTGTAGAGGTCTGTTAGGTCTGCTTGGTCCAGAGCTGAGCTCAAATCCTGAATATCCTTGTTAATTTTCTGTCTC\t###CCA:(>(;?:8;A>A>D@>D@=3=>7=@72@@AED@7BFCF?EIIF?0;IGAFD9HFD9D9@>E?9+<HCIGHEA?C3DDFDGBFD?C?DDAAD?;;\tNM:i:4\tMD:Z:32T4A26T4G30\tMC:Z:17S83M\tAS:i:80\tXS:i:70\tXA:Z:NC_000020.11,+24945365,100M,6;NC_000020.11,+25168529,100M,6;NC_000020.11,-13378546,100M,7;\n",
      "HS2000-940_146:5:1112:8371:47601\t99\tNC_000020.11\t2502086\t10\t100M\t=\t2502334\t348\tAACTAGAATAACCAATGCAGAGAAGTCCTTAAAGGACCTGATGGAGCTGAAAACCAAGGCACAAGAACTACGTGATGAATACACAAGCCTCAGTAGCCGA\tCCCFFFFFHHHHHIJIIJJJJGJJIHHIIJJJJIJGIJJIGGHGHHGGIIJJJJJJJGHGGGIIJIIGHHHGEDFEEFEEEEEEDDDBDDDCC>CCDDBB\tNM:i:5\tMD:Z:33A22T5G12C4G19\tMC:Z:100M\tAS:i:75\tXS:i:79\tXA:Z:NC_000020.11,+29023197,100M,5;NC_000020.11,-22992370,5S95M,4;NC_000020.11,-54906174,100M,6;NC_000020.11,-14466350,25S75M,1;\n",
      "samtools view: writing to standard output failed: Broken pipe\n",
      "samtools view: error closing standard output: -1\n"
     ]
    }
   ],
   "source": [
    "samtools view aligned_reads_sorted.sam | head -n 5"
   ]
  },
  {
   "cell_type": "code",
   "execution_count": 39,
   "metadata": {},
   "outputs": [
    {
     "name": "stdout",
     "output_type": "stream",
     "text": [
      "total 125M\n",
      "drwxrwsr-x 2 ycc520 ycc520 4.0K Feb 18 02:02 align\n",
      "-rw-rw-r-- 1 ycc520 ycc520  63M Feb 18 07:59 aligned_reads.sam\n",
      "-rw-rw-r-- 1 ycc520 ycc520  63M Feb 18 08:07 aligned_reads_sorted.sam\n",
      "drwxrwsr-x 2 ycc520 ycc520 4.0K Feb 18 02:02 bam\n",
      "drwxrwsr-x 2 ycc520 ycc520 4.0K Feb 18 02:02 trim\n"
     ]
    }
   ],
   "source": [
    "ls -lh"
   ]
  },
  {
   "cell_type": "code",
   "execution_count": 40,
   "metadata": {},
   "outputs": [],
   "source": [
    "samtools view -S -b aligned_reads_sorted.sam > aligned_reads_sorted.bam"
   ]
  },
  {
   "cell_type": "code",
   "execution_count": 41,
   "metadata": {},
   "outputs": [
    {
     "name": "stdout",
     "output_type": "stream",
     "text": [
      "total 125M\n",
      "drwxrwsr-x 2 ycc520 ycc520 4.0K Feb 18 02:02 align\n",
      "-rw-rw-r-- 1 ycc520 ycc520  63M Feb 18 07:59 aligned_reads.sam\n",
      "-rw-rw-r-- 1 ycc520 ycc520  16M Feb 18 08:11 aligned_reads_sorted.bam\n",
      "-rw-rw-r-- 1 ycc520 ycc520  63M Feb 18 08:07 aligned_reads_sorted.sam\n",
      "drwxrwsr-x 2 ycc520 ycc520 4.0K Feb 18 02:02 bam\n",
      "drwxrwsr-x 2 ycc520 ycc520 4.0K Feb 18 02:02 trim\n"
     ]
    }
   ],
   "source": [
    "ls -lh"
   ]
  },
  {
   "cell_type": "code",
   "execution_count": 42,
   "metadata": {},
   "outputs": [
    {
     "name": "stdout",
     "output_type": "stream",
     "text": [
      "��\u0017˲�9c\u0004Ŷl}�o�s��*Q}jY\u0006���15%J�,I�$K�sO����/\t���h~�vN�^��f'�����H}q��\u001e",
      "�\u0014�8sgOu����Y��\u000e\u0002��sN���`�����A\u0010�����}?~��A���<`/:�م��-|�t��_�|�r\u0017·����]pf�N�:�^4�����&<\u001f�X��dE�%�BH���\u0002�\u0016b�,���K\u001d",
      "?<\f",
      "\u000e]g\u0016\u001f:�,�\u000e�8v�G�w:\u001f���T�+HEł\u0014<_���s�&|Al�>���+8x�$*�&>��>�������ms:��eO���5���\n",
      "�\u0000:ϑ��dQ��vbgy\"$\u001c",
      "���8�j�,RM\u0012\u0014U�'I;;��` ���7\u0010�Lz��ReBx�s�$�B�:�\f",
      "�L-��vyU�&�\u0000�j*����q�,8\u0011�ԀC�+�\u000e��\u0013�\u0005)9�2|��Bw6��\u0007ax��'\u0007\u0017_��Y\u0014F�{�'�\u0019\u00078a\u0014{�|��\u0012�\u0004��x\u000fv���\u001d",
      "���9]�\u0005�ϟ|�'�ƽx��NG\u0014��s��\u0016e�\t�\n",
      "%M�d]�_\u0013~\"\u000f&�SU���\u00011),ԶM�d[���S����l(b<�6,\\S(��n\u0011\u0010\u0000Ut]�tE�ZA�g~�g��7cj\u0019��=���\u0007)|�e��c?���\u0000�� �p���\t�\u001bo|�\u0001�\u0003��~5z��72��\u0007�\u000e��\u0016��\u001f-e��ju�`ӹw\u001c",
      "�=�{�s�G�\u00161g\u000b",
      "\\�\u0013q\u001c",
      "\u001c",
      "jN\u0000%\u0013S�\u0006�\"�\u0012>7J1\u0011y�[�$\u0013hB[Ë\u000f����Zhc����>�U� P\u001e",
      "0����\u001a[�O�v�X�n\u001a\u0006��\u0007\u0018\u0010\u0002�)�)�o\t��\u0006��K\\�,8v\\T�x��?\u001bd���2�g���Q-����\u0007��z\u0011\u0018��889�/�\u001c",
      "�1(^�_�\u0005�\u001f�`\u001b\u000e��4\n",
      "�lt�zE��&�e�\t�1o�t�7mBR�eNKN\u0000ѧ\u0002\u0018Z�}�r\u001c",
      "�텐�\u0015؃$\u0001k\f",
      "�/_p)I�&o\u0011�\u0017h3Ňa6ΐ99\u0010����m\u001bE\u000e�\u0006���$Q���d�@���9i��g{�~\u0012����9���K�#'X���@�/�n��?ά��A\u0001�`)�4zEwxsўtg�\u0004f�����f�a� �\u0010�e�D��\u0015g� �*Im!\u0001�V����\u0012l��Q��H!r%\u000fF�\u0003e�ENי�P��w�dP\t��԰���2m�}5\u0002@�D�#�T��NQc�\u0014�ֶ����9D\u0001���u�ټ\u001e",
      "� ���/��\u000b",
      "�fG��,��\n",
      "�\u0019 ���Y�[=�c\\Ca�����V'=?�KaD(\f",
      "�\u0010�\u000et�\t�Y�2i��˜\u0013��s�ȑ��l\u001b�?\u000fB\u0011\t\u001e",
      "Y��b.p|�\u0017\u001c",
      "G\u0017\u0005�5\n",
      "�W�ci\u0012�\u001d",
      "5�\u001a#:&���\u001e",
      "e'\u000fl�A�iL�)�<a�a��X���a�����h�)\n",
      "X{E*��h\u0019xʉ\u0019�\u00011�\u0013�i\u0001ךd\u001d",
      "�[C�5mm.;\u0004�~s��,X����((\t�ݟ��g�\u0000�\u000b",
      "�\u0000��0��\u0014�WM�h�\u0006Kƕ�B=��\u001f��?r�{�Rr�\u000b",
      "�]_��(���L����k��L�\u0005�\u001a}�[*.�\u001c",
      "���7�}\u0016�\u0004b*�6��p\n",
      "��X7���\u0006��i�\u0001�xq�֧�*�\u001c",
      "$U���\u0014���\u0013�ZT\"YT\\*�U��Ib�«�\u0016D��Y��~�\u0006\u0018��kF�\n",
      "\u0011��\u000e��|)�\u001bv\u0015<,\u001e",
      "g�}ˀ-7��Q�\u0003Z��1؆Q�\u000b",
      "sٍ/G��2X�\u0000\u001a��;\n",
      "/ڀ��M�\u0001,�\u0013�\tϗ>��ǻ/��l��\u001e",
      "(��D�a���Y��\u001a%\u0010��/J�Sa\u00010\u0018��BL�<����(�Ă\n"
     ]
    }
   ],
   "source": [
    "head aligned_reads_sorted.bam"
   ]
  },
  {
   "cell_type": "code",
   "execution_count": 43,
   "metadata": {},
   "outputs": [
    {
     "name": "stdout",
     "output_type": "stream",
     "text": [
      "HS2000-940_146:5:2109:14063:29918\t161\tNC_000020.11\t64145\t2\t54S46M\t=\t23724989\t23660944\tTTCCAATCCATTCCATTCCATCACACTGCATTCCATTCCATTCCAATCCCCTCAACTCCACTCCACTCCACTCCATTCCACTCCAATCAATTCCATTGCA\t@CCFFFFFHGDHHJIJJJJJIJIFHHGCGIHHIJJJGHIHIIIJJIHIGGGHIJJE:FFHIGIDHJGIGGIJJ@;CDHGGEIHHHEHF;CCB>;;3;>;>\tNM:i:3\tMD:Z:6G27C8T2\tMC:Z:100M\tAS:i:33\tXS:i:31\tXA:Z:NC_000020.11,+60520,54S31M15S,0;NC_000020.11,+60582,56S29M15S,0;NC_000020.11,+64492,56S29M15S,0;NC_000020.11,+62105,85M15S,12;\n",
      "HS2000-940_146:5:2110:1521:37886\t163\tNC_000020.11\t1217420\t0\t55S21M24S\t=\t1217591\t271\tGACAGTTCTGAAGAGAGCAGGGGTTCTTCCAGCATTGCATTTGAGCTCCGAAAATGGACAGACTGCCTCCTCAAGTCGGTCCTTGACCTCCGTGCACCCT\t?7:DDD:B,+ADD43C?BF++<2<):**11*1:;C*0?0B?F>GCDBF30'-'-8@8..@1@E@;37@)?76@###########################\tNM:i:0\tMD:Z:21\tMC:Z:100M\tAS:i:21\tXS:i:34\tXA:Z:NC_000020.11,+22851991,88M12S,11;NC_000020.11,-23620838,66S34M,1;NC_000020.11,-35076707,12S32M56S,2;NC_000020.11,-16793280,12S36M52S,3;\n",
      "HS2000-940_146:5:2110:1521:37886\t83\tNC_000020.11\t1217591\t0\t100M\t=\t1217420\t-271\tATATCCAGACAAACAGGGTCTGGAGTAGACCTCCAGCAAATTCCAACAGACCTGCAGCTGAGGGTCCTGACTGTTAGAAGGAAAACTAACAAACAGAAAG\tCA@>9CA;5?@>6;;..1;77;3=77)75CCF=)>HG@>BB3GEIGFB??BHDIIIGBHGFC:13@ACF9CAA,@F?EDA4IGGGAGHHHGHEFFFD?@@\tNM:i:4\tMD:Z:3C4G17G13C59\tMC:Z:55S21M24S\tAS:i:81\tXS:i:81\n",
      "HS2000-940_146:5:1102:10582:53061\t113\tNC_000020.11\t1544082\t22\t100M\t=\t23852837\t22308739\tTTCTGTTGATTTGGGGTGGAGAGTTCTGTAGAGGTCTGTTAGGTCTGCTTGGTCCAGAGCTGAGCTCAAATCCTGAATATCCTTGTTAATTTTCTGTCTC\t###CCA:(>(;?:8;A>A>D@>D@=3=>7=@72@@AED@7BFCF?EIIF?0;IGAFD9HFD9D9@>E?9+<HCIGHEA?C3DDFDGBFD?C?DDAAD?;;\tNM:i:4\tMD:Z:32T4A26T4G30\tMC:Z:17S83M\tAS:i:80\tXS:i:70\tXA:Z:NC_000020.11,+24945365,100M,6;NC_000020.11,+25168529,100M,6;NC_000020.11,-13378546,100M,7;\n",
      "HS2000-940_146:5:1112:8371:47601\t99\tNC_000020.11\t2502086\t10\t100M\t=\t2502334\t348\tAACTAGAATAACCAATGCAGAGAAGTCCTTAAAGGACCTGATGGAGCTGAAAACCAAGGCACAAGAACTACGTGATGAATACACAAGCCTCAGTAGCCGA\tCCCFFFFFHHHHHIJIIJJJJGJJIHHIIJJJJIJGIJJIGGHGHHGGIIJJJJJJJGHGGGIIJIIGHHHGEDFEEFEEEEEEDDDBDDDCC>CCDDBB\tNM:i:5\tMD:Z:33A22T5G12C4G19\tMC:Z:100M\tAS:i:75\tXS:i:79\tXA:Z:NC_000020.11,+29023197,100M,5;NC_000020.11,-22992370,5S95M,4;NC_000020.11,-54906174,100M,6;NC_000020.11,-14466350,25S75M,1;\n",
      "samtools view: writing to standard output failed: Broken pipe\n",
      "samtools view: error closing standard output: -1\n"
     ]
    }
   ],
   "source": [
    "samtools view aligned_reads_sorted.bam | head -n 5"
   ]
  },
  {
   "cell_type": "code",
   "execution_count": 58,
   "metadata": {},
   "outputs": [
    {
     "name": "stdout",
     "output_type": "stream",
     "text": [
      "[main_samview] region \"2500000-2600000\" specifies an invalid region or unknown reference. Continue anyway.\n"
     ]
    }
   ],
   "source": [
    "samtools view aligned_reads_sorted.bam 2500000-2600000"
   ]
  },
  {
   "cell_type": "code",
   "execution_count": 52,
   "metadata": {},
   "outputs": [],
   "source": [
    "# Index the bam\n",
    "samtools index aligned_reads_sorted.bam"
   ]
  },
  {
   "cell_type": "code",
   "execution_count": 53,
   "metadata": {
    "scrolled": true
   },
   "outputs": [
    {
     "name": "stdout",
     "output_type": "stream",
     "text": [
      "total 141M\n",
      "drwxrwsr-x 2 ycc520 ycc520 4.0K Feb 18 02:02 align\n",
      "-rw-rw-r-- 1 ycc520 ycc520  63M Feb 18 07:59 aligned_reads.sam\n",
      "-rw-rw-r-- 1 ycc520 ycc520  16M Feb 18 08:11 aligned_reads_sorted.bam\n",
      "-rw-rw-r-- 1 ycc520 ycc520  38K Feb 18 08:13 aligned_reads_sorted.bam.bai\n",
      "-rw-rw-r-- 1 ycc520 ycc520  63M Feb 18 08:07 aligned_reads_sorted.sam\n",
      "drwxrwsr-x 2 ycc520 ycc520 4.0K Feb 18 02:02 bam\n",
      "drwxrwsr-x 2 ycc520 ycc520 4.0K Feb 18 02:02 trim\n"
     ]
    }
   ],
   "source": [
    "ls -lh"
   ]
  },
  {
   "cell_type": "code",
   "execution_count": 62,
   "metadata": {},
   "outputs": [
    {
     "name": "stdout",
     "output_type": "stream",
     "text": [
      "[main_samview] incorrect number of arguments for -X option. Aborting.\n"
     ]
    }
   ],
   "source": [
    "samtools view -X aligned_reads_sorted.bam | head -n 5"
   ]
  },
  {
   "cell_type": "code",
   "execution_count": 67,
   "metadata": {},
   "outputs": [
    {
     "name": "stdout",
     "output_type": "stream",
     "text": [
      "194483 + 0 in total (QC-passed reads + QC-failed reads)\n",
      "0 + 0 secondary\n",
      "71 + 0 supplementary\n",
      "0 + 0 duplicates\n",
      "193795 + 0 mapped (99.65% : N/A)\n",
      "194412 + 0 paired in sequencing\n",
      "97206 + 0 read1\n",
      "97206 + 0 read2\n",
      "190810 + 0 properly paired (98.15% : N/A)\n",
      "193108 + 0 with itself and mate mapped\n",
      "616 + 0 singletons (0.32% : N/A)\n",
      "0 + 0 with mate mapped to a different chr\n",
      "0 + 0 with mate mapped to a different chr (mapQ>=5)\n"
     ]
    }
   ],
   "source": [
    "samtools flagstat aligned_reads_sorted.bam"
   ]
  },
  {
   "cell_type": "code",
   "execution_count": 68,
   "metadata": {},
   "outputs": [
    {
     "name": "stdout",
     "output_type": "stream",
     "text": [
      "\n",
      "--------------------------- /share/apps/modulefiles ----------------------------\n",
      "   trimgalore/0.6.6    trimmomatic/0.36    trimmomatic/0.39\n"
     ]
    }
   ],
   "source": [
    "# Trimming\n",
    "module avail trim"
   ]
  },
  {
   "cell_type": "code",
   "execution_count": 71,
   "metadata": {},
   "outputs": [
    {
     "name": "stdout",
     "output_type": "stream",
     "text": [
      "bash: trimmomatic: command not found\n"
     ]
    },
    {
     "ename": "",
     "evalue": "127",
     "output_type": "error",
     "traceback": []
    }
   ],
   "source": [
    "module load trimmomatic/0.39\n",
    "trimmomatic --version\n",
    "# Because trimmomatic is a JAVA application..."
   ]
  },
  {
   "cell_type": "code",
   "execution_count": 72,
   "metadata": {},
   "outputs": [
    {
     "name": "stdout",
     "output_type": "stream",
     "text": [
      "TRIMMOMATIC_HOME=/share/apps/trimmomatic/0.39\n",
      "TRIMMOMATIC_JAR=/share/apps/trimmomatic/0.39/trimmomatic-0.39.jar\n",
      "LMOD_FAMILY_TRIMMOMATIC_VERSION=0.39\n",
      "LMOD_FAMILY_TRIMMOMATIC=trimmomatic\n",
      "TRIMMOMATIC_ROOT=/share/apps/trimmomatic/0.39\n"
     ]
    }
   ],
   "source": [
    "# JAVA apps are versatile and cross-platform, but a bit tricky to use (at least for me)\n",
    "# Environmental variable are provided on Greene to make things easier\n",
    "# Show trimmomatic-related environmental variables\n",
    "env | grep TRIM"
   ]
  },
  {
   "cell_type": "code",
   "execution_count": 73,
   "metadata": {},
   "outputs": [
    {
     "name": "stdout",
     "output_type": "stream",
     "text": [
      "/scratch/ycc520/ag_recitation/wk3/int\n"
     ]
    }
   ],
   "source": [
    "pwd"
   ]
  },
  {
   "cell_type": "code",
   "execution_count": 79,
   "metadata": {},
   "outputs": [],
   "source": [
    "cd ../data/align"
   ]
  },
  {
   "cell_type": "code",
   "execution_count": 80,
   "metadata": {},
   "outputs": [
    {
     "name": "stdout",
     "output_type": "stream",
     "text": [
      "total 220289\n",
      "-rw-r-xr-- 1 ycc520 ycc520 65518251 Feb 18 07:43 GCF_000001405.33_GRCh38.p7_chr20_genomic.fna\n",
      "-rw-rw-r-- 1 ycc520 ycc520     1341 Feb 18 07:57 GCF_000001405.33_GRCh38.p7_chr20_genomic.fna.amb\n",
      "-rw-rw-r-- 1 ycc520 ycc520       50 Feb 18 07:57 GCF_000001405.33_GRCh38.p7_chr20_genomic.fna.ann\n",
      "-rw-rw-r-- 1 ycc520 ycc520 64444268 Feb 18 07:57 GCF_000001405.33_GRCh38.p7_chr20_genomic.fna.bwt\n",
      "-rw-rw-r-- 1 ycc520 ycc520 16111043 Feb 18 07:57 GCF_000001405.33_GRCh38.p7_chr20_genomic.fna.pac\n",
      "-rw-rw-r-- 1 ycc520 ycc520 32222136 Feb 18 07:57 GCF_000001405.33_GRCh38.p7_chr20_genomic.fna.sa\n",
      "-rw-r-xr-- 1 ycc520 ycc520 23476243 Feb 18 07:43 read_1.fastq\n",
      "-rw-r-xr-- 1 ycc520 ycc520 23476243 Feb 18 07:43 read_2.fastq\n"
     ]
    }
   ],
   "source": [
    "ls -l"
   ]
  },
  {
   "cell_type": "code",
   "execution_count": 81,
   "metadata": {},
   "outputs": [
    {
     "name": "stdout",
     "output_type": "stream",
     "text": [
      "TrimmomaticPE: Started with arguments:\n",
      " -phred33 read_1.fastq read_2.fastq read_1_trimmed.fq read_1_unpair_trimmed.fq read_2_trimmed.fq read_2_unpair_trimmed.fq HEADCROP:15 TRAILING:3 SLIDINGWINDOW:4:15 MINLEN:36\n",
      "Input Read Pairs: 97206 Both Surviving: 88187 (90.72%) Forward Only Surviving: 5936 (6.11%) Reverse Only Surviving: 1671 (1.72%) Dropped: 1412 (1.45%)\n",
      "TrimmomaticPE: Completed successfully\n"
     ]
    }
   ],
   "source": [
    "# Normal version\n",
    "java -jar /share/apps/trimmomatic/0.39/trimmomatic-0.39.jar PE -phred33 \\\n",
    "read_1.fastq read_2.fastq \\\n",
    "read_1_trimmed.fq read_1_unpair_trimmed.fq \\\n",
    "read_2_trimmed.fq read_2_unpair_trimmed.fq \\\n",
    "HEADCROP:15 TRAILING:3 SLIDINGWINDOW:4:15 MINLEN:36"
   ]
  },
  {
   "cell_type": "code",
   "execution_count": 82,
   "metadata": {},
   "outputs": [
    {
     "name": "stdout",
     "output_type": "stream",
     "text": [
      "TrimmomaticPE: Started with arguments:\n",
      " -phred33 read_1.fastq read_2.fastq read_1_trimmed.fq read_1_unpair_trimmed.fq read_2_trimmed.fq read_2_unpair_trimmed.fq HEADCROP:15 TRAILING:3 SLIDINGWINDOW:4:15 MINLEN:36\n",
      "Input Read Pairs: 97206 Both Surviving: 88187 (90.72%) Forward Only Surviving: 5936 (6.11%) Reverse Only Surviving: 1671 (1.72%) Dropped: 1412 (1.45%)\n",
      "TrimmomaticPE: Completed successfully\n"
     ]
    }
   ],
   "source": [
    "# environmental variables help. (Sort of)\n",
    "java -jar $TRIMMOMATIC_JAR PE -phred33 \\\n",
    "read_1.fastq read_2.fastq \\\n",
    "read_1_trimmed.fq read_1_unpair_trimmed.fq \\\n",
    "read_2_trimmed.fq read_2_unpair_trimmed.fq \\\n",
    "HEADCROP:15 TRAILING:3 SLIDINGWINDOW:4:15 MINLEN:36"
   ]
  },
  {
   "cell_type": "code",
   "execution_count": 83,
   "metadata": {},
   "outputs": [
    {
     "name": "stdout",
     "output_type": "stream",
     "text": [
      "total 252M\n",
      "-rw-r-xr-- 1 ycc520 ycc520  63M Feb 18 07:43 GCF_000001405.33_GRCh38.p7_chr20_genomic.fna\n",
      "-rw-rw-r-- 1 ycc520 ycc520 1.4K Feb 18 07:57 GCF_000001405.33_GRCh38.p7_chr20_genomic.fna.amb\n",
      "-rw-rw-r-- 1 ycc520 ycc520   50 Feb 18 07:57 GCF_000001405.33_GRCh38.p7_chr20_genomic.fna.ann\n",
      "-rw-rw-r-- 1 ycc520 ycc520  62M Feb 18 07:57 GCF_000001405.33_GRCh38.p7_chr20_genomic.fna.bwt\n",
      "-rw-rw-r-- 1 ycc520 ycc520  16M Feb 18 07:57 GCF_000001405.33_GRCh38.p7_chr20_genomic.fna.pac\n",
      "-rw-rw-r-- 1 ycc520 ycc520  31M Feb 18 07:57 GCF_000001405.33_GRCh38.p7_chr20_genomic.fna.sa\n",
      "-rw-r-xr-- 1 ycc520 ycc520  23M Feb 18 07:43 read_1.fastq\n",
      "-rw-rw-r-- 1 ycc520 ycc520  18M Feb 18 08:27 read_1_trimmed.fq\n",
      "-rw-rw-r-- 1 ycc520 ycc520 1.1M Feb 18 08:27 read_1_unpair_trimmed.fq\n",
      "-rw-r-xr-- 1 ycc520 ycc520  23M Feb 18 07:43 read_2.fastq\n",
      "-rw-rw-r-- 1 ycc520 ycc520  18M Feb 18 08:27 read_2_trimmed.fq\n",
      "-rw-rw-r-- 1 ycc520 ycc520 298K Feb 18 08:27 read_2_unpair_trimmed.fq\n"
     ]
    }
   ],
   "source": [
    "ls -lh"
   ]
  },
  {
   "cell_type": "code",
   "execution_count": 86,
   "metadata": {},
   "outputs": [
    {
     "name": "stdout",
     "output_type": "stream",
     "text": [
      "[M::bwa_idx_load_from_disk] read 0 ALT contigs\n",
      "[M::process] read 121938 sequences (10000101 bp)...\n",
      "[M::process] read 54436 sequences (4487916 bp)...\n",
      "[M::mem_pestat] # candidate unique pairs for (FF, FR, RF, RR): (5, 45565, 0, 3)\n",
      "[M::mem_pestat] skip orientation FF as there are not enough pairs\n",
      "[M::mem_pestat] analyzing insert size distribution for orientation FR...\n",
      "[M::mem_pestat] (25, 50, 75) percentile: (293, 313, 333)\n",
      "[M::mem_pestat] low and high boundaries for computing mean and std.dev: (213, 413)\n",
      "[M::mem_pestat] mean and std.dev: (313.06, 26.68)\n",
      "[M::mem_pestat] low and high boundaries for proper pairs: (173, 453)\n",
      "[M::mem_pestat] skip orientation RF as there are not enough pairs\n",
      "[M::mem_pestat] skip orientation RR as there are not enough pairs\n",
      "[M::mem_process_seqs] Processed 121938 reads in 7.877 CPU sec, 7.924 real sec\n",
      "[M::mem_pestat] # candidate unique pairs for (FF, FR, RF, RR): (1, 20392, 0, 0)\n",
      "[M::mem_pestat] skip orientation FF as there are not enough pairs\n",
      "[M::mem_pestat] analyzing insert size distribution for orientation FR...\n",
      "[M::mem_pestat] (25, 50, 75) percentile: (293, 313, 333)\n",
      "[M::mem_pestat] low and high boundaries for computing mean and std.dev: (213, 413)\n",
      "[M::mem_pestat] mean and std.dev: (313.16, 26.82)\n",
      "[M::mem_pestat] low and high boundaries for proper pairs: (173, 453)\n",
      "[M::mem_pestat] skip orientation RF as there are not enough pairs\n",
      "[M::mem_pestat] skip orientation RR as there are not enough pairs\n",
      "[M::mem_process_seqs] Processed 54436 reads in 3.542 CPU sec, 3.568 real sec\n",
      "[main] Version: 0.7.17-r1188\n",
      "[main] CMD: bwa mem GCF_000001405.33_GRCh38.p7_chr20_genomic.fna read_1_trimmed.fq read_2_trimmed.fq\n",
      "[main] Real time: 11.861 sec; CPU: 11.564 sec\n"
     ]
    }
   ],
   "source": [
    "bwa mem GCF_000001405.33_GRCh38.p7_chr20_genomic.fna read_1_trimmed.fq read_2_trimmed.fq > \\\n",
    "../../int/trimmed_aligned_reads.sam"
   ]
  },
  {
   "cell_type": "code",
   "execution_count": 87,
   "metadata": {},
   "outputs": [],
   "source": [
    "cd ../../int"
   ]
  },
  {
   "cell_type": "code",
   "execution_count": null,
   "metadata": {},
   "outputs": [],
   "source": [
    "ls -"
   ]
  }
 ],
 "metadata": {
  "kernelspec": {
   "display_name": "Bash",
   "language": "bash",
   "name": "bash"
  },
  "language_info": {
   "codemirror_mode": "shell",
   "file_extension": ".sh",
   "mimetype": "text/x-sh",
   "name": "bash"
  }
 },
 "nbformat": 4,
 "nbformat_minor": 4
}
