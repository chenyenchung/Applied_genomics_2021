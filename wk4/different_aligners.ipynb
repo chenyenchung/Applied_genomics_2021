{
 "cells": [
  {
   "cell_type": "markdown",
   "metadata": {},
   "source": [
    "## The source of the GTF file used for STAR\n",
    "\n",
    "It is the official gene model file from the Gencode website matching the version of our reference genome (.fa file).\n",
    "\n",
    "- https://www.gencodegenes.org/human/release_25.html\n",
    "\n",
    "\n",
    "Since our reference genome only contains chromosome 20, entries from other chromosomes were discarded.\n",
    "\n",
    "\n",
    "```\n",
    "# Keep the header\n",
    "head -n 5 gencode.v25.annotation.gtf > chr20.gtf\n",
    "\n",
    "# Only keep entries on chr20\n",
    "head -n 5 gencode.v25.annotation.gtf > chr20.gtf\n",
    "```"
   ]
  },
  {
   "cell_type": "code",
   "execution_count": 32,
   "metadata": {},
   "outputs": [
    {
     "name": "stdout",
     "output_type": "stream",
     "text": [
      "GCF_000001405.33_GRCh38.p7_chr20_genomic.fna  read_1.fastq\n",
      "chr20.gtf\t\t\t\t      read_2.fastq\n"
     ]
    }
   ],
   "source": [
    "# Copy required dataset to working directory\n",
    "ls /scratch/work/courses/AppliedGenomics2021Sec3/week04_recitation"
   ]
  },
  {
   "cell_type": "code",
   "execution_count": 33,
   "metadata": {},
   "outputs": [
    {
     "name": "stdout",
     "output_type": "stream",
     "text": [
      "mkdir: cannot create directory ‘data’: File exists\n",
      "mkdir: cannot create directory ‘result’: File exists\n"
     ]
    },
    {
     "ename": "",
     "evalue": "1",
     "output_type": "error",
     "traceback": []
    }
   ],
   "source": [
    "# Create the working folder structure\n",
    "mkdir data result"
   ]
  },
  {
   "cell_type": "code",
   "execution_count": 2,
   "metadata": {},
   "outputs": [
    {
     "name": "stdout",
     "output_type": "stream",
     "text": [
      "data\n",
      "├── [  62M]  GCF_000001405.33_GRCh38.p7_chr20_genomic.fna\n",
      "├── [  22M]  read_1.fastq\n",
      "└── [  22M]  read_2.fastq\n",
      "\n",
      "0 directories, 3 files\n"
     ]
    }
   ],
   "source": [
    "# Copy the required files to our working folder\n",
    "\n",
    "cp /scratch/work/courses/AppliedGenomics2021Sec3/week04_recitation/* data\n",
    "tree data -h"
   ]
  },
  {
   "cell_type": "markdown",
   "metadata": {},
   "source": [
    "## The modules we are using today"
   ]
  },
  {
   "cell_type": "code",
   "execution_count": 11,
   "metadata": {},
   "outputs": [],
   "source": [
    "module purge\n",
    "module load trimmomatic/0.39\n",
    "module load star/intel/2.7.6a\n",
    "module load bowtie2/2.4.2\n",
    "module load samtools/intel/1.11"
   ]
  },
  {
   "cell_type": "markdown",
   "metadata": {},
   "source": [
    "## Trim the fastq files"
   ]
  },
  {
   "cell_type": "code",
   "execution_count": 36,
   "metadata": {},
   "outputs": [
    {
     "name": "stdout",
     "output_type": "stream",
     "text": [
      "TrimmomaticPE: Started with arguments:\n",
      " -phred33 read_1.fastq read_2.fastq read_1_trimmed.fq read_1_unpair_trimmed.fq read_2_trimmed.fq read_2_unpair_trimmed.fq HEADCROP:15 TRAILING:3 SLIDINGWINDOW:4:15 MINLEN:36\n",
      "Multiple cores found: Using 2 threads\n",
      "Input Read Pairs: 97206 Both Surviving: 88187 (90.72%) Forward Only Surviving: 5936 (6.11%) Reverse Only Surviving: 1671 (1.72%) Dropped: 1412 (1.45%)\n",
      "TrimmomaticPE: Completed successfully\n"
     ]
    }
   ],
   "source": [
    "cd data\n",
    "java -jar /share/apps/trimmomatic/0.39/trimmomatic-0.39.jar PE -phred33 \\\n",
    "read_1.fastq read_2.fastq \\\n",
    "read_1_trimmed.fq read_1_unpair_trimmed.fq \\\n",
    "read_2_trimmed.fq read_2_unpair_trimmed.fq \\\n",
    "HEADCROP:15 TRAILING:3 SLIDINGWINDOW:4:15 MINLEN:36\n",
    "\n",
    "cd .."
   ]
  },
  {
   "cell_type": "markdown",
   "metadata": {},
   "source": [
    "## STAR Aligner"
   ]
  },
  {
   "cell_type": "code",
   "execution_count": 9,
   "metadata": {},
   "outputs": [],
   "source": [
    "# Make a directory for STAR's reference genome\n",
    "mkdir data/hg38_chr20_basic"
   ]
  },
  {
   "cell_type": "markdown",
   "metadata": {},
   "source": [
    "### Building index for the reference genome"
   ]
  },
  {
   "cell_type": "code",
   "execution_count": 3,
   "metadata": {},
   "outputs": [
    {
     "name": "stdout",
     "output_type": "stream",
     "text": [
      "Feb 22 08:11:08 ..... started STAR run\n",
      "Feb 22 08:11:08 ... starting to generate Genome files\n",
      "Feb 22 08:11:09 ... starting to sort Suffix Array. This may take a long time...\n",
      "Feb 22 08:11:09 ... sorting Suffix Array chunks and saving them to disk...\n",
      "Feb 22 08:12:24 ... loading chunks from disk, packing SA...\n",
      "Feb 22 08:12:25 ... finished generating suffix array\n",
      "Feb 22 08:12:25 ... generating Suffix Array index\n",
      "Feb 22 08:12:29 ... completed Suffix Array index\n",
      "Feb 22 08:12:29 ... writing Genome to disk ...\n",
      "Feb 22 08:12:31 ... writing Suffix Array to disk ...\n",
      "Feb 22 08:12:32 ... writing SAindex to disk\n",
      "Feb 22 08:12:33 ..... finished successfully\n"
     ]
    }
   ],
   "source": [
    "STAR --runThreadN 1 \\ # The number of threads to use\n",
    "--runMode genomeGenerate \\ # Generating reference genome\n",
    "--genomeSAindexNbases 11 \\ # The nubmer index bases to use (the higher the number the more RAM is required)\n",
    "--genomeDir data/hg38_chr20_basic \\ # Path to save the output files\n",
    "--genomeFastaFiles data/GCF_000001405.33_GRCh38.p7_chr20_genomic.fna # The fasta file for the reference genome"
   ]
  },
  {
   "cell_type": "code",
   "execution_count": 12,
   "metadata": {},
   "outputs": [],
   "source": [
    "# Make a directory for alignment result\n",
    "mkdir result/STAR"
   ]
  },
  {
   "cell_type": "code",
   "execution_count": 8,
   "metadata": {},
   "outputs": [
    {
     "name": "stdout",
     "output_type": "stream",
     "text": [
      "Feb 22 08:14:52 ..... started STAR run\n",
      "Feb 22 08:14:52 ..... loading genome\n",
      "Feb 22 08:14:52 ..... started mapping\n",
      "Feb 22 08:15:18 ..... finished mapping\n",
      "Feb 22 08:15:18 ..... started sorting BAM\n",
      "Feb 22 08:15:21 ..... finished successfully\n"
     ]
    }
   ],
   "source": [
    "STAR --genomeDir ./data/hg38_chr20_basic \\ # The path to the indexed reference\n",
    "--runThreadN 1 \\ # The number of threads to use\n",
    "--readFilesIn ./data/read_1_trimmed.fq data/read_2_trimmed.fq \\ # The sequencing result\n",
    "--outFileNamePrefix ./result/STAR/ \\ # Path to save aligned files (SAM/BAM)\n",
    "--outSAMtype BAM SortedByCoordinate \\ # Output format\n",
    "--outSAMunmapped Within \\ # How to deal with the unmapped reads\n",
    "--outSAMattributes Standard # Tags to include for the aligned SAM/BAM file"
   ]
  },
  {
   "cell_type": "code",
   "execution_count": 10,
   "metadata": {},
   "outputs": [
    {
     "name": "stdout",
     "output_type": "stream",
     "text": [
      "196110 + 0 in total (QC-passed reads + QC-failed reads)\n",
      "1698 + 0 secondary\n",
      "0 + 0 supplementary\n",
      "0 + 0 duplicates\n",
      "193206 + 0 mapped (98.52% : N/A)\n",
      "194412 + 0 paired in sequencing\n",
      "97206 + 0 read1\n",
      "97206 + 0 read2\n",
      "191508 + 0 properly paired (98.51% : N/A)\n",
      "191508 + 0 with itself and mate mapped\n",
      "0 + 0 singletons (0.00% : N/A)\n",
      "0 + 0 with mate mapped to a different chr\n",
      "0 + 0 with mate mapped to a different chr (mapQ>=5)\n"
     ]
    }
   ],
   "source": [
    "# Inspect the result\n",
    "samtools flagstat result/STAR/Aligned.sortedByCoord.out.bam"
   ]
  },
  {
   "cell_type": "markdown",
   "metadata": {},
   "source": [
    "### Build a reference genome with prior knowledge of splicing junctions"
   ]
  },
  {
   "cell_type": "code",
   "execution_count": 15,
   "metadata": {},
   "outputs": [
    {
     "name": "stdout",
     "output_type": "stream",
     "text": [
      "Feb 22 08:23:12 ..... started STAR run\n",
      "Feb 22 08:23:12 ... starting to generate Genome files\n",
      "Feb 22 08:23:12 ..... processing annotations GTF\n",
      "Feb 22 08:23:13 ... starting to sort Suffix Array. This may take a long time...\n",
      "Feb 22 08:23:13 ... sorting Suffix Array chunks and saving them to disk...\n",
      "Feb 22 08:24:28 ... loading chunks from disk, packing SA...\n",
      "Feb 22 08:24:30 ... finished generating suffix array\n",
      "Feb 22 08:24:30 ... generating Suffix Array index\n",
      "Feb 22 08:24:33 ... completed Suffix Array index\n",
      "Feb 22 08:24:33 ..... inserting junctions into the genome indices\n",
      "Feb 22 08:24:39 ... writing Genome to disk ...\n",
      "Feb 22 08:24:39 ... writing Suffix Array to disk ...\n",
      "Feb 22 08:24:39 ... writing SAindex to disk\n",
      "Feb 22 08:24:39 ..... finished successfully\n"
     ]
    }
   ],
   "source": [
    "STAR --runThreadN 2 \\\n",
    "--runMode genomeGenerate \\\n",
    "--genomeSAindexNbases 11 \\\n",
    "--genomeDir data/hg38_chr20_sjdb \\\n",
    "--genomeFastaFiles data/GCF_000001405.33_GRCh38.p7_chr20_genomic.fna \\\n",
    "--sjdbGTFfile data/chr20.gtf \\\n",
    "--sjdbOverhang 99"
   ]
  },
  {
   "cell_type": "markdown",
   "metadata": {},
   "source": [
    "### Align with the new indexed reference"
   ]
  },
  {
   "cell_type": "code",
   "execution_count": 16,
   "metadata": {},
   "outputs": [
    {
     "name": "stdout",
     "output_type": "stream",
     "text": [
      "mkdir: cannot create directory ‘result/STARsjdb’: File exists\n",
      "Feb 22 08:24:40 ..... started STAR run\n",
      "Feb 22 08:24:40 ..... loading genome\n",
      "Feb 22 08:24:40 ..... started mapping\n",
      "Feb 22 08:25:06 ..... finished mapping\n",
      "Feb 22 08:25:07 ..... started sorting BAM\n",
      "Feb 22 08:25:08 ..... finished successfully\n"
     ]
    }
   ],
   "source": [
    "mkdir result/STARsjdb\n",
    "STAR --genomeDir ./data/hg38_chr20_basic \\\n",
    "--runThreadN 2 \\\n",
    "--readFilesIn ./data/read_1.fastq data/read_2.fastq \\\n",
    "--outFileNamePrefix ./result/STARsjdb/ \\\n",
    "--outSAMtype BAM SortedByCoordinate \\\n",
    "--outSAMunmapped Within \\\n",
    "--outSAMattributes Standard "
   ]
  },
  {
   "cell_type": "code",
   "execution_count": 17,
   "metadata": {},
   "outputs": [
    {
     "name": "stdout",
     "output_type": "stream",
     "text": [
      "196110 + 0 in total (QC-passed reads + QC-failed reads)\n",
      "1698 + 0 secondary\n",
      "0 + 0 supplementary\n",
      "0 + 0 duplicates\n",
      "193206 + 0 mapped (98.52% : N/A)\n",
      "194412 + 0 paired in sequencing\n",
      "97206 + 0 read1\n",
      "97206 + 0 read2\n",
      "191508 + 0 properly paired (98.51% : N/A)\n",
      "191508 + 0 with itself and mate mapped\n",
      "0 + 0 singletons (0.00% : N/A)\n",
      "0 + 0 with mate mapped to a different chr\n",
      "0 + 0 with mate mapped to a different chr (mapQ>=5)\n"
     ]
    }
   ],
   "source": [
    "# Inspect the result\n",
    "samtools flagstat result/STARsjdb/Aligned.sortedByCoord.out.bam"
   ]
  },
  {
   "cell_type": "markdown",
   "metadata": {},
   "source": [
    "## Bowtie2"
   ]
  },
  {
   "cell_type": "code",
   "execution_count": 19,
   "metadata": {},
   "outputs": [],
   "source": [
    "mkdir hg38_chr20_bowtie2"
   ]
  },
  {
   "cell_type": "code",
   "execution_count": 23,
   "metadata": {},
   "outputs": [],
   "source": [
    "cd data/hg38_chr20_bowtie2"
   ]
  },
  {
   "cell_type": "code",
   "execution_count": 25,
   "metadata": {},
   "outputs": [
    {
     "name": "stdout",
     "output_type": "stream",
     "text": [
      "Settings:\n",
      "  Output files: \"hg38_chr20_bowtie2.*.bt2\"\n",
      "  Line rate: 6 (line is 64 bytes)\n",
      "  Lines per side: 1 (side is 64 bytes)\n",
      "  Offset rate: 4 (one in 16)\n",
      "  FTable chars: 10\n",
      "  Strings: unpacked\n",
      "  Max bucket size: default\n",
      "  Max bucket size, sqrt multiplier: default\n",
      "  Max bucket size, len divisor: 4\n",
      "  Difference-cover sample period: 1024\n",
      "  Endianness: little\n",
      "  Actual local endianness: little\n",
      "  Sanity checking: disabled\n",
      "  Assertions: disabled\n",
      "  Random seed: 0\n",
      "  Sizeofs: void*:8, int:4, long:8, size_t:8\n",
      "Input files DNA, FASTA:\n",
      "  ../GCF_000001405.33_GRCh38.p7_chr20_genomic.fna\n",
      "Building a SMALL index\n",
      "Reading reference sizes\n",
      "  Time reading reference sizes: 00:00:00\n",
      "Calculating joined length\n",
      "Writing header\n",
      "Reserving space for joined string\n",
      "Joining reference sequences\n",
      "  Time to join reference sequences: 00:00:01\n",
      "bmax according to bmaxDivN setting: 15986064\n",
      "Using parameters --bmax 11989548 --dcv 1024\n",
      "  Doing ahead-of-time memory usage test\n",
      "  Passed!  Constructing with these parameters: --bmax 11989548 --dcv 1024\n",
      "Constructing suffix-array element generator\n",
      "Building DifferenceCoverSample\n",
      "  Building sPrime\n",
      "  Building sPrimeOrder\n",
      "  V-Sorting samples\n",
      "  V-Sorting samples time: 00:00:01\n",
      "  Allocating rank array\n",
      "  Ranking v-sort output\n",
      "  Ranking v-sort output time: 00:00:00\n",
      "  Invoking Larsson-Sadakane on ranks\n",
      "  Invoking Larsson-Sadakane on ranks time: 00:00:01\n",
      "  Sanity-checking and returning\n",
      "Building samples\n",
      "Reserving space for 12 sample suffixes\n",
      "Generating random suffixes\n",
      "QSorting 12 sample offsets, eliminating duplicates\n",
      "QSorting sample offsets, eliminating duplicates time: 00:00:00\n",
      "Multikey QSorting 12 samples\n",
      "  (Using difference cover)\n",
      "  Multikey QSorting samples time: 00:00:00\n",
      "Calculating bucket sizes\n",
      "Splitting and merging\n",
      "  Splitting and merging time: 00:00:00\n",
      "Avg bucket size: 6.39443e+07 (target: 11989547)\n",
      "Converting suffix-array elements to index image\n",
      "Allocating ftab, absorbFtab\n",
      "Entering Ebwt loop\n",
      "Getting block 1 of 1\n",
      "  No samples; assembling all-inclusive block\n",
      "  Sorting block of length 63944257 for bucket 1\n",
      "  (Using difference cover)\n",
      "  Sorting block time: 00:00:24\n",
      "Returning block of 63944258 for bucket 1\n",
      "Exited Ebwt loop\n",
      "fchr[A]: 0\n",
      "fchr[C]: 17867246\n",
      "fchr[G]: 31783379\n",
      "fchr[T]: 45877851\n",
      "fchr[$]: 63944257\n",
      "Exiting Ebwt::buildToDisk()\n",
      "Returning from initFromVector\n",
      "Wrote 25510344 bytes to primary EBWT file: hg38_chr20_bowtie2.1.bt2\n",
      "Wrote 15986072 bytes to secondary EBWT file: hg38_chr20_bowtie2.2.bt2\n",
      "Re-opening _in1 and _in2 as input streams\n",
      "Returning from Ebwt constructor\n",
      "Headers:\n",
      "    len: 63944257\n",
      "    bwtLen: 63944258\n",
      "    sz: 15986065\n",
      "    bwtSz: 15986065\n",
      "    lineRate: 6\n",
      "    offRate: 4\n",
      "    offMask: 0xfffffff0\n",
      "    ftabChars: 10\n",
      "    eftabLen: 20\n",
      "    eftabSz: 80\n",
      "    ftabLen: 1048577\n",
      "    ftabSz: 4194308\n",
      "    offsLen: 3996517\n",
      "    offsSz: 15986068\n",
      "    lineSz: 64\n",
      "    sideSz: 64\n",
      "    sideBwtSz: 48\n",
      "    sideBwtLen: 192\n",
      "    numSides: 333044\n",
      "    numLines: 333044\n",
      "    ebwtTotLen: 21314816\n",
      "    ebwtTotSz: 21314816\n",
      "    color: 0\n",
      "    reverse: 0\n",
      "Total time for call to driver() for forward index: 00:00:34\n",
      "Reading reference sizes\n",
      "  Time reading reference sizes: 00:00:00\n",
      "Calculating joined length\n",
      "Writing header\n",
      "Reserving space for joined string\n",
      "Joining reference sequences\n",
      "  Time to join reference sequences: 00:00:01\n",
      "  Time to reverse reference sequence: 00:00:00\n",
      "bmax according to bmaxDivN setting: 15986064\n",
      "Using parameters --bmax 11989548 --dcv 1024\n",
      "  Doing ahead-of-time memory usage test\n",
      "  Passed!  Constructing with these parameters: --bmax 11989548 --dcv 1024\n",
      "Constructing suffix-array element generator\n",
      "Building DifferenceCoverSample\n",
      "  Building sPrime\n",
      "  Building sPrimeOrder\n",
      "  V-Sorting samples\n",
      "  V-Sorting samples time: 00:00:01\n",
      "  Allocating rank array\n",
      "  Ranking v-sort output\n",
      "  Ranking v-sort output time: 00:00:00\n",
      "  Invoking Larsson-Sadakane on ranks\n",
      "  Invoking Larsson-Sadakane on ranks time: 00:00:01\n",
      "  Sanity-checking and returning\n",
      "Building samples\n",
      "Reserving space for 12 sample suffixes\n",
      "Generating random suffixes\n",
      "QSorting 12 sample offsets, eliminating duplicates\n",
      "QSorting sample offsets, eliminating duplicates time: 00:00:00\n",
      "Multikey QSorting 12 samples\n",
      "  (Using difference cover)\n",
      "  Multikey QSorting samples time: 00:00:00\n",
      "Calculating bucket sizes\n",
      "Splitting and merging\n",
      "  Splitting and merging time: 00:00:00\n",
      "Avg bucket size: 6.39443e+07 (target: 11989547)\n",
      "Converting suffix-array elements to index image\n",
      "Allocating ftab, absorbFtab\n",
      "Entering Ebwt loop\n",
      "Getting block 1 of 1\n",
      "  No samples; assembling all-inclusive block\n",
      "  Sorting block of length 63944257 for bucket 1\n",
      "  (Using difference cover)\n",
      "  Sorting block time: 00:00:24\n",
      "Returning block of 63944258 for bucket 1\n",
      "Exited Ebwt loop\n",
      "fchr[A]: 0\n",
      "fchr[C]: 17867246\n",
      "fchr[G]: 31783379\n",
      "fchr[T]: 45877851\n",
      "fchr[$]: 63944257\n",
      "Exiting Ebwt::buildToDisk()\n",
      "Returning from initFromVector\n",
      "Wrote 25510344 bytes to primary EBWT file: hg38_chr20_bowtie2.rev.1.bt2\n",
      "Wrote 15986072 bytes to secondary EBWT file: hg38_chr20_bowtie2.rev.2.bt2\n",
      "Re-opening _in1 and _in2 as input streams\n",
      "Returning from Ebwt constructor\n",
      "Headers:\n",
      "    len: 63944257\n",
      "    bwtLen: 63944258\n",
      "    sz: 15986065\n",
      "    bwtSz: 15986065\n",
      "    lineRate: 6\n",
      "    offRate: 4\n",
      "    offMask: 0xfffffff0\n",
      "    ftabChars: 10\n",
      "    eftabLen: 20\n",
      "    eftabSz: 80\n",
      "    ftabLen: 1048577\n",
      "    ftabSz: 4194308\n",
      "    offsLen: 3996517\n",
      "    offsSz: 15986068\n",
      "    lineSz: 64\n",
      "    sideSz: 64\n",
      "    sideBwtSz: 48\n",
      "    sideBwtLen: 192\n",
      "    numSides: 333044\n",
      "    numLines: 333044\n",
      "    ebwtTotLen: 21314816\n",
      "    ebwtTotSz: 21314816\n",
      "    color: 0\n",
      "    reverse: 1\n",
      "Total time for backward call to driver() for mirror index: 00:00:34\n"
     ]
    }
   ],
   "source": [
    "bowtie2-build ../GCF_000001405.33_GRCh38.p7_chr20_genomic.fna hg38_chr20_bowtie2"
   ]
  },
  {
   "cell_type": "code",
   "execution_count": 26,
   "metadata": {},
   "outputs": [],
   "source": [
    "cd ../../\n",
    "mkdir result/bowtie2"
   ]
  },
  {
   "cell_type": "code",
   "execution_count": 30,
   "metadata": {},
   "outputs": [
    {
     "name": "stdout",
     "output_type": "stream",
     "text": [
      "97206 reads; of these:\n",
      "  97206 (100.00%) were paired; of these:\n",
      "    1478 (1.52%) aligned concordantly 0 times\n",
      "    66192 (68.09%) aligned concordantly exactly 1 time\n",
      "    29536 (30.38%) aligned concordantly >1 times\n",
      "    ----\n",
      "    1478 pairs aligned concordantly 0 times; of these:\n",
      "      35 (2.37%) aligned discordantly 1 time\n",
      "    ----\n",
      "    1443 pairs aligned 0 times concordantly or discordantly; of these:\n",
      "      2886 mates make up the pairs; of these:\n",
      "        1510 (52.32%) aligned 0 times\n",
      "        904 (31.32%) aligned exactly 1 time\n",
      "        472 (16.35%) aligned >1 times\n",
      "99.22% overall alignment rate\n"
     ]
    }
   ],
   "source": [
    "bowtie2 -p 2 \\\n",
    "        -x data/hg38_chr20_bowtie2/hg38_chr20_bowtie2 \\\n",
    "        -1 data/read_1.fastq -2 data/read_2.fastq -S result/bowtie2/bowtie2.sam"
   ]
  },
  {
   "cell_type": "code",
   "execution_count": 39,
   "metadata": {},
   "outputs": [],
   "source": [
    "samtools view -S -b result/bowtie2/bowtie2.sam > result/bowtie2/bowtie2.bam"
   ]
  },
  {
   "cell_type": "code",
   "execution_count": 40,
   "metadata": {},
   "outputs": [],
   "source": [
    "samtools sort result/bowtie2/bowtie2.bam -o result/bowtie2/bowtie2_sorted.bam"
   ]
  },
  {
   "cell_type": "code",
   "execution_count": 41,
   "metadata": {},
   "outputs": [
    {
     "name": "stdout",
     "output_type": "stream",
     "text": [
      "194412 + 0 in total (QC-passed reads + QC-failed reads)\n",
      "0 + 0 secondary\n",
      "0 + 0 supplementary\n",
      "0 + 0 duplicates\n",
      "192902 + 0 mapped (99.22% : N/A)\n",
      "194412 + 0 paired in sequencing\n",
      "97206 + 0 read1\n",
      "97206 + 0 read2\n",
      "191456 + 0 properly paired (98.48% : N/A)\n",
      "191710 + 0 with itself and mate mapped\n",
      "1192 + 0 singletons (0.61% : N/A)\n",
      "0 + 0 with mate mapped to a different chr\n",
      "0 + 0 with mate mapped to a different chr (mapQ>=5)\n"
     ]
    }
   ],
   "source": [
    "samtools flagstats result/bowtie2/bowtie2_sorted.bam"
   ]
  }
 ],
 "metadata": {
  "kernelspec": {
   "display_name": "Bash",
   "language": "bash",
   "name": "bash"
  },
  "language_info": {
   "codemirror_mode": "shell",
   "file_extension": ".sh",
   "mimetype": "text/x-sh",
   "name": "bash"
  }
 },
 "nbformat": 4,
 "nbformat_minor": 4
}
