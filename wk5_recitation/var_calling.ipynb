{
 "cells": [
  {
   "cell_type": "markdown",
   "metadata": {},
   "source": [
    "# Alignment and variant calling"
   ]
  },
  {
   "cell_type": "markdown",
   "metadata": {},
   "source": [
    "## Getting the files"
   ]
  },
  {
   "cell_type": "code",
   "execution_count": 1,
   "metadata": {},
   "outputs": [
    {
     "name": "stdout",
     "output_type": "stream",
     "text": [
      "total 80385\n",
      "drwxr-sr-x 2 ycc520 ycc520     4096 Mar  1 07:51 .\n",
      "drwxr-sr-x 4 ycc520 ycc520     4096 Mar  1 07:50 ..\n",
      "-rw-r-xr-- 1 ycc520 ycc520 65518251 Mar  1 07:50 GCF_000001405.33_GRCh38.p7_chr20_genomic.fna\n",
      "-rw-r-xr-- 1 ycc520 ycc520 23476243 Mar  1 07:51 read_1.fastq\n",
      "-rw-r-xr-- 1 ycc520 ycc520 23476243 Mar  1 07:51 read_2.fastq\n"
     ]
    }
   ],
   "source": [
    "cp -r  /scratch/work/courses/AppliedGenomics2021Sec3/week03_SeqAln /scratch/ycc520/ag_recitation/wk5_recitation/data\n",
    "ls -la data"
   ]
  },
  {
   "cell_type": "markdown",
   "metadata": {},
   "source": [
    "## Loading modules"
   ]
  },
  {
   "cell_type": "code",
   "execution_count": 1,
   "metadata": {},
   "outputs": [
    {
     "name": "stdout",
     "output_type": "stream",
     "text": [
      "\n",
      "Currently Loaded Modules:\n",
      "  1) python/intel/3.8.6   2) intel/19.1.2   3) r/intel/4.0.3\n",
      "\n",
      " \n",
      "\n"
     ]
    }
   ],
   "source": [
    "# There modules that are loaded in Jupyter by default\n",
    "# But not in the terminal\n",
    "\n",
    "module list"
   ]
  },
  {
   "cell_type": "code",
   "execution_count": 1,
   "metadata": {},
   "outputs": [
    {
     "name": "stdout",
     "output_type": "stream",
     "text": [
      "\n",
      "Currently Loaded Modules:\n",
      "  1) bwa/intel/0.7.17      5) samtools/intel/1.11   9) gatk/4.1.9.0\n",
      "  2) picard/2.23.8         6) python/intel/3.8.6   10) snpeff/4.3t\n",
      "  3) perl/intel/5.32.0     7) intel/19.1.2         11) jdk/1.8.0_271\n",
      "  4) htslib/intel/1.11.0   8) r/intel/4.0.3        12) trimmomatic/0.39\n",
      "\n",
      " \n",
      "\n"
     ]
    }
   ],
   "source": [
    "module purge\n",
    "\n",
    "module load bwa/intel/0.7.17\n",
    "module load picard/2.23.8\n",
    "module load samtools/intel/1.11\n",
    "module load gatk/4.1.9.0\n",
    "module load snpeff/4.3t\n",
    "module load trimmomatic/0.39\n",
    "\n",
    "module list"
   ]
  },
  {
   "cell_type": "markdown",
   "metadata": {},
   "source": [
    "## Indexing the genome"
   ]
  },
  {
   "cell_type": "code",
   "execution_count": 4,
   "metadata": {},
   "outputs": [],
   "source": [
    "cd data"
   ]
  },
  {
   "cell_type": "code",
   "execution_count": 5,
   "metadata": {},
   "outputs": [
    {
     "name": "stdout",
     "output_type": "stream",
     "text": [
      "[bwa_index] Pack FASTA... 0.43 sec\n",
      "[bwa_index] Construct BWT for the packed sequence...\n",
      "[BWTIncCreate] textLength=128888334, availableWord=21068624\n",
      "[BWTIncConstructFromPacked] 10 iterations done. 34753182 characters processed.\n",
      "[BWTIncConstructFromPacked] 20 iterations done. 64202446 characters processed.\n",
      "[BWTIncConstructFromPacked] 30 iterations done. 90372990 characters processed.\n",
      "[BWTIncConstructFromPacked] 40 iterations done. 113629422 characters processed.\n",
      "[bwt_gen] Finished constructing BWT in 48 iterations.\n",
      "[bwa_index] 32.75 seconds elapse.\n",
      "[bwa_index] Update BWT... 0.30 sec\n",
      "[bwa_index] Pack forward-only FASTA... 0.26 sec\n",
      "[bwa_index] Construct SA from BWT and Occ... 15.42 sec\n",
      "[main] Version: 0.7.17-r1188\n",
      "[main] CMD: bwa index GCF_000001405.33_GRCh38.p7_chr20_genomic.fna\n",
      "[main] Real time: 49.839 sec; CPU: 49.166 sec\n"
     ]
    }
   ],
   "source": [
    "bwa index GCF_000001405.33_GRCh38.p7_chr20_genomic.fna"
   ]
  },
  {
   "cell_type": "markdown",
   "metadata": {},
   "source": [
    "## To trim or not to trim, that's the question."
   ]
  },
  {
   "cell_type": "code",
   "execution_count": 12,
   "metadata": {},
   "outputs": [
    {
     "name": "stdout",
     "output_type": "stream",
     "text": [
      "TrimmomaticPE: Started with arguments:\n",
      " -phred33 read_1.fastq read_2.fastq read_1_trimmed.fq read_1_unpair_trimmed.fq read_2_trimmed.fq read_2_unpair_trimmed.fq HEADCROP:15 TRAILING:3 SLIDINGWINDOW:4:15 MINLEN:36\n",
      "Multiple cores found: Using 4 threads\n",
      "Input Read Pairs: 97206 Both Surviving: 88187 (90.72%) Forward Only Surviving: 5936 (6.11%) Reverse Only Surviving: 1671 (1.72%) Dropped: 1412 (1.45%)\n",
      "TrimmomaticPE: Completed successfully\n"
     ]
    }
   ],
   "source": [
    "cd data\n",
    "java -jar $TRIMMOMATIC_JAR PE -phred33 \\\n",
    "read_1.fastq read_2.fastq \\\n",
    "read_1_trimmed.fq read_1_unpair_trimmed.fq \\\n",
    "read_2_trimmed.fq read_2_unpair_trimmed.fq \\\n",
    "HEADCROP:15 TRAILING:3 SLIDINGWINDOW:4:15 MINLEN:36\n",
    "cd .."
   ]
  },
  {
   "cell_type": "code",
   "execution_count": 13,
   "metadata": {},
   "outputs": [
    {
     "name": "stdout",
     "output_type": "stream",
     "text": [
      "total 257409\n",
      "-rw-r-xr-- 1 ycc520 ycc520 65518251 Mar  1 07:50 GCF_000001405.33_GRCh38.p7_chr20_genomic.fna\n",
      "-rw-rw-r-- 1 ycc520 ycc520     1341 Mar  1 07:55 GCF_000001405.33_GRCh38.p7_chr20_genomic.fna.amb\n",
      "-rw-rw-r-- 1 ycc520 ycc520       50 Mar  1 07:55 GCF_000001405.33_GRCh38.p7_chr20_genomic.fna.ann\n",
      "-rw-rw-r-- 1 ycc520 ycc520 64444268 Mar  1 07:55 GCF_000001405.33_GRCh38.p7_chr20_genomic.fna.bwt\n",
      "-rw-rw-r-- 1 ycc520 ycc520 16111043 Mar  1 07:55 GCF_000001405.33_GRCh38.p7_chr20_genomic.fna.pac\n",
      "-rw-rw-r-- 1 ycc520 ycc520 32222136 Mar  1 07:56 GCF_000001405.33_GRCh38.p7_chr20_genomic.fna.sa\n",
      "-rw-r-xr-- 1 ycc520 ycc520 23476243 Mar  1 07:51 read_1.fastq\n",
      "-rw-rw-r-- 1 ycc520 ycc520 18246659 Mar  1 08:00 read_1_trimmed.fq\n",
      "-rw-rw-r-- 1 ycc520 ycc520  1105956 Mar  1 08:00 read_1_unpair_trimmed.fq\n",
      "-rw-r-xr-- 1 ycc520 ycc520 23476243 Mar  1 07:51 read_2.fastq\n",
      "-rw-rw-r-- 1 ycc520 ycc520 18051041 Mar  1 08:00 read_2_trimmed.fq\n",
      "-rw-rw-r-- 1 ycc520 ycc520   305070 Mar  1 08:00 read_2_unpair_trimmed.fq\n"
     ]
    }
   ],
   "source": [
    "ls -l data"
   ]
  },
  {
   "cell_type": "code",
   "execution_count": 15,
   "metadata": {},
   "outputs": [],
   "source": [
    "mkdir result"
   ]
  },
  {
   "cell_type": "code",
   "execution_count": 16,
   "metadata": {},
   "outputs": [
    {
     "name": "stdout",
     "output_type": "stream",
     "text": [
      "[M::bwa_idx_load_from_disk] read 0 ALT contigs\n",
      "[M::process] read 121938 sequences (10000101 bp)...\n",
      "[M::process] read 54436 sequences (4487916 bp)...\n",
      "[M::mem_pestat] # candidate unique pairs for (FF, FR, RF, RR): (5, 45565, 0, 3)\n",
      "[M::mem_pestat] skip orientation FF as there are not enough pairs\n",
      "[M::mem_pestat] analyzing insert size distribution for orientation FR...\n",
      "[M::mem_pestat] (25, 50, 75) percentile: (293, 313, 333)\n",
      "[M::mem_pestat] low and high boundaries for computing mean and std.dev: (213, 413)\n",
      "[M::mem_pestat] mean and std.dev: (313.06, 26.68)\n",
      "[M::mem_pestat] low and high boundaries for proper pairs: (173, 453)\n",
      "[M::mem_pestat] skip orientation RF as there are not enough pairs\n",
      "[M::mem_pestat] skip orientation RR as there are not enough pairs\n",
      "[M::mem_process_seqs] Processed 121938 reads in 9.419 CPU sec, 9.436 real sec\n",
      "[M::mem_pestat] # candidate unique pairs for (FF, FR, RF, RR): (1, 20392, 0, 0)\n",
      "[M::mem_pestat] skip orientation FF as there are not enough pairs\n",
      "[M::mem_pestat] analyzing insert size distribution for orientation FR...\n",
      "[M::mem_pestat] (25, 50, 75) percentile: (293, 313, 333)\n",
      "[M::mem_pestat] low and high boundaries for computing mean and std.dev: (213, 413)\n",
      "[M::mem_pestat] mean and std.dev: (313.16, 26.82)\n",
      "[M::mem_pestat] low and high boundaries for proper pairs: (173, 453)\n",
      "[M::mem_pestat] skip orientation RF as there are not enough pairs\n",
      "[M::mem_pestat] skip orientation RR as there are not enough pairs\n",
      "[M::mem_process_seqs] Processed 54436 reads in 4.196 CPU sec, 4.161 real sec\n",
      "[main] Version: 0.7.17-r1188\n",
      "[main] CMD: bwa mem data/GCF_000001405.33_GRCh38.p7_chr20_genomic.fna data/read_1_trimmed.fq data/read_2_trimmed.fq\n",
      "[main] Real time: 13.957 sec; CPU: 13.773 sec\n"
     ]
    }
   ],
   "source": [
    "## Align using the reference genome\n",
    "bwa mem data/GCF_000001405.33_GRCh38.p7_chr20_genomic.fna \\\n",
    "data/read_1_trimmed.fq data/read_2_trimmed.fq > result/aligned_reads.sam"
   ]
  },
  {
   "cell_type": "code",
   "execution_count": 18,
   "metadata": {},
   "outputs": [
    {
     "name": "stdout",
     "output_type": "stream",
     "text": [
      "INFO\t2021-03-01 08:02:36\tSortSam\t\n",
      "\n",
      "********** NOTE: Picard's command line syntax is changing.\n",
      "**********\n",
      "********** For more information, please see:\n",
      "********** https://github.com/broadinstitute/picard/wiki/Command-Line-Syntax-Transition-For-Users-(Pre-Transition)\n",
      "**********\n",
      "********** The command line looks like this in the new syntax:\n",
      "**********\n",
      "**********    SortSam -INPUT result/aligned_reads.sam -OUTPUT result/sorted_reads.bam -SORT_ORDER coordinate\n",
      "**********\n",
      "\n",
      "\n",
      "08:02:36.329 INFO  NativeLibraryLoader - Loading libgkl_compression.so from jar:file:/share/apps/picard/2.23.8/picard.jar!/com/intel/gkl/native/libgkl_compression.so\n",
      "[Mon Mar 01 08:02:36 EST 2021] SortSam INPUT=result/aligned_reads.sam OUTPUT=result/sorted_reads.bam SORT_ORDER=coordinate    VERBOSITY=INFO QUIET=false VALIDATION_STRINGENCY=STRICT COMPRESSION_LEVEL=5 MAX_RECORDS_IN_RAM=500000 CREATE_INDEX=false CREATE_MD5_FILE=false GA4GH_CLIENT_SECRETS=client_secrets.json USE_JDK_DEFLATER=false USE_JDK_INFLATER=false\n",
      "[Mon Mar 01 08:02:36 EST 2021] Executing as ycc520@cs045.nyu.cluster on Linux 4.18.0-193.28.1.el8_2.x86_64 amd64; Java HotSpot(TM) 64-Bit Server VM 1.8.0_271-b09; Deflater: Intel; Inflater: Intel; Provider GCS is not available; Picard version: 2.23.8\n",
      "INFO\t2021-03-01 08:02:36\tSortSam\tSeen many non-increasing record positions. Printing Read-names as well.\n",
      "INFO\t2021-03-01 08:02:37\tSortSam\tFinished reading inputs, merging and writing to output now.\n",
      "[Mon Mar 01 08:02:38 EST 2021] picard.sam.SortSam done. Elapsed time: 0.04 minutes.\n",
      "Runtime.totalMemory()=490733568\n"
     ]
    }
   ],
   "source": [
    "## Sorting and converting with PICARD\n",
    "java -jar $PICARD_JAR SortSam \\\n",
    "          INPUT=result/aligned_reads.sam \\\n",
    "          OUTPUT=result/sorted_reads.bam \\\n",
    "          SORT_ORDER=coordinate"
   ]
  },
  {
   "cell_type": "code",
   "execution_count": 19,
   "metadata": {},
   "outputs": [
    {
     "name": "stdout",
     "output_type": "stream",
     "text": [
      "176401 + 0 in total (QC-passed reads + QC-failed reads)\n",
      "0 + 0 secondary\n",
      "27 + 0 supplementary\n",
      "0 + 0 duplicates\n",
      "176272 + 0 mapped (99.93% : N/A)\n",
      "176374 + 0 paired in sequencing\n",
      "88187 + 0 read1\n",
      "88187 + 0 read2\n",
      "174110 + 0 properly paired (98.72% : N/A)\n",
      "176122 + 0 with itself and mate mapped\n",
      "123 + 0 singletons (0.07% : N/A)\n",
      "0 + 0 with mate mapped to a different chr\n",
      "0 + 0 with mate mapped to a different chr (mapQ>=5)\n"
     ]
    }
   ],
   "source": [
    "samtools flagstat result/sorted_reads.bam"
   ]
  },
  {
   "cell_type": "code",
   "execution_count": 22,
   "metadata": {},
   "outputs": [
    {
     "name": "stdout",
     "output_type": "stream",
     "text": [
      "INFO\t2021-03-01 08:12:38\tAddOrReplaceReadGroups\t\n",
      "\n",
      "********** NOTE: Picard's command line syntax is changing.\n",
      "**********\n",
      "********** For more information, please see:\n",
      "********** https://github.com/broadinstitute/picard/wiki/Command-Line-Syntax-Transition-For-Users-(Pre-Transition)\n",
      "**********\n",
      "********** The command line looks like this in the new syntax:\n",
      "**********\n",
      "**********    AddOrReplaceReadGroups -I result/sorted_reads.bam -O result/sorted_reads_rg.bam -RGID sample_1 -RGLB sample_1 -RGPL ILLUMINA -RGPM HISEQ -RGPU sample_1 -RGSM sample_1\n",
      "**********\n",
      "\n",
      "\n",
      "08:12:39.019 INFO  NativeLibraryLoader - Loading libgkl_compression.so from jar:file:/share/apps/picard/2.23.8/picard.jar!/com/intel/gkl/native/libgkl_compression.so\n",
      "[Mon Mar 01 08:12:39 EST 2021] AddOrReplaceReadGroups INPUT=result/sorted_reads.bam OUTPUT=result/sorted_reads_rg.bam RGID=sample_1 RGLB=sample_1 RGPL=ILLUMINA RGPU=sample_1 RGSM=sample_1 RGPM=HISEQ    VERBOSITY=INFO QUIET=false VALIDATION_STRINGENCY=STRICT COMPRESSION_LEVEL=5 MAX_RECORDS_IN_RAM=500000 CREATE_INDEX=false CREATE_MD5_FILE=false GA4GH_CLIENT_SECRETS=client_secrets.json USE_JDK_DEFLATER=false USE_JDK_INFLATER=false\n",
      "[Mon Mar 01 08:12:39 EST 2021] Executing as ycc520@cs045.nyu.cluster on Linux 4.18.0-193.28.1.el8_2.x86_64 amd64; Java HotSpot(TM) 64-Bit Server VM 1.8.0_271-b09; Deflater: Intel; Inflater: Intel; Provider GCS is not available; Picard version: 2.23.8\n",
      "INFO\t2021-03-01 08:12:39\tAddOrReplaceReadGroups\tCreated read-group ID=sample_1 PL=ILLUMINA LB=sample_1 SM=sample_1\n",
      "\n",
      "[Mon Mar 01 08:12:40 EST 2021] picard.sam.AddOrReplaceReadGroups done. Elapsed time: 0.03 minutes.\n",
      "Runtime.totalMemory()=286785536\n"
     ]
    }
   ],
   "source": [
    "## Add read group to the bam file\n",
    "java -jar $PICARD_JAR AddOrReplaceReadGroups \\\n",
    "          I=result/sorted_reads.bam \\\n",
    "          O=result/sorted_reads_rg.bam \\\n",
    "          RGID=sample_1 \\\n",
    "          RGLB=sample_1 \\\n",
    "          RGPL=ILLUMINA \\\n",
    "          RGPM=HISEQ \\\n",
    "          RGPU=sample_1 \\\n",
    "          RGSM=sample_1"
   ]
  },
  {
   "cell_type": "markdown",
   "metadata": {},
   "source": [
    "### Information in the header"
   ]
  },
  {
   "cell_type": "code",
   "execution_count": 25,
   "metadata": {},
   "outputs": [
    {
     "name": "stdout",
     "output_type": "stream",
     "text": [
      "@HD\tVN:1.6\tSO:coordinate\n",
      "@SQ\tSN:NC_000020.11\tLN:64444167\n",
      "@PG\tID:bwa\tPN:bwa\tVN:0.7.17-r1188\tCL:bwa mem data/GCF_000001405.33_GRCh38.p7_chr20_genomic.fna data/read_1_trimmed.fq data/read_2_trimmed.fq\n",
      "@PG\tID:samtools\tPN:samtools\tPP:bwa\tVN:1.11\tCL:samtools view -H result/sorted_reads.bam\n"
     ]
    }
   ],
   "source": [
    "samtools view -H result/sorted_reads.bam"
   ]
  },
  {
   "cell_type": "code",
   "execution_count": 26,
   "metadata": {},
   "outputs": [
    {
     "name": "stdout",
     "output_type": "stream",
     "text": [
      "@HD\tVN:1.6\tSO:coordinate\n",
      "@SQ\tSN:NC_000020.11\tLN:64444167\n",
      "@RG\tID:sample_1\tLB:sample_1\tPL:ILLUMINA\tSM:sample_1\tPU:sample_1\tPM:HISEQ\n",
      "@PG\tID:bwa\tPN:bwa\tVN:0.7.17-r1188\tCL:bwa mem data/GCF_000001405.33_GRCh38.p7_chr20_genomic.fna data/read_1_trimmed.fq data/read_2_trimmed.fq\n",
      "@PG\tID:samtools\tPN:samtools\tPP:bwa\tVN:1.11\tCL:samtools view -H result/sorted_reads_rg.bam\n"
     ]
    }
   ],
   "source": [
    "samtools view -H result/sorted_reads_rg.bam"
   ]
  },
  {
   "cell_type": "markdown",
   "metadata": {},
   "source": [
    "### Information per read"
   ]
  },
  {
   "cell_type": "code",
   "execution_count": 23,
   "metadata": {},
   "outputs": [
    {
     "name": "stdout",
     "output_type": "stream",
     "text": [
      "HS2000-940_146:5:2109:14063:29918\t161\tNC_000020.11\t64145\t4\t39S46M\t=\t23724992\t23660929\tTTCCATCACACTGCATTCCATTCCATTCCAATCCCCTCAACTCCACTCCACTCCACTCCATTCCACTCCAATCAATTCCATTGCA\tJJJJJIJIFHHGCGIHHIJJJGHIHIIIJJIHIGGGHIJJE:FFHIGIDHJGIGGIJJ@;CDHGGEIHHHEHF;CCB>;;3;>;>\tXA:Z:NC_000020.11,+60520,39S31M15S,0;NC_000020.11,+60582,41S29M15S,0;NC_000020.11,+64492,41S29M15S,0;\tMC:Z:82M\tMD:Z:6G27C8T2\tNM:i:3\tAS:i:33\tXS:i:31\n",
      "grep: write error: Broken pipe\n",
      "samtools view: writing to standard output failed: Broken pipe\n",
      "samtools view: error closing standard output: -1\n"
     ]
    }
   ],
   "source": [
    "samtools view result/sorted_reads.bam | grep -v \"##\" | head -n 1"
   ]
  },
  {
   "cell_type": "code",
   "execution_count": 24,
   "metadata": {},
   "outputs": [
    {
     "name": "stdout",
     "output_type": "stream",
     "text": [
      "HS2000-940_146:5:2109:14063:29918\t161\tNC_000020.11\t64145\t4\t39S46M\t=\t23724992\t23660929\tTTCCATCACACTGCATTCCATTCCATTCCAATCCCCTCAACTCCACTCCACTCCACTCCATTCCACTCCAATCAATTCCATTGCA\tJJJJJIJIFHHGCGIHHIJJJGHIHIIIJJIHIGGGHIJJE:FFHIGIDHJGIGGIJJ@;CDHGGEIHHHEHF;CCB>;;3;>;>\tXA:Z:NC_000020.11,+60520,39S31M15S,0;NC_000020.11,+60582,41S29M15S,0;NC_000020.11,+64492,41S29M15S,0;\tMC:Z:82M\tMD:Z:6G27C8T2\tRG:Z:sample_1\tNM:i:3\tAS:i:33\tXS:i:31\n",
      "grep: write error: Broken pipe\n",
      "samtools view: writing to standard output failed: Broken pipe\n",
      "samtools view: error closing standard output: -1\n"
     ]
    }
   ],
   "source": [
    "samtools view result/sorted_reads_rg.bam | grep -v \"##\" | head -n 1"
   ]
  },
  {
   "cell_type": "markdown",
   "metadata": {},
   "source": [
    "### What are read groups?\n",
    "\n",
    "Source: [Gencore](https://learn.gencore.bio.nyu.edu/ngs-file-formats/sambam-format/)\n",
    "\n",
    "\n",
    "![](https://learn.gencore.bio.nyu.edu/wp-content/uploads/2018/01/Screen-Shot-2018-01-07-at-4.47.54-PM-768x762.png)"
   ]
  },
  {
   "cell_type": "markdown",
   "metadata": {},
   "source": [
    "![](https://learn.gencore.bio.nyu.edu/wp-content/uploads/2018/01/Screen-Shot-2018-01-07-at-4.51.29-PM-768x520.png)"
   ]
  },
  {
   "cell_type": "markdown",
   "metadata": {},
   "source": [
    "## Mark duplicated reads"
   ]
  },
  {
   "cell_type": "code",
   "execution_count": 27,
   "metadata": {},
   "outputs": [
    {
     "name": "stdout",
     "output_type": "stream",
     "text": [
      "INFO\t2021-03-01 08:15:32\tMarkDuplicates\t\n",
      "\n",
      "********** NOTE: Picard's command line syntax is changing.\n",
      "**********\n",
      "********** For more information, please see:\n",
      "********** https://github.com/broadinstitute/picard/wiki/Command-Line-Syntax-Transition-For-Users-(Pre-Transition)\n",
      "**********\n",
      "********** The command line looks like this in the new syntax:\n",
      "**********\n",
      "**********    MarkDuplicates -INPUT result/sorted_reads_rg.bam -OUTPUT result/dedup_reads.bam -METRICS_FILE metrics.txt\n",
      "**********\n",
      "\n",
      "\n",
      "08:15:33.008 INFO  NativeLibraryLoader - Loading libgkl_compression.so from jar:file:/share/apps/picard/2.23.8/picard.jar!/com/intel/gkl/native/libgkl_compression.so\n",
      "[Mon Mar 01 08:15:33 EST 2021] MarkDuplicates INPUT=[result/sorted_reads_rg.bam] OUTPUT=result/dedup_reads.bam METRICS_FILE=metrics.txt    MAX_SEQUENCES_FOR_DISK_READ_ENDS_MAP=50000 MAX_FILE_HANDLES_FOR_READ_ENDS_MAP=8000 SORTING_COLLECTION_SIZE_RATIO=0.25 TAG_DUPLICATE_SET_MEMBERS=false REMOVE_SEQUENCING_DUPLICATES=false TAGGING_POLICY=DontTag CLEAR_DT=true DUPLEX_UMI=false ADD_PG_TAG_TO_READS=true REMOVE_DUPLICATES=false ASSUME_SORTED=false DUPLICATE_SCORING_STRATEGY=SUM_OF_BASE_QUALITIES PROGRAM_RECORD_ID=MarkDuplicates PROGRAM_GROUP_NAME=MarkDuplicates READ_NAME_REGEX=<optimized capture of last three ':' separated fields as numeric values> OPTICAL_DUPLICATE_PIXEL_DISTANCE=100 MAX_OPTICAL_DUPLICATE_SET_SIZE=300000 VERBOSITY=INFO QUIET=false VALIDATION_STRINGENCY=STRICT COMPRESSION_LEVEL=5 MAX_RECORDS_IN_RAM=500000 CREATE_INDEX=false CREATE_MD5_FILE=false GA4GH_CLIENT_SECRETS=client_secrets.json USE_JDK_DEFLATER=false USE_JDK_INFLATER=false\n",
      "[Mon Mar 01 08:15:33 EST 2021] Executing as ycc520@cs045.nyu.cluster on Linux 4.18.0-193.28.1.el8_2.x86_64 amd64; Java HotSpot(TM) 64-Bit Server VM 1.8.0_271-b09; Deflater: Intel; Inflater: Intel; Provider GCS is not available; Picard version: 2.23.8\n",
      "INFO\t2021-03-01 08:15:33\tMarkDuplicates\tStart of doWork freeMemory: 149863824; totalMemory: 160956416; maxMemory: 2386558976\n",
      "INFO\t2021-03-01 08:15:33\tMarkDuplicates\tReading input file and constructing read end information.\n",
      "INFO\t2021-03-01 08:15:33\tMarkDuplicates\tWill retain up to 8646952 data points before spilling to disk.\n",
      "INFO\t2021-03-01 08:15:33\tMarkDuplicates\tRead 176395 records. 0 pairs never matched.\n",
      "INFO\t2021-03-01 08:15:34\tMarkDuplicates\tAfter buildSortedReadEndLists freeMemory: 236567224; totalMemory: 331350016; maxMemory: 2386558976\n",
      "INFO\t2021-03-01 08:15:34\tMarkDuplicates\tWill retain up to 74579968 duplicate indices before spilling to disk.\n",
      "INFO\t2021-03-01 08:15:34\tMarkDuplicates\tTraversing read pair information and detecting duplicates.\n",
      "INFO\t2021-03-01 08:15:34\tMarkDuplicates\tTraversing fragment information and detecting duplicates.\n",
      "INFO\t2021-03-01 08:15:34\tMarkDuplicates\tSorting list of duplicate records.\n",
      "INFO\t2021-03-01 08:15:34\tMarkDuplicates\tAfter generateDuplicateIndexes freeMemory: 330344760; totalMemory: 933756928; maxMemory: 2386558976\n",
      "INFO\t2021-03-01 08:15:34\tMarkDuplicates\tMarking 12983 records as duplicates.\n",
      "INFO\t2021-03-01 08:15:34\tMarkDuplicates\tFound 27 optical duplicate clusters.\n",
      "INFO\t2021-03-01 08:15:34\tMarkDuplicates\tReads are assumed to be ordered by: coordinate\n",
      "INFO\t2021-03-01 08:15:36\tMarkDuplicates\tWriting complete. Closing input iterator.\n",
      "INFO\t2021-03-01 08:15:36\tMarkDuplicates\tDuplicate Index cleanup.\n",
      "INFO\t2021-03-01 08:15:36\tMarkDuplicates\tGetting Memory Stats.\n",
      "INFO\t2021-03-01 08:15:36\tMarkDuplicates\tBefore output close freeMemory: 961072248; totalMemory: 968884224; maxMemory: 2386558976\n",
      "INFO\t2021-03-01 08:15:36\tMarkDuplicates\tClosed outputs. Getting more Memory Stats.\n",
      "INFO\t2021-03-01 08:15:36\tMarkDuplicates\tAfter output close freeMemory: 944562696; totalMemory: 952107008; maxMemory: 2386558976\n",
      "[Mon Mar 01 08:15:36 EST 2021] picard.sam.markduplicates.MarkDuplicates done. Elapsed time: 0.05 minutes.\n",
      "Runtime.totalMemory()=952107008\n"
     ]
    }
   ],
   "source": [
    "java -jar $PICARD_JAR MarkDuplicates \\\n",
    "          INPUT=result/sorted_reads_rg.bam \\\n",
    "          OUTPUT=result/dedup_reads.bam \\\n",
    "          METRICS_FILE=metrics.txt"
   ]
  },
  {
   "cell_type": "code",
   "execution_count": 29,
   "metadata": {},
   "outputs": [
    {
     "name": "stdout",
     "output_type": "stream",
     "text": [
      "HS2000-1010_101:8:2205:14144:55120\t161\tNC_000020.11\t24013196\t60\t85M\t=\t24013243\t132\tGTTCATTATTCCCCATGTTTCCTAAGATATGTTTTCTAAGCCAACACATTAGTTCAAATTACTGCATTTTTCTTGAATCTTGACA\tDHEDHHGEJIIEGGGIGEEGHIIIIIJFGIEICFHFGIJGDDFADHEHBFHI;@F@GGFE@CDH@??ACA>@BDFD>?;A>6>C3\tMC:Z:85M\tMD:Z:25T59\tRG:Z:sample_1\tNM:i:1\tAS:i:80\tXS:i:0\n",
      "HS2000-1010_101:8:2205:14144:55120\t81\tNC_000020.11\t24013243\t60\t85M\t=\t24013196\t-132\tATTAGTTCAAATTACTGCATTTTTCTTGAATCTTGACAAGAAAATTATGTAGGAAGTAGATTTGAGTTTTTGCGTAGCTGTGTCT\tCCCCCCC@>DC@CACECCCBB@>@ACHHEHDD@IHEIIIHIF>GEIIIHGHIGGIIGFBFACGHGGHEBGGHGGHFEDFCDIIIG\tMC:Z:85M\tMD:Z:73A11\tRG:Z:sample_1\tNM:i:1\tAS:i:80\tXS:i:19\n"
     ]
    }
   ],
   "source": [
    "samtools view result/sorted_reads_rg.bam | grep HS2000-1010_101:8:2205:14144:55120"
   ]
  },
  {
   "cell_type": "code",
   "execution_count": 30,
   "metadata": {},
   "outputs": [
    {
     "name": "stdout",
     "output_type": "stream",
     "text": [
      "HS2000-1010_101:8:2205:14144:55120\t1185\tNC_000020.11\t24013196\t60\t85M\t=\t24013243\t132\tGTTCATTATTCCCCATGTTTCCTAAGATATGTTTTCTAAGCCAACACATTAGTTCAAATTACTGCATTTTTCTTGAATCTTGACA\tDHEDHHGEJIIEGGGIGEEGHIIIIIJFGIEICFHFGIJGDDFADHEHBFHI;@F@GGFE@CDH@??ACA>@BDFD>?;A>6>C3\tMC:Z:85M\tMD:Z:25T59\tPG:Z:MarkDuplicates\tRG:Z:sample_1\tNM:i:1\tAS:i:80\tXS:i:0\n",
      "HS2000-1010_101:8:2205:14144:55120\t1105\tNC_000020.11\t24013243\t60\t85M\t=\t24013196\t-132\tATTAGTTCAAATTACTGCATTTTTCTTGAATCTTGACAAGAAAATTATGTAGGAAGTAGATTTGAGTTTTTGCGTAGCTGTGTCT\tCCCCCCC@>DC@CACECCCBB@>@ACHHEHDD@IHEIIIHIF>GEIIIHGHIGGIIGFBFACGHGGHEBGGHGGHFEDFCDIIIG\tMC:Z:85M\tMD:Z:73A11\tPG:Z:MarkDuplicates\tRG:Z:sample_1\tNM:i:1\tAS:i:80\tXS:i:19\n"
     ]
    }
   ],
   "source": [
    "samtools view result/dedup_reads.bam | grep HS2000-1010_101:8:2205:14144:55120"
   ]
  },
  {
   "cell_type": "markdown",
   "metadata": {},
   "source": [
    "### Explain flags\n",
    "\n",
    "https://broadinstitute.github.io/picard/explain-flags.html"
   ]
  },
  {
   "cell_type": "markdown",
   "metadata": {},
   "source": [
    "## Prepare reference dictionary, fasta index, and bam index"
   ]
  },
  {
   "cell_type": "code",
   "execution_count": 32,
   "metadata": {},
   "outputs": [
    {
     "name": "stdout",
     "output_type": "stream",
     "text": [
      "INFO\t2021-03-01 08:17:57\tCreateSequenceDictionary\t\n",
      "\n",
      "********** NOTE: Picard's command line syntax is changing.\n",
      "**********\n",
      "********** For more information, please see:\n",
      "********** https://github.com/broadinstitute/picard/wiki/Command-Line-Syntax-Transition-For-Users-(Pre-Transition)\n",
      "**********\n",
      "********** The command line looks like this in the new syntax:\n",
      "**********\n",
      "**********    CreateSequenceDictionary -R data/GCF_000001405.33_GRCh38.p7_chr20_genomic.fna -O data/GCF_000001405.33_GRCh38.p7_chr20_genomic.dict\n",
      "**********\n",
      "\n",
      "\n",
      "08:17:58.111 INFO  NativeLibraryLoader - Loading libgkl_compression.so from jar:file:/share/apps/picard/2.23.8/picard.jar!/com/intel/gkl/native/libgkl_compression.so\n",
      "[Mon Mar 01 08:17:58 EST 2021] CreateSequenceDictionary OUTPUT=data/GCF_000001405.33_GRCh38.p7_chr20_genomic.dict REFERENCE=data/GCF_000001405.33_GRCh38.p7_chr20_genomic.fna    TRUNCATE_NAMES_AT_WHITESPACE=true NUM_SEQUENCES=2147483647 VERBOSITY=INFO QUIET=false VALIDATION_STRINGENCY=STRICT COMPRESSION_LEVEL=5 MAX_RECORDS_IN_RAM=500000 CREATE_INDEX=false CREATE_MD5_FILE=false GA4GH_CLIENT_SECRETS=client_secrets.json USE_JDK_DEFLATER=false USE_JDK_INFLATER=false\n",
      "[Mon Mar 01 08:17:58 EST 2021] Executing as ycc520@cs045.nyu.cluster on Linux 4.18.0-193.28.1.el8_2.x86_64 amd64; Java HotSpot(TM) 64-Bit Server VM 1.8.0_271-b09; Deflater: Intel; Inflater: Intel; Provider GCS is not available; Picard version: 2.23.8\n",
      "[Mon Mar 01 08:17:58 EST 2021] picard.sam.CreateSequenceDictionary done. Elapsed time: 0.01 minutes.\n",
      "Runtime.totalMemory()=225443840\n"
     ]
    }
   ],
   "source": [
    "java -jar $PICARD_JAR CreateSequenceDictionary \\\n",
    "          R=data/GCF_000001405.33_GRCh38.p7_chr20_genomic.fna \\\n",
    "          O=data/GCF_000001405.33_GRCh38.p7_chr20_genomic.dict"
   ]
  },
  {
   "cell_type": "code",
   "execution_count": 36,
   "metadata": {},
   "outputs": [
    {
     "name": "stdout",
     "output_type": "stream",
     "text": [
      "@HD\tVN:1.6\n",
      "@SQ\tSN:NC_000020.11\tLN:64444167\tM5:b18e6c531b0bd70e949a7fc20859cb01\tUR:file:/scratch/ycc520/ag_recitation/wk5_recitation/data/GCF_000001405.33_GRCh38.p7_chr20_genomic.fna\n"
     ]
    }
   ],
   "source": [
    "cat data/GCF_000001405.33_GRCh38.p7_chr20_genomic.dict"
   ]
  },
  {
   "cell_type": "code",
   "execution_count": 39,
   "metadata": {},
   "outputs": [
    {
     "name": "stdout",
     "output_type": "stream",
     "text": [
      ">NC_000020.11\n",
      "NNNNNNNNNNNNNNNNNNNNNNNNNNNNNNNNNNNNNNNNNNNNNNNNNNNNNNNNNNNN\n",
      "NNNNNNNNNNNNNNNNNNNNNNNNNNNNNNNNNNNNNNNNNNNNNNNNNNNNNNNNNNNN\n",
      "NNNNNNNNNNNNNNNNNNNNNNNNNNNNNNNNNNNNNNNNNNNNNNNNNNNNNNNNNNNN\n",
      "NNNNNNNNNNNNNNNNNNNNNNNNNNNNNNNNNNNNNNNNNNNNNNNNNNNNNNNNNNNN\n",
      "NNNNNNNNNNNNNNNNNNNNNNNNNNNNNNNNNNNNNNNNNNNNNNNNNNNNNNNNNNNN\n",
      "NNNNNNNNNNNNNNNNNNNNNNNNNNNNNNNNNNNNNNNNNNNNNNNNNNNNNNNNNNNN\n",
      "NNNNNNNNNNNNNNNNNNNNNNNNNNNNNNNNNNNNNNNNNNNNNNNNNNNNNNNNNNNN\n",
      "NNNNNNNNNNNNNNNNNNNNNNNNNNNNNNNNNNNNNNNNNNNNNNNNNNNNNNNNNNNN\n",
      "NNNNNNNNNNNNNNNNNNNNNNNNNNNNNNNNNNNNNNNNNNNNNNNNNNNNNNNNNNNN\n"
     ]
    }
   ],
   "source": [
    "head data/GCF_000001405.33_GRCh38.p7_chr20_genomic.fna"
   ]
  },
  {
   "cell_type": "code",
   "execution_count": 40,
   "metadata": {},
   "outputs": [
    {
     "name": "stdout",
     "output_type": "stream",
     "text": [
      "@HD\tVN:1.6\tSO:coordinate\n",
      "@SQ\tSN:NC_000020.11\tLN:64444167\n",
      "@RG\tID:sample_1\tLB:sample_1\tPL:ILLUMINA\tSM:sample_1\tPU:sample_1\tPM:HISEQ\n",
      "@PG\tID:bwa\tPN:bwa\tVN:0.7.17-r1188\tCL:bwa mem data/GCF_000001405.33_GRCh38.p7_chr20_genomic.fna data/read_1_trimmed.fq data/read_2_trimmed.fq\n",
      "@PG\tID:MarkDuplicates\tVN:2.23.8\tCL:MarkDuplicates INPUT=[result/sorted_reads_rg.bam] OUTPUT=result/dedup_reads.bam METRICS_FILE=metrics.txt    MAX_SEQUENCES_FOR_DISK_READ_ENDS_MAP=50000 MAX_FILE_HANDLES_FOR_READ_ENDS_MAP=8000 SORTING_COLLECTION_SIZE_RATIO=0.25 TAG_DUPLICATE_SET_MEMBERS=false REMOVE_SEQUENCING_DUPLICATES=false TAGGING_POLICY=DontTag CLEAR_DT=true DUPLEX_UMI=false ADD_PG_TAG_TO_READS=true REMOVE_DUPLICATES=false ASSUME_SORTED=false DUPLICATE_SCORING_STRATEGY=SUM_OF_BASE_QUALITIES PROGRAM_RECORD_ID=MarkDuplicates PROGRAM_GROUP_NAME=MarkDuplicates READ_NAME_REGEX=<optimized capture of last three ':' separated fields as numeric values> OPTICAL_DUPLICATE_PIXEL_DISTANCE=100 MAX_OPTICAL_DUPLICATE_SET_SIZE=300000 VERBOSITY=INFO QUIET=false VALIDATION_STRINGENCY=STRICT COMPRESSION_LEVEL=5 MAX_RECORDS_IN_RAM=500000 CREATE_INDEX=false CREATE_MD5_FILE=false GA4GH_CLIENT_SECRETS=client_secrets.json USE_JDK_DEFLATER=false USE_JDK_INFLATER=false\tPN:MarkDuplicates\n",
      "@PG\tID:samtools\tPN:samtools\tPP:MarkDuplicates\tVN:1.11\tCL:samtools view -H result/dedup_reads.bam\n"
     ]
    }
   ],
   "source": [
    "samtools view -H result/dedup_reads.bam"
   ]
  },
  {
   "cell_type": "code",
   "execution_count": 41,
   "metadata": {},
   "outputs": [],
   "source": [
    "samtools faidx data/GCF_000001405.33_GRCh38.p7_chr20_genomic.fna"
   ]
  },
  {
   "cell_type": "code",
   "execution_count": 43,
   "metadata": {},
   "outputs": [],
   "source": [
    "samtools index result/dedup_reads.bam"
   ]
  },
  {
   "cell_type": "markdown",
   "metadata": {},
   "source": [
    "## Forget something?"
   ]
  },
  {
   "cell_type": "markdown",
   "metadata": {},
   "source": [
    "## Variant calling"
   ]
  },
  {
   "cell_type": "code",
   "execution_count": 44,
   "metadata": {
    "scrolled": true
   },
   "outputs": [
    {
     "name": "stdout",
     "output_type": "stream",
     "text": [
      "08:23:44.212 INFO  NativeLibraryLoader - Loading libgkl_compression.so from jar:file:/share/apps/gatk/4.1.9.0/gatk-package-4.1.9.0-local.jar!/com/intel/gkl/native/libgkl_compression.so\n",
      "Mar 01, 2021 8:23:44 AM shaded.cloud_nio.com.google.auth.oauth2.ComputeEngineCredentials runningOnComputeEngine\n",
      "INFO: Failed to detect whether we are running on Google Compute Engine.\n",
      "08:23:44.358 INFO  HaplotypeCaller - ------------------------------------------------------------\n",
      "08:23:44.358 INFO  HaplotypeCaller - The Genome Analysis Toolkit (GATK) v4.1.9.0\n",
      "08:23:44.358 INFO  HaplotypeCaller - For support and documentation go to https://software.broadinstitute.org/gatk/\n",
      "08:23:44.358 INFO  HaplotypeCaller - Executing as ycc520@cs045.nyu.cluster on Linux v4.18.0-193.28.1.el8_2.x86_64 amd64\n",
      "08:23:44.358 INFO  HaplotypeCaller - Java runtime: Java HotSpot(TM) 64-Bit Server VM v1.8.0_271-b09\n",
      "08:23:44.358 INFO  HaplotypeCaller - Start Date/Time: March 1, 2021 8:23:44 AM EST\n",
      "08:23:44.358 INFO  HaplotypeCaller - ------------------------------------------------------------\n",
      "08:23:44.358 INFO  HaplotypeCaller - ------------------------------------------------------------\n",
      "08:23:44.359 INFO  HaplotypeCaller - HTSJDK Version: 2.23.0\n",
      "08:23:44.359 INFO  HaplotypeCaller - Picard Version: 2.23.3\n",
      "08:23:44.359 INFO  HaplotypeCaller - HTSJDK Defaults.COMPRESSION_LEVEL : 2\n",
      "08:23:44.359 INFO  HaplotypeCaller - HTSJDK Defaults.USE_ASYNC_IO_READ_FOR_SAMTOOLS : false\n",
      "08:23:44.359 INFO  HaplotypeCaller - HTSJDK Defaults.USE_ASYNC_IO_WRITE_FOR_SAMTOOLS : true\n",
      "08:23:44.359 INFO  HaplotypeCaller - HTSJDK Defaults.USE_ASYNC_IO_WRITE_FOR_TRIBBLE : false\n",
      "08:23:44.359 INFO  HaplotypeCaller - Deflater: IntelDeflater\n",
      "08:23:44.359 INFO  HaplotypeCaller - Inflater: IntelInflater\n",
      "08:23:44.359 INFO  HaplotypeCaller - GCS max retries/reopens: 20\n",
      "08:23:44.359 INFO  HaplotypeCaller - Requester pays: disabled\n",
      "08:23:44.359 INFO  HaplotypeCaller - Initializing engine\n",
      "08:23:44.625 INFO  HaplotypeCaller - Done initializing engine\n",
      "08:23:44.630 INFO  HaplotypeCallerEngine - Disabling physical phasing, which is supported only for reference-model confidence output\n",
      "08:23:44.640 INFO  NativeLibraryLoader - Loading libgkl_utils.so from jar:file:/share/apps/gatk/4.1.9.0/gatk-package-4.1.9.0-local.jar!/com/intel/gkl/native/libgkl_utils.so\n",
      "08:23:44.641 INFO  NativeLibraryLoader - Loading libgkl_pairhmm_omp.so from jar:file:/share/apps/gatk/4.1.9.0/gatk-package-4.1.9.0-local.jar!/com/intel/gkl/native/libgkl_pairhmm_omp.so\n",
      "08:23:44.671 INFO  IntelPairHmm - Using CPU-supported AVX-512 instructions\n",
      "08:23:44.671 INFO  IntelPairHmm - Flush-to-zero (FTZ) is enabled when running PairHMM\n",
      "08:23:44.672 INFO  IntelPairHmm - Available threads: 4\n",
      "08:23:44.672 INFO  IntelPairHmm - Requested threads: 4\n",
      "08:23:44.672 INFO  PairHMM - Using the OpenMP multi-threaded AVX-accelerated native PairHMM implementation\n",
      "08:23:44.691 INFO  ProgressMeter - Starting traversal\n",
      "08:23:44.691 INFO  ProgressMeter -        Current Locus  Elapsed Minutes     Regions Processed   Regions/Minute\n",
      "08:23:48.943 WARN  InbreedingCoeff - InbreedingCoeff will not be calculated; at least 10 samples must have called genotypes\n",
      "08:23:54.743 INFO  ProgressMeter - NC_000020.11:23654930              0.2                 79170         472562.7\n",
      "08:24:04.788 INFO  ProgressMeter - NC_000020.11:23957122              0.3                 81070         242048.2\n",
      "08:24:12.419 INFO  HaplotypeCaller - 934 read(s) filtered by: MappingQualityReadFilter \n",
      "0 read(s) filtered by: MappingQualityAvailableReadFilter \n",
      "0 read(s) filtered by: MappedReadFilter \n",
      "0 read(s) filtered by: NotSecondaryAlignmentReadFilter \n",
      "12932 read(s) filtered by: NotDuplicateReadFilter \n",
      "0 read(s) filtered by: PassesVendorQualityCheckReadFilter \n",
      "0 read(s) filtered by: NonZeroReferenceLengthAlignmentReadFilter \n",
      "0 read(s) filtered by: GoodCigarReadFilter \n",
      "0 read(s) filtered by: WellformedReadFilter \n",
      "13866 total reads filtered\n",
      "08:24:12.420 INFO  ProgressMeter - NC_000020.11:64442512              0.5                216245         467910.9\n",
      "08:24:12.420 INFO  ProgressMeter - Traversal complete. Processed 216245 total regions in 0.5 minutes.\n",
      "08:24:12.439 INFO  VectorLoglessPairHMM - Time spent in setup for JNI call : 0.025557006\n",
      "08:24:12.439 INFO  PairHMM - Total compute time in PairHMM computeLogLikelihoods() : 4.495400999\n",
      "08:24:12.439 INFO  SmithWatermanAligner - Total compute time in java Smith-Waterman : 1.81 sec\n",
      "08:24:12.439 INFO  HaplotypeCaller - Shutting down engine\n",
      "[March 1, 2021 8:24:12 AM EST] org.broadinstitute.hellbender.tools.walkers.haplotypecaller.HaplotypeCaller done. Elapsed time: 0.47 minutes.\n",
      "Runtime.totalMemory()=962592768\n"
     ]
    }
   ],
   "source": [
    "java -jar $GATK_JAR HaplotypeCaller \\\n",
    "          -R data/GCF_000001405.33_GRCh38.p7_chr20_genomic.fna \\\n",
    "          -I result/dedup_reads.bam \\\n",
    "          -O result/raw_variants.vcf"
   ]
  },
  {
   "cell_type": "markdown",
   "metadata": {},
   "source": [
    "### VCF format recap\n",
    "\n",
    "\n",
    "![](https://learn.gencore.bio.nyu.edu/wp-content/uploads/2018/01/Screen-Shot-2018-01-07-at-9.29.53-PM-768x554.png)\n",
    "\n",
    "\n",
    "> Ref: [Gencore](https://learn.gencore.bio.nyu.edu/ngs-file-formats/vcf-format/)"
   ]
  },
  {
   "cell_type": "code",
   "execution_count": 48,
   "metadata": {
    "scrolled": true
   },
   "outputs": [
    {
     "name": "stdout",
     "output_type": "stream",
     "text": [
      "Using GATK jar /share/apps/gatk/4.1.9.0/gatk-package-4.1.9.0-local.jar defined in environment variable GATK_LOCAL_JAR\n",
      "Running:\n",
      "    java -Dsamjdk.use_async_io_read_samtools=false -Dsamjdk.use_async_io_write_samtools=true -Dsamjdk.use_async_io_write_tribble=false -Dsamjdk.compression_level=2 -jar /share/apps/gatk/4.1.9.0/gatk-package-4.1.9.0-local.jar SelectVariants -R data/GCF_000001405.33_GRCh38.p7_chr20_genomic.fna -V result/raw_variants.vcf -select-type SNP -O result/raw_snps.vcf\n",
      "08:27:11.049 INFO  NativeLibraryLoader - Loading libgkl_compression.so from jar:file:/share/apps/gatk/4.1.9.0/gatk-package-4.1.9.0-local.jar!/com/intel/gkl/native/libgkl_compression.so\n",
      "Mar 01, 2021 8:27:11 AM shaded.cloud_nio.com.google.auth.oauth2.ComputeEngineCredentials runningOnComputeEngine\n",
      "INFO: Failed to detect whether we are running on Google Compute Engine.\n",
      "08:27:11.160 INFO  SelectVariants - ------------------------------------------------------------\n",
      "08:27:11.160 INFO  SelectVariants - The Genome Analysis Toolkit (GATK) v4.1.9.0\n",
      "08:27:11.160 INFO  SelectVariants - For support and documentation go to https://software.broadinstitute.org/gatk/\n",
      "08:27:11.161 INFO  SelectVariants - Executing as ycc520@cs045.nyu.cluster on Linux v4.18.0-193.28.1.el8_2.x86_64 amd64\n",
      "08:27:11.161 INFO  SelectVariants - Java runtime: Java HotSpot(TM) 64-Bit Server VM v1.8.0_271-b09\n",
      "08:27:11.161 INFO  SelectVariants - Start Date/Time: March 1, 2021 8:27:10 AM EST\n",
      "08:27:11.161 INFO  SelectVariants - ------------------------------------------------------------\n",
      "08:27:11.161 INFO  SelectVariants - ------------------------------------------------------------\n",
      "08:27:11.161 INFO  SelectVariants - HTSJDK Version: 2.23.0\n",
      "08:27:11.161 INFO  SelectVariants - Picard Version: 2.23.3\n",
      "08:27:11.161 INFO  SelectVariants - HTSJDK Defaults.COMPRESSION_LEVEL : 2\n",
      "08:27:11.161 INFO  SelectVariants - HTSJDK Defaults.USE_ASYNC_IO_READ_FOR_SAMTOOLS : false\n",
      "08:27:11.161 INFO  SelectVariants - HTSJDK Defaults.USE_ASYNC_IO_WRITE_FOR_SAMTOOLS : true\n",
      "08:27:11.161 INFO  SelectVariants - HTSJDK Defaults.USE_ASYNC_IO_WRITE_FOR_TRIBBLE : false\n",
      "08:27:11.161 INFO  SelectVariants - Deflater: IntelDeflater\n",
      "08:27:11.161 INFO  SelectVariants - Inflater: IntelInflater\n",
      "08:27:11.161 INFO  SelectVariants - GCS max retries/reopens: 20\n",
      "08:27:11.161 INFO  SelectVariants - Requester pays: disabled\n",
      "08:27:11.162 INFO  SelectVariants - Initializing engine\n",
      "08:27:11.421 INFO  FeatureManager - Using codec VCFCodec to read file file:///scratch/ycc520/ag_recitation/wk5_recitation/result/raw_variants.vcf\n",
      "08:27:11.436 INFO  SelectVariants - Done initializing engine\n",
      "08:27:11.453 INFO  ProgressMeter - Starting traversal\n",
      "08:27:11.454 INFO  ProgressMeter -        Current Locus  Elapsed Minutes    Variants Processed  Variants/Minute\n",
      "08:27:11.601 INFO  ProgressMeter - NC_000020.11:23860707              0.0                  1405         573469.4\n",
      "08:27:11.601 INFO  ProgressMeter - Traversal complete. Processed 1405 total variants in 0.0 minutes.\n",
      "08:27:11.618 INFO  SelectVariants - Shutting down engine\n",
      "[March 1, 2021 8:27:11 AM EST] org.broadinstitute.hellbender.tools.walkers.variantutils.SelectVariants done. Elapsed time: 0.01 minutes.\n",
      "Runtime.totalMemory()=317718528\n",
      "Using GATK jar /share/apps/gatk/4.1.9.0/gatk-package-4.1.9.0-local.jar defined in environment variable GATK_LOCAL_JAR\n",
      "Running:\n",
      "    java -Dsamjdk.use_async_io_read_samtools=false -Dsamjdk.use_async_io_write_samtools=true -Dsamjdk.use_async_io_write_tribble=false -Dsamjdk.compression_level=2 -jar /share/apps/gatk/4.1.9.0/gatk-package-4.1.9.0-local.jar SelectVariants -R data/GCF_000001405.33_GRCh38.p7_chr20_genomic.fna -V result/raw_variants.vcf -select-type INDEL -O result/raw_indels.vcf\n",
      "08:27:13.721 INFO  NativeLibraryLoader - Loading libgkl_compression.so from jar:file:/share/apps/gatk/4.1.9.0/gatk-package-4.1.9.0-local.jar!/com/intel/gkl/native/libgkl_compression.so\n",
      "Mar 01, 2021 8:27:13 AM shaded.cloud_nio.com.google.auth.oauth2.ComputeEngineCredentials runningOnComputeEngine\n",
      "INFO: Failed to detect whether we are running on Google Compute Engine.\n",
      "08:27:13.832 INFO  SelectVariants - ------------------------------------------------------------\n",
      "08:27:13.833 INFO  SelectVariants - The Genome Analysis Toolkit (GATK) v4.1.9.0\n",
      "08:27:13.833 INFO  SelectVariants - For support and documentation go to https://software.broadinstitute.org/gatk/\n",
      "08:27:13.833 INFO  SelectVariants - Executing as ycc520@cs045.nyu.cluster on Linux v4.18.0-193.28.1.el8_2.x86_64 amd64\n",
      "08:27:13.833 INFO  SelectVariants - Java runtime: Java HotSpot(TM) 64-Bit Server VM v1.8.0_271-b09\n",
      "08:27:13.833 INFO  SelectVariants - Start Date/Time: March 1, 2021 8:27:13 AM EST\n",
      "08:27:13.833 INFO  SelectVariants - ------------------------------------------------------------\n",
      "08:27:13.833 INFO  SelectVariants - ------------------------------------------------------------\n",
      "08:27:13.833 INFO  SelectVariants - HTSJDK Version: 2.23.0\n",
      "08:27:13.833 INFO  SelectVariants - Picard Version: 2.23.3\n",
      "08:27:13.833 INFO  SelectVariants - HTSJDK Defaults.COMPRESSION_LEVEL : 2\n",
      "08:27:13.833 INFO  SelectVariants - HTSJDK Defaults.USE_ASYNC_IO_READ_FOR_SAMTOOLS : false\n",
      "08:27:13.833 INFO  SelectVariants - HTSJDK Defaults.USE_ASYNC_IO_WRITE_FOR_SAMTOOLS : true\n",
      "08:27:13.833 INFO  SelectVariants - HTSJDK Defaults.USE_ASYNC_IO_WRITE_FOR_TRIBBLE : false\n",
      "08:27:13.833 INFO  SelectVariants - Deflater: IntelDeflater\n",
      "08:27:13.833 INFO  SelectVariants - Inflater: IntelInflater\n",
      "08:27:13.834 INFO  SelectVariants - GCS max retries/reopens: 20\n",
      "08:27:13.834 INFO  SelectVariants - Requester pays: disabled\n",
      "08:27:13.834 INFO  SelectVariants - Initializing engine\n",
      "08:27:14.094 INFO  FeatureManager - Using codec VCFCodec to read file file:///scratch/ycc520/ag_recitation/wk5_recitation/result/raw_variants.vcf\n",
      "08:27:14.110 INFO  SelectVariants - Done initializing engine\n",
      "08:27:14.127 INFO  ProgressMeter - Starting traversal\n",
      "08:27:14.128 INFO  ProgressMeter -        Current Locus  Elapsed Minutes    Variants Processed  Variants/Minute\n",
      "08:27:14.201 INFO  ProgressMeter -             unmapped              0.0                   160         131506.8\n",
      "08:27:14.201 INFO  ProgressMeter - Traversal complete. Processed 160 total variants in 0.0 minutes.\n",
      "08:27:14.213 INFO  SelectVariants - Shutting down engine\n",
      "[March 1, 2021 8:27:14 AM EST] org.broadinstitute.hellbender.tools.walkers.variantutils.SelectVariants done. Elapsed time: 0.01 minutes.\n",
      "Runtime.totalMemory()=315097088\n"
     ]
    }
   ],
   "source": [
    "# split the variants to snps and indels\n",
    "gatk SelectVariants \\\n",
    "     -R data/GCF_000001405.33_GRCh38.p7_chr20_genomic.fna \\\n",
    "     -V result/raw_variants.vcf \\\n",
    "     -select-type SNP \\\n",
    "     -O result/raw_snps.vcf\n",
    "     \n",
    "gatk SelectVariants \\\n",
    "     -R data/GCF_000001405.33_GRCh38.p7_chr20_genomic.fna \\\n",
    "     -V result/raw_variants.vcf \\\n",
    "     -select-type INDEL \\\n",
    "     -O result/raw_indels.vcf"
   ]
  },
  {
   "cell_type": "code",
   "execution_count": 49,
   "metadata": {
    "scrolled": true
   },
   "outputs": [
    {
     "name": "stdout",
     "output_type": "stream",
     "text": [
      "08:28:21.520 INFO  NativeLibraryLoader - Loading libgkl_compression.so from jar:file:/share/apps/gatk/4.1.9.0/gatk-package-4.1.9.0-local.jar!/com/intel/gkl/native/libgkl_compression.so\n",
      "Mar 01, 2021 8:28:21 AM shaded.cloud_nio.com.google.auth.oauth2.ComputeEngineCredentials runningOnComputeEngine\n",
      "INFO: Failed to detect whether we are running on Google Compute Engine.\n",
      "08:28:21.634 INFO  VariantFiltration - ------------------------------------------------------------\n",
      "08:28:21.634 INFO  VariantFiltration - The Genome Analysis Toolkit (GATK) v4.1.9.0\n",
      "08:28:21.634 INFO  VariantFiltration - For support and documentation go to https://software.broadinstitute.org/gatk/\n",
      "08:28:21.634 INFO  VariantFiltration - Executing as ycc520@cs045.nyu.cluster on Linux v4.18.0-193.28.1.el8_2.x86_64 amd64\n",
      "08:28:21.634 INFO  VariantFiltration - Java runtime: Java HotSpot(TM) 64-Bit Server VM v1.8.0_271-b09\n",
      "08:28:21.634 INFO  VariantFiltration - Start Date/Time: March 1, 2021 8:28:21 AM EST\n",
      "08:28:21.634 INFO  VariantFiltration - ------------------------------------------------------------\n",
      "08:28:21.634 INFO  VariantFiltration - ------------------------------------------------------------\n",
      "08:28:21.635 INFO  VariantFiltration - HTSJDK Version: 2.23.0\n",
      "08:28:21.635 INFO  VariantFiltration - Picard Version: 2.23.3\n",
      "08:28:21.635 INFO  VariantFiltration - HTSJDK Defaults.COMPRESSION_LEVEL : 2\n",
      "08:28:21.635 INFO  VariantFiltration - HTSJDK Defaults.USE_ASYNC_IO_READ_FOR_SAMTOOLS : false\n",
      "08:28:21.635 INFO  VariantFiltration - HTSJDK Defaults.USE_ASYNC_IO_WRITE_FOR_SAMTOOLS : true\n",
      "08:28:21.635 INFO  VariantFiltration - HTSJDK Defaults.USE_ASYNC_IO_WRITE_FOR_TRIBBLE : false\n",
      "08:28:21.635 INFO  VariantFiltration - Deflater: IntelDeflater\n",
      "08:28:21.635 INFO  VariantFiltration - Inflater: IntelInflater\n",
      "08:28:21.635 INFO  VariantFiltration - GCS max retries/reopens: 20\n",
      "08:28:21.635 INFO  VariantFiltration - Requester pays: disabled\n",
      "08:28:21.635 INFO  VariantFiltration - Initializing engine\n",
      "08:28:21.885 INFO  FeatureManager - Using codec VCFCodec to read file file:///scratch/ycc520/ag_recitation/wk5_recitation/result/raw_snps.vcf\n",
      "08:28:21.901 INFO  VariantFiltration - Done initializing engine\n",
      "08:28:21.943 INFO  ProgressMeter - Starting traversal\n",
      "08:28:21.943 INFO  ProgressMeter -        Current Locus  Elapsed Minutes    Variants Processed  Variants/Minute\n",
      "08:28:22.080 INFO  ProgressMeter - NC_000020.11:23860707              0.0                  1405         615328.5\n",
      "08:28:22.080 INFO  ProgressMeter - Traversal complete. Processed 1405 total variants in 0.0 minutes.\n",
      "08:28:22.096 INFO  VariantFiltration - Shutting down engine\n",
      "[March 1, 2021 8:28:22 AM EST] org.broadinstitute.hellbender.tools.walkers.filters.VariantFiltration done. Elapsed time: 0.01 minutes.\n",
      "Runtime.totalMemory()=317194240\n"
     ]
    }
   ],
   "source": [
    "java -jar $GATK_JAR VariantFiltration \\\n",
    "          -R data/GCF_000001405.33_GRCh38.p7_chr20_genomic.fna \\\n",
    "          -V result/raw_snps.vcf \\\n",
    "          --filter-name \"QD_filter\" \\\n",
    "          -filter \"QD<2.0\" \\\n",
    "          --filter-name \"FS_filter\" \\\n",
    "          -filter \"FS>60.0\" \\\n",
    "          --filter-name \"MQ_filter\" \\\n",
    "          -filter \"MQ<40.0\" \\\n",
    "          --filter-name \"SOR_filter\" \\\n",
    "          -filter \"SOR>10.0\" \\\n",
    "          -O result/filtered_snps.vcf"
   ]
  },
  {
   "cell_type": "markdown",
   "metadata": {},
   "source": [
    "### What exactly the filtering is looking at?\n",
    "\n",
    "https://gatk.broadinstitute.org/hc/en-us/articles/360035890471-Hard-filtering-germline-short-variants"
   ]
  },
  {
   "cell_type": "markdown",
   "metadata": {},
   "source": [
    "## Annotation"
   ]
  },
  {
   "cell_type": "code",
   "execution_count": 50,
   "metadata": {},
   "outputs": [],
   "source": [
    "mkdir annotation"
   ]
  },
  {
   "cell_type": "code",
   "execution_count": 51,
   "metadata": {},
   "outputs": [],
   "source": [
    "cp result/filtered_snps.vcf annotation"
   ]
  },
  {
   "cell_type": "code",
   "execution_count": 5,
   "metadata": {},
   "outputs": [],
   "source": [
    "sed -i \"s/NC_000020.11/20/g\" annotation/filtered_snps.vcf"
   ]
  },
  {
   "cell_type": "code",
   "execution_count": 9,
   "metadata": {},
   "outputs": [
    {
     "name": "stdout",
     "output_type": "stream",
     "text": [
      "#CHROM\tPOS\tID\tREF\tALT\tQUAL\tFILTER\tINFO\tFORMAT\tsample_1\n",
      "NC_000020.11\t23531045\t.\tT\tA\t987.06\tPASS\tAC=2;AF=1.00;AN=2;DP=29;ExcessHet=3.0103;FS=0.000;MLEAC=2;MLEAF=1.00;MQ=60.00;QD=25.36;SOR=1.022\tGT:AD:DP:GQ:PL\t1/1:0,26:26:78:1001,78,0\n",
      "grep: write error: Broken pipe\n",
      "cat: write error: Broken pipe\n"
     ]
    }
   ],
   "source": [
    "cat result/filtered_snps.vcf | grep -v \"##\" | head -n 2"
   ]
  },
  {
   "cell_type": "code",
   "execution_count": 10,
   "metadata": {},
   "outputs": [
    {
     "name": "stdout",
     "output_type": "stream",
     "text": [
      "#CHROM\tPOS\tID\tREF\tALT\tQUAL\tFILTER\tINFO\tFORMAT\tsample_1\n",
      "20\t23531045\t.\tT\tA\t987.06\tPASS\tAC=2;AF=1.00;AN=2;DP=29;ExcessHet=3.0103;FS=0.000;MLEAC=2;MLEAF=1.00;MQ=60.00;QD=25.36;SOR=1.022\tGT:AD:DP:GQ:PL\t1/1:0,26:26:78:1001,78,0\n",
      "grep: write error: Broken pipe\n",
      "cat: write error: Broken pipe\n"
     ]
    }
   ],
   "source": [
    "cat annotation/filtered_snps.vcf | grep -v \"##\" | head -n 2"
   ]
  },
  {
   "cell_type": "code",
   "execution_count": 6,
   "metadata": {
    "scrolled": true
   },
   "outputs": [
    {
     "name": "stdout",
     "output_type": "stream",
     "text": [
      "00:00:00\tSnpEff version SnpEff 4.3t (build 2017-11-24 10:18), by Pablo Cingolani\n",
      "00:00:00\tCommand: 'ann'\n",
      "00:00:00\tReading configuration file 'snpEff.config'. Genome: 'GRCh38.p7.RefSeq'\n",
      "00:00:00\tReading config file: /scratch/ycc520/ag_recitation/wk5_recitation/snpEff.config\n",
      "00:00:00\tReading config file: /share/apps/snpeff/4.3t/snpEff.config\n",
      "00:00:00\tdone\n",
      "00:00:00\tReading database for genome version 'GRCh38.p7.RefSeq' from file '/scratch/work/cgsb/snpeff_data/GRCh38.p7.RefSeq/snpEffectPredictor.bin' (this might take a while)\n",
      "00:00:35\tdone\n",
      "00:00:35\tReading NextProt database from file '/scratch/work/cgsb/snpeff_data/GRCh38.p7.RefSeq/nextProt.bin'\n",
      "00:00:36\tNextProt database: 537115 markers loaded.\n",
      "00:00:36\tAdding transcript info to NextProt markers.\n",
      "00:00:36\tNextProt database: 537115 markers added.\n",
      "00:00:36\tLoading Motifs and PWMs\n",
      "00:00:36\tLoading interactions from : /scratch/work/cgsb/snpeff_data/GRCh38.p7.RefSeq/interactions.bin\n",
      "00:00:42\t\tInteractions: 1596432 added, 0 skipped.\n",
      "00:00:42\tBuilding interval forest\n",
      "00:00:51\tdone.\n",
      "00:00:51\tGenome stats :\n",
      "#-----------------------------------------------\n",
      "# Genome name                : 'Human genome GRCh38 using RefSeq transcripts'\n",
      "# Genome version             : 'GRCh38.p7.RefSeq'\n",
      "# Genome ID                  : 'GRCh38.p7.RefSeq[0]'\n",
      "# Has protein coding info    : true\n",
      "# Has Tr. Support Level info : true\n",
      "# Genes                      : 66927\n",
      "# Protein coding genes       : 26463\n",
      "#-----------------------------------------------\n",
      "# Transcripts                : 171893\n",
      "# Avg. transcripts per gene  : 2.57\n",
      "# TSL transcripts            : 0\n",
      "#-----------------------------------------------\n",
      "# Checked transcripts        : \n",
      "#               AA sequences :  77770 ( 67.46% )\n",
      "#              DNA sequences :      0 ( 0.00% )\n",
      "#-----------------------------------------------\n",
      "# Protein coding transcripts : 115289\n",
      "#              Length errors :   1124 ( 0.97% )\n",
      "#  STOP codons in CDS errors :    319 ( 0.28% )\n",
      "#         START codon errors :   1244 ( 1.08% )\n",
      "#        STOP codon warnings :    598 ( 0.52% )\n",
      "#              UTR sequences : 113213 ( 65.86% )\n",
      "#               Total Errors :   1820 ( 1.58% )\n",
      "#-----------------------------------------------\n",
      "# Cds                        : 1407000\n",
      "# Exons                      : 1855390\n",
      "# Exons with sequence        : 1855390\n",
      "# Exons without sequence     : 0\n",
      "# Avg. exons per transcript  : 10.79\n",
      "#-----------------------------------------------\n",
      "# Number of chromosomes      : 526\n",
      "# Chromosomes                : Format 'chromo_name size codon_table'\n",
      "#\t\t'1'\t248956422\tStandard\n",
      "#\t\t'2'\t242193529\tStandard\n",
      "#\t\t'3'\t198295559\tStandard\n",
      "#\t\t'4'\t190214555\tStandard\n",
      "#\t\t'5'\t181538259\tStandard\n",
      "#\t\t'6'\t170805979\tStandard\n",
      "#\t\t'7'\t159345973\tStandard\n",
      "#\t\t'X'\t156040895\tStandard\n",
      "#\t\t'8'\t145138636\tStandard\n",
      "#\t\t'9'\t138394717\tStandard\n",
      "#\t\t'11'\t135086622\tStandard\n",
      "#\t\t'10'\t133797422\tStandard\n",
      "#\t\t'12'\t133275309\tStandard\n",
      "#\t\t'13'\t114364328\tStandard\n",
      "#\t\t'14'\t107043718\tStandard\n",
      "#\t\t'15'\t101991189\tStandard\n",
      "#\t\t'16'\t90338345\tStandard\n",
      "#\t\t'17'\t83257441\tStandard\n",
      "#\t\t'18'\t80373285\tStandard\n",
      "#\t\t'20'\t64444167\tStandard\n",
      "#\t\t'19'\t58617616\tStandard\n",
      "#\t\t'Y'\t57227415\tStandard\n",
      "#\t\t'22'\t50818468\tStandard\n",
      "#\t\t'21'\t46709983\tStandard\n",
      "#\t\t'HSCHR15_4_CTG8'\t5161414\tStandard\n",
      "#\t\t'HG2139_PATCH'\t4998962\tStandard\n",
      "#\t\t'HSCHR6_MHC_SSTO_CTG1'\t4929269\tStandard\n",
      "#\t\t'HSCHR6_MHC_MCF_CTG1'\t4827813\tStandard\n",
      "#\t\t'HSCHR6_MHC_COX_CTG1'\t4795265\tStandard\n",
      "#\t\t'HSCHR6_MHC_MANN_CTG1'\t4677643\tStandard\n",
      "#\t\t'HSCHR6_MHC_APD_CTG1'\t4672374\tStandard\n",
      "#\t\t'HSCHR6_MHC_QBL_CTG1'\t4606388\tStandard\n",
      "#\t\t'HSCHR6_MHC_DBB_CTG1'\t4604811\tStandard\n",
      "#\t\t'HSCHR17_7_CTG4'\t2877074\tStandard\n",
      "#\t\t'HSCHR16_1_CTG1'\t2659700\tStandard\n",
      "#\t\t'HSCHR15_6_CTG8'\t2365364\tStandard\n",
      "#\t\t'HSCHR16_RANDOM_CTG1'\t1872759\tStandard\n",
      "#\t\t'HSCHR17_1_CTG5'\t1821992\tStandard\n",
      "#\t\t'HSCHR5_2_CTG1_1'\t1612928\tStandard\n",
      "#\t\t'HSCHR14_7_CTG1'\t1511111\tStandard\n",
      "#\t\t'HSCHR17_2_CTG5'\t1423190\tStandard\n",
      "#\t\t'HSCHR14_3_CTG1'\t1351393\tStandard\n",
      "#\t\t'HSCHR5_1_CTG1_1'\t1144418\tStandard\n",
      "#\t\t'HSCHR7_2_CTG6'\t1111570\tStandard\n",
      "#\t\t'HSCHR19LRC_LRC_J_CTG3_1'\t1091841\tStandard\n",
      "#\t\t'HSCHR19_4_CTG3_1'\t1066800\tStandard\n",
      "#\t\t'HSCHR19LRC_LRC_S_CTG3_1'\t1066390\tStandard\n",
      "#\t\t'HSCHR19LRC_LRC_I_CTG3_1'\t1064304\tStandard\n",
      "#\t\t'HSCHR19LRC_LRC_T_CTG3_1'\t1002683\tStandard\n",
      "#\t\t'HSCHR19LRC_COX1_CTG3_1'\t987716\tStandard\n",
      "#\t\t'HSCHR19LRC_PGF1_CTG3_1'\t987100\tStandard\n",
      "#\t\t'HSCHR8_8_CTG1'\t985506\tStandard\n",
      "#\t\t'HSCHR1_3_CTG32_1'\t911658\tStandard\n",
      "#\t\t'HSCHR6_1_CTG8'\t870480\tStandard\n",
      "#\t\t'HSCHR19LRC_PGF2_CTG3_1'\t796479\tStandard\n",
      "#\t\t'HSCHR19LRC_COX2_CTG3_1'\t729520\tStandard\n",
      "#\t\t'HSCHR8_9_CTG1'\t624492\tStandard\n",
      "#\t\t'HSCHR4_1_CTG9'\t586476\tStandard\n",
      "#\t\t'HSCHR12_3_CTG2'\t572349\tStandard\n",
      "#\t\t'HSCHR4_7_CTG12'\t555799\tStandard\n",
      "#\t\t'HG1362_PATCH'\t541038\tStandard\n",
      "#\t\t'HSCHR2_6_CTG7_2'\t535088\tStandard\n",
      "#\t\t'HG2290_PATCH'\t481245\tStandard\n",
      "#\t\t'HSCHR15_1_CTG1'\t478999\tStandard\n",
      "#\t\t'HG1342_HG2282_PATCH'\t467143\tStandard\n",
      "#\t\t'HG1832_PATCH'\t460100\tStandard\n",
      "#\t\t'HG2066_PATCH'\t451168\tStandard\n",
      "#\t\t'HSCHR15_RANDOM_CTG1'\t448248\tStandard\n",
      "#\t\t'HSCHR9_1_CTG5'\t439082\tStandard\n",
      "#\t\t'HSCHR15_5_CTG8'\t430880\tStandard\n",
      "#\t\t'HSCHR1_1_CTG32_1'\t425601\tStandard\n",
      "#\t\t'HG2244_HG2245_PATCH'\t420164\tStandard\n",
      "#\t\t'HG126_PATCH'\t415308\tStandard\n",
      "#\t\t'HSCHR12_2_CTG2'\t408271\tStandard\n",
      "#\t\t'HG2213_PATCH'\t407387\tStandard\n",
      "#\t\t'HG26_PATCH'\t405389\tStandard\n",
      "#\t\t'HSCHRUN_RANDOM_124'\t392061\tStandard\n",
      "#\t\t'HSCHR17_2_CTG2'\t391357\tStandard\n",
      "#\t\t'HSCHR15_2_CTG8'\t388773\tStandard\n",
      "#\t\t'HSCHR19_1_CTG2'\t385657\tStandard\n",
      "#\t\t'HSCHR4_6_CTG12'\t378547\tStandard\n",
      "#\t\t'HSCHR4_1_CTG6'\t376187\tStandard\n",
      "#\t\t'HSCHR17_1_CTG1'\t375691\tStandard\n",
      "#\t\t'HSCHR8_1_CTG7'\t374415\tStandard\n",
      "#\t\t'HG2235_PATCH'\t373699\tStandard\n",
      "#\t\t'HG2021_PATCH'\t370917\tStandard\n",
      "#\t\t'HSCHR1_3_CTG31'\t366580\tStandard\n",
      "#\t\t'HG2232_PATCH'\t365499\tStandard\n",
      "#\t\t'HG2291_PATCH'\t356766\tStandard\n",
      "#\t\t'HSCHR1_1_CTG3'\t354444\tStandard\n",
      "#\t\t'HSCHR1_4_CTG3'\t349938\tStandard\n",
      "#\t\t'HG2030_PATCH'\t330164\tStandard\n",
      "#\t\t'HSCHR15_1_CTG3'\t327382\tStandard\n",
      "#\t\t'HSCHR17_10_CTG4'\t325800\tStandard\n",
      "#\t\t'HSCHR14_1_CTG1'\t322166\tStandard\n",
      "#\t\t'HG1651_PATCH'\t320750\tStandard\n",
      "#\t\t'HSCHR8_5_CTG1'\t318687\tStandard\n",
      "#\t\t'HG2063_PATCH'\t315610\tStandard\n",
      "#\t\t'HSCHR10_1_CTG2'\t309802\tStandard\n",
      "#\t\t'HSCHR13_1_CTG1'\t306913\tStandard\n",
      "#\t\t'HG2022_PATCH'\t305979\tStandard\n",
      "#\t\t'HSCHR8_3_CTG7'\t305841\tStandard\n",
      "#\t\t'HG2095_PATCH'\t305542\tStandard\n",
      "#\t\t'HSCHR22_1_CTG7'\t304135\tStandard\n",
      "#\t\t'HSCHR8_3_CTG1'\t300230\tStandard\n",
      "#\t\t'HSCHR11_1_CTG7'\t296895\tStandard\n",
      "#\t\t'HSCHR15_1_CTG8'\t296527\tStandard\n",
      "#\t\t'HSCHR8_1_CTG1'\t292436\tStandard\n",
      "#\t\t'HSCHR18_1_CTG1_1'\t289831\tStandard\n",
      "#\t\t'HSCHRX_1_CTG3'\t284869\tStandard\n",
      "#\t\t'HSCHR8_2_CTG1'\t282736\tStandard\n",
      "#\t\t'HSCHR19KIR_FH05_B_HAP_CTG3_1'\t282224\tStandard\n",
      "#\t\t'HSCHR17_RANDOM_CTG4'\t280839\tStandard\n",
      "#\t\t'HSCHR1_5_CTG3'\t278659\tStandard\n",
      "#\t\t'HSCHR17_4_CTG4'\t278131\tStandard\n",
      "#\t\t'HG2191_PATCH'\t277797\tStandard\n",
      "#\t\t'HSCHRX_2_CTG3'\t274009\tStandard\n",
      "#\t\t'HSCHR6_1_CTG5'\t271782\tStandard\n",
      "#\t\t'HSCHR7_3_CTG6'\t271455\tStandard\n",
      "#\t\t'HG2128_PATCH'\t268330\tStandard\n",
      "#\t\t'HSCHR16_4_CTG3_1'\t267463\tStandard\n",
      "#\t\t'HG2334_PATCH'\t264545\tStandard\n",
      "#\t\t'HSCHR22_1_CTG4'\t263666\tStandard\n",
      "#\t\t'HSCHR15_3_CTG3'\t263054\tStandard\n",
      "#\t\t'HSCHR22_1_CTG3'\t259914\tStandard\n",
      "#\t\t'HSCHR1_2_CTG3'\t256271\tStandard\n",
      "#\t\t'HSCHR19KIR_FH15_B_HAP_CTG3_1'\t248807\tStandard\n",
      "#\t\t'HSCHR3_3_CTG2_1'\t248252\tStandard\n",
      "#\t\t'HG2072_PATCH'\t245716\tStandard\n",
      "#\t\t'HSCHR15_3_CTG8'\t244917\tStandard\n",
      "#\t\t'HSCHR4_3_CTG12'\t244096\tStandard\n",
      "#\t\t'HSCHR12_4_CTG2'\t238139\tStandard\n",
      "#\t\t'HSCHR4_9_CTG12'\t236512\tStandard\n",
      "#\t\t'HSCHR17_8_CTG4'\t235827\tStandard\n",
      "#\t\t'HSCHR19_3_CTG3_1'\t233762\tStandard\n",
      "#\t\t'HSCHR16_3_CTG1'\t232857\tStandard\n",
      "#\t\t'HG2023_PATCH'\t230434\tStandard\n",
      "#\t\t'HSCHR8_7_CTG1'\t229282\tStandard\n",
      "#\t\t'HSCHR5_2_CTG1'\t226852\tStandard\n",
      "#\t\t'HSCHR3_4_CTG2_1'\t224108\tStandard\n",
      "#\t\t'HSCHR17_2_CTG4'\t223995\tStandard\n",
      "#\t\t'HSCHR2_4_CTG1'\t223625\tStandard\n",
      "#\t\t'HSCHR4_1_CTG4'\t220246\tStandard\n",
      "#\t\t'HSCHR11_3_CTG1'\t218612\tStandard\n",
      "#\t\t'HSCHR19KIR_FH13_BA2_HAP_CTG3_1'\t215732\tStandard\n",
      "#\t\t'HSCHR11_2_CTG1_1'\t214625\tStandard\n",
      "#\t\t'HSCHR2_2_CTG7'\t214158\tStandard\n",
      "#\t\t'HSCHR1_5_CTG32_1'\t212205\tStandard\n",
      "#\t\t'HG23_PATCH'\t211377\tStandard\n",
      "#\t\t'HSCHR14_CTG2_UNLOCALIZED'\t211173\tStandard\n",
      "#\t\t'HSCHRUN_RANDOM_CTG20'\t210658\tStandard\n",
      "#\t\t'HSCHR11_1_CTG8'\t210133\tStandard\n",
      "#\t\t'HSCHR7_1_CTG7'\t209988\tStandard\n",
      "#\t\t'HSCHR4_RANDOM_CTG4'\t209709\tStandard\n",
      "#\t\t'HSCHR7_2_CTG4_4'\t209586\tStandard\n",
      "#\t\t'HSCHR19KIR_GRC212_AB_HAP_CTG3_1'\t209512\tStandard\n",
      "#\t\t'HG2233_PATCH'\t208149\tStandard\n",
      "#\t\t'HG2288_HG2289_PATCH'\t206320\tStandard\n",
      "#\t\t'HSCHR4_5_CTG12'\t205944\tStandard\n",
      "#\t\t'HSCHR4_11_CTG12'\t205407\tStandard\n",
      "#\t\t'HSCHR3_1_CTG3'\t205312\tStandard\n",
      "#\t\t'HSCHR19KIR_RSH_BA2_HAP_CTG3_1'\t205194\tStandard\n",
      "#\t\t'HSCHR18_5_CTG1_1'\t205101\tStandard\n",
      "#\t\t'HSCHR19KIR_G248_BA2_HAP_CTG3_1'\t204239\tStandard\n",
      "#\t\t'HSCHR11_1_CTG5'\t204059\tStandard\n",
      "#\t\t'HSCHR11_1_CTG1_2'\t203552\tStandard\n",
      "#\t\t'HSCHR14_CTG1_UNLOCALIZED'\t201709\tStandard\n",
      "#\t\t'HSCHR21_2_CTG1_1'\t201197\tStandard\n",
      "#\t\t'HG142_HG150_NOVEL_TEST'\t200998\tStandard\n",
      "#\t\t'HSCHR19KIR_FH08_BAX_HAP_CTG3_1'\t200773\tStandard\n",
      "#\t\t'HSCHRUN_RANDOM_CTG24'\t198735\tStandard\n",
      "#\t\t'HSCHR18_2_CTG2'\t198278\tStandard\n",
      "#\t\t'HSCHR19KIR_FH05_A_HAP_CTG3_1'\t198005\tStandard\n",
      "#\t\t'HSCHR6_1_CTG4'\t197536\tStandard\n",
      "#\t\t'HSCHR3_6_CTG3'\t197351\tStandard\n",
      "#\t\t'HG107_PATCH'\t196940\tStandard\n",
      "#\t\t'HSCHR17_1_CTG2'\t196688\tStandard\n",
      "#\t\t'HSCHR15_2_CTG3'\t196384\tStandard\n",
      "#\t\t'HSCHR5_3_CTG1'\t195710\tStandard\n",
      "#\t\t'HSCHR14_CTG3_UNLOCALIZED'\t194050\tStandard\n",
      "#\t\t'HSCHR16_1_CTG3_1'\t192462\tStandard\n",
      "#\t\t'HSCHR13_1_CTG3'\t191684\tStandard\n",
      "#\t\t'HSCHR14_CTG4_UNLOCALIZED'\t191469\tStandard\n",
      "#\t\t'HG151_NOVEL_TEST'\t191409\tStandard\n",
      "#\t\t'HSCHR19KIR_ABC08_A1_HAP_CTG3_1'\t190932\tStandard\n",
      "#\t\t'HSCHR7_2_CTG1'\t190869\tStandard\n",
      "#\t\t'HSCHR19KIR_FH06_BA1_HAP_CTG3_1'\t189352\tStandard\n",
      "#\t\t'HSCHR10_1_CTG4'\t188315\tStandard\n",
      "#\t\t'HSCHR19_3_CTG2'\t188024\tStandard\n",
      "#\t\t'HSCHR19KIR_FH06_A_HAP_CTG3_1'\t187935\tStandard\n",
      "#\t\t'HSCHRUN_RANDOM_CTG42'\t186739\tStandard\n",
      "#\t\t'HG986_PATCH'\t186494\tStandard\n",
      "#\t\t'HSCHR22_1_CTG6'\t186262\tStandard\n",
      "#\t\t'HSCHR19KIR_FH08_A_HAP_CTG3_1'\t186203\tStandard\n",
      "#\t\t'HSCHR11_1_CTG2'\t186169\tStandard\n",
      "#\t\t'HSCHR6_1_CTG3'\t185823\tStandard\n",
      "#\t\t'HSCHR17_RANDOM_CTG3'\t185591\tStandard\n",
      "#\t\t'HSCHR10_1_CTG6'\t185507\tStandard\n",
      "#\t\t'HSCHR1_4_CTG31'\t185285\tStandard\n",
      "#\t\t'HSCHR19KIR_T7526_BDEL_HAP_CTG3_1'\t184516\tStandard\n",
      "#\t\t'HSCHR19KIR_LUCE_BDEL_HAP_CTG3_1'\t184499\tStandard\n",
      "#\t\t'HSCHR3_9_CTG3'\t184404\tStandard\n",
      "#\t\t'HSCHR12_4_CTG2_1'\t184319\tStandard\n",
      "#\t\t'HSCHR20_1_CTG3'\t183433\tStandard\n",
      "#\t\t'HSCHRUN_RANDOM_CTG1'\t182896\tStandard\n",
      "#\t\t'HSCHR1_1_CTG31'\t182439\tStandard\n",
      "#\t\t'HG2116_PATCH'\t181958\tStandard\n",
      "#\t\t'HSCHR22_UNLOCALIZED_CTG6'\t181920\tStandard\n",
      "#\t\t'HSCHR10_1_CTG3'\t181496\tStandard\n",
      "#\t\t'HSCHR14_2_CTG1'\t180703\tStandard\n",
      "#\t\t'HSCHR3_1_CTG2_1'\t180671\tStandard\n",
      "#\t\t'HSCHR13_1_CTG2'\t180306\tStandard\n",
      "#\t\t'HG2239_PATCH'\t179932\tStandard\n",
      "#\t\t'HSCHR22_UNLOCALIZED_CTG3'\t179772\tStandard\n",
      "#\t\t'HSCHRUN_RANDOM_CTG16'\t179693\tStandard\n",
      "#\t\t'HSCHR10_1_CTG1'\t179254\tStandard\n",
      "#\t\t'HSCHRUN_RANDOM_CTG10'\t179198\tStandard\n",
      "#\t\t'HSCHR5_4_CTG1'\t179043\tStandard\n",
      "#\t\t'HSCHR17_1_CTG9'\t178921\tStandard\n",
      "#\t\t'HSCHR19KIR_RP5_B_HAP_CTG3_1'\t177381\tStandard\n",
      "#\t\t'HSCHR11_1_CTG6'\t177092\tStandard\n",
      "#\t\t'HSCHR9_UNLOCALIZED_CTG3'\t176845\tStandard\n",
      "#\t\t'HSCHRUN_RANDOM_CTG6'\t176608\tStandard\n",
      "#\t\t'HSCHR22_3_CTG1'\t176103\tStandard\n",
      "#\t\t'HSCHR1_CTG7_UNLOCALIZED'\t176043\tStandard\n",
      "#\t\t'HSCHR6_1_CTG7'\t175808\tStandard\n",
      "#\t\t'HSCHR1_CTG1_UNLOCALIZED'\t175055\tStandard\n",
      "#\t\t'HSCHR22_7_CTG1'\t174749\tStandard\n",
      "#\t\t'HSCHR2_3_CTG15'\t174166\tStandard\n",
      "#\t\t'HSCHR18_ALT21_CTG2_1'\t174061\tStandard\n",
      "#\t\t'HSCHR3_2_CTG2_1'\t173649\tStandard\n",
      "#\t\t'HSCHR5_1_CTG5'\t173459\tStandard\n",
      "#\t\t'HSCHR3_1_CTG1'\t173151\tStandard\n",
      "#\t\t'HSCHR14_CTG7_UNLOCALIZED'\t172810\tStandard\n",
      "#\t\t'HSCHR5_4_CTG1_1'\t172708\tStandard\n",
      "#\t\t'HSCHR9_1_CTG3'\t171286\tStandard\n",
      "#\t\t'HSCHR19KIR_G248_A_HAP_CTG3_1'\t171027\tStandard\n",
      "#\t\t'HSCHR19KIR_ABC08_AB_HAP_T_P_CTG3_1'\t170701\tStandard\n",
      "#\t\t'HSCHR19KIR_LUCE_A_HAP_CTG3_1'\t170698\tStandard\n",
      "#\t\t'HSCHR19KIR_RSH_A_HAP_CTG3_1'\t170680\tStandard\n",
      "#\t\t'HSCHR19KIR_T7526_A_HAP_CTG3_1'\t170665\tStandard\n",
      "#\t\t'HSCHR19KIR_FH15_A_HAP_CTG3_1'\t170537\tStandard\n",
      "#\t\t'HSCHR19KIR_G085_A_HAP_CTG3_1'\t170399\tStandard\n",
      "#\t\t'HSCHR19_2_CTG2'\t170222\tStandard\n",
      "#\t\t'HSCHR19KIR_FH13_A_HAP_CTG3_1'\t170148\tStandard\n",
      "#\t\t'HSCHR12_1_CTG2_1'\t169178\tStandard\n",
      "#\t\t'HSCHR16_3_CTG3_1'\t169136\tStandard\n",
      "#\t\t'HSCHR13_1_CTG4'\t169134\tStandard\n",
      "#\t\t'HSCHRUN_RANDOM_CTG21'\t168472\tStandard\n",
      "#\t\t'HSCHR13_1_CTG7'\t168146\tStandard\n",
      "#\t\t'HSCHR18_3_CTG2_1'\t167999\tStandard\n",
      "#\t\t'HSCHR18_1_CTG2_1'\t167950\tStandard\n",
      "#\t\t'HSCHR12_1_CTG1'\t167313\tStandard\n",
      "#\t\t'HSCHR21_8_CTG1_1'\t166743\tStandard\n",
      "#\t\t'HSCHR3_4_CTG3'\t166540\tStandard\n",
      "#\t\t'HG2058_PATCH'\t166200\tStandard\n",
      "#\t\t'HSCHR1_2_CTG32_1'\t165834\tStandard\n",
      "#\t\t'HG2237_PATCH'\t165718\tStandard\n",
      "#\t\t'HSCHR3_8_CTG3'\t165607\tStandard\n",
      "#\t\t'HSCHR22_UNLOCALIZED_CTG4'\t165050\tStandard\n",
      "#\t\t'HSCHR18_2_CTG1_1'\t164789\tStandard\n",
      "#\t\t'HSCHR5_6_CTG1'\t164558\tStandard\n",
      "#\t\t'HSCHR4_1_CTG12'\t164536\tStandard\n",
      "#\t\t'HSCHRUN_RANDOM_CTG2'\t164239\tStandard\n",
      "#\t\t'HSCHR3_7_CTG3'\t164170\tStandard\n",
      "#\t\t'HSCHR9_1_CTG6'\t163882\tStandard\n",
      "#\t\t'HSCHR4_8_CTG12'\t163749\tStandard\n",
      "#\t\t'HSCHR3_5_CTG3'\t163458\tStandard\n",
      "#\t\t'HSCHR9_1_CTG1'\t162988\tStandard\n",
      "#\t\t'HSCHR3_3_CTG3'\t162896\tStandard\n",
      "#\t\t'HSCHR22_1_CTG1'\t162811\tStandard\n",
      "#\t\t'HSCHR3_2_CTG3'\t162429\tStandard\n",
      "#\t\t'HSCHR1_ALT2_1_CTG32_1'\t162212\tStandard\n",
      "#\t\t'HSCHRUN_RANDOM_CTG11'\t161802\tStandard\n",
      "#\t\t'HSCHR2_1_CTG15'\t161578\tStandard\n",
      "#\t\t'HSCHR2_RANDOM_CTG1'\t161471\tStandard\n",
      "#\t\t'HSCHR2_2_CTG15'\t161218\tStandard\n",
      "#\t\t'HSCHRUN_RANDOM_CTG9'\t161147\tStandard\n",
      "#\t\t'HSCHR18_2_CTG2_1'\t159547\tStandard\n",
      "#\t\t'HSCHR8_4_CTG7'\t158983\tStandard\n",
      "#\t\t'HSCHR4_4_CTG12'\t158965\tStandard\n",
      "#\t\t'HSCHRUN_RANDOM_CTG26'\t158759\tStandard\n",
      "#\t\t'HSCHR7_1_CTG4_4'\t158166\tStandard\n",
      "#\t\t'HSCHR7_1_CTG1'\t157952\tStandard\n",
      "#\t\t'HSCHR18_ALT2_CTG2_1'\t157710\tStandard\n",
      "#\t\t'HSCHRUN_RANDOM_CTG17'\t157432\tStandard\n",
      "#\t\t'HSCHR17_3_CTG2'\t157099\tStandard\n",
      "#\t\t'HSCHR19KIR_G085_BA1_HAP_CTG3_1'\t157053\tStandard\n",
      "#\t\t'HSCHR22_4_CTG1'\t156562\tStandard\n",
      "#\t\t'HSCHR22_6_CTG1'\t155930\tStandard\n",
      "#\t\t'HSCHR19_1_CTG3_1'\t155864\tStandard\n",
      "#\t\t'HSCHR19KIR_GRC212_BA1_HAP_CTG3_1'\t155532\tStandard\n",
      "#\t\t'HSCHR3UN_CTG2'\t155397\tStandard\n",
      "#\t\t'HSCHR11_1_CTG1_1'\t154407\tStandard\n",
      "#\t\t'HSCHR2_RANDOM_CTG2'\t153799\tStandard\n",
      "#\t\t'HSCHR22_5_CTG1'\t153027\tStandard\n",
      "#\t\t'HSCHR12_3_CTG2_1'\t152874\tStandard\n",
      "#\t\t'HSCHR6_1_CTG6'\t152148\tStandard\n",
      "#\t\t'HSCHR22_UNLOCALIZED_CTG1'\t150754\tStandard\n",
      "#\t\t'HSCHRUN_RANDOM_CTG28'\t150742\tStandard\n",
      "#\t\t'HSCHRUN_RANDOM_CTG27'\t148850\tStandard\n",
      "#\t\t'HG2249_PATCH'\t148762\tStandard\n",
      "#\t\t'HSCHR8_4_CTG1'\t145606\tStandard\n",
      "#\t\t'HSCHR22_8_CTG1'\t145162\tStandard\n",
      "#\t\t'HSCHRX_2_CTG12'\t144206\tStandard\n",
      "#\t\t'HSCHR21_6_CTG1_1'\t143900\tStandard\n",
      "#\t\t'HSCHR2_1_CTG5'\t143390\tStandard\n",
      "#\t\t'HSCHR8_1_CTG6'\t141812\tStandard\n",
      "#\t\t'HSCHR1_3_CTG3'\t141019\tStandard\n",
      "#\t\t'HSCHR5_7_CTG1'\t139087\tStandard\n",
      "#\t\t'HSCHR12_2_CTG2_1'\t138655\tStandard\n",
      "#\t\t'HSCHRUN_RANDOM_137'\t138126\tStandard\n",
      "#\t\t'HSCHR2_5_CTG7_2'\t138019\tStandard\n",
      "#\t\t'HSCHR17_2_CTG1'\t137721\tStandard\n",
      "#\t\t'HSCHRUN_RANDOM_CTG4'\t137718\tStandard\n",
      "#\t\t'HSCHR8_6_CTG1'\t136959\tStandard\n",
      "#\t\t'HSCHR2_2_CTG1'\t136240\tStandard\n",
      "#\t\t'HSCHR16_CTG2'\t134193\tStandard\n",
      "#\t\t'HSCHR9_1_CTG7'\t134099\tStandard\n",
      "#\t\t'HSCHR8_5_CTG7'\t133535\tStandard\n",
      "#\t\t'HSCHR17_1_CTG4'\t133151\tStandard\n",
      "#\t\t'HSCHR2_1_CTG7'\t133041\tStandard\n",
      "#\t\t'HSCHR8_2_CTG7'\t132244\tStandard\n",
      "#\t\t'HSCHR5_2_CTG5'\t131892\tStandard\n",
      "#\t\t'HSCHR5_3_CTG5'\t130957\tStandard\n",
      "#\t\t'HSCHR20_1_CTG1'\t128386\tStandard\n",
      "#\t\t'HSCHR1_CTG3_UNLOCALIZED'\t127682\tStandard\n",
      "#\t\t'HSCHR7_2_CTG7'\t126434\tStandard\n",
      "#\t\t'HSCHR5_5_CTG1'\t126136\tStandard\n",
      "#\t\t'HSCHR6_1_CTG2'\t124736\tStandard\n",
      "#\t\t'HSCHR2_1_CTG7_2'\t123821\tStandard\n",
      "#\t\t'HSCHR13_1_CTG8'\t123480\tStandard\n",
      "#\t\t'HSCHR19KIR_ABC08_AB_HAP_C_P_CTG3_1'\t123111\tStandard\n",
      "#\t\t'HG2104_PATCH'\t122022\tStandard\n",
      "#\t\t'HSCHR12_1_CTG2'\t120804\tStandard\n",
      "#\t\t'HSCHR2_1_CTG1'\t120616\tStandard\n",
      "#\t\t'HSCHR4_2_CTG12'\t119912\tStandard\n",
      "#\t\t'HSCHR12_6_CTG2_1'\t119498\tStandard\n",
      "#\t\t'HSCHR7_1_CTG6'\t119183\tStandard\n",
      "#\t\t'HSCHR20_1_CTG2'\t118774\tStandard\n",
      "#\t\t'HSCHR21_4_CTG1_1'\t116689\tStandard\n",
      "#\t\t'HSCHR3_5_CTG2_1'\t113034\tStandard\n",
      "#\t\t'HSCHR17_RANDOM_CTG5'\t112551\tStandard\n",
      "#\t\t'HSCHRUN_RANDOM_129'\t112505\tStandard\n",
      "#\t\t'HSCHR4_1_CTG8_1'\t111943\tStandard\n",
      "#\t\t'HSCHR18_4_CTG1_1'\t111737\tStandard\n",
      "#\t\t'HSCHR2_4_CTG7_2'\t110395\tStandard\n",
      "#\t\t'HSCHR1_2_CTG31'\t110268\tStandard\n",
      "#\t\t'HSCHR2_3_CTG7_2'\t110099\tStandard\n",
      "#\t\t'HSCHR1_1_CTG11'\t109528\tStandard\n",
      "#\t\t'HSCHR12_2_CTG1'\t109323\tStandard\n",
      "#\t\t'HSCHR3_3_CTG1'\t109187\tStandard\n",
      "#\t\t'HG2217_PATCH'\t108875\tStandard\n",
      "#\t\t'HSCHR17_9_CTG4'\t108763\tStandard\n",
      "#\t\t'HSCHR11_2_CTG1'\t106711\tStandard\n",
      "#\t\t'HSCHR18_1_CTG2'\t104552\tStandard\n",
      "#\t\t'HSCHR22_UNLOCALIZED_CTG7'\t103838\tStandard\n",
      "#\t\t'HSCHR13_1_CTG6'\t103832\tStandard\n",
      "#\t\t'HSCHR22_1_CTG5'\t101331\tStandard\n",
      "#\t\t'HSCHR5_3_CTG1_1'\t101241\tStandard\n",
      "#\t\t'HG2062_PATCH'\t101150\tStandard\n",
      "#\t\t'HG1311_PATCH'\t101037\tStandard\n",
      "#\t\t'HSCHR11_CTG1_UNLOCALIZED'\t100316\tStandard\n",
      "#\t\t'HSCHR22_UNLOCALIZED_CTG8'\t99375\tStandard\n",
      "#\t\t'HSCHR22_1_CTG2'\t96924\tStandard\n",
      "#\t\t'HSCHR2_2_CTG7_2'\t96131\tStandard\n",
      "#\t\t'HSCHRUN_RANDOM_CTG25'\t93321\tStandard\n",
      "#\t\t'HSCHRUN_RANDOM_128'\t92983\tStandard\n",
      "#\t\t'HSCHR5_RANDOM_CTG1'\t92689\tStandard\n",
      "#\t\t'HSCHRUN_RANDOM_147'\t91309\tStandard\n",
      "#\t\t'HSCHR4_2_CTG4'\t90922\tStandard\n",
      "#\t\t'HSCHR17_3_CTG4'\t90219\tStandard\n",
      "#\t\t'HSCHR16_2_CTG3_1'\t89672\tStandard\n",
      "#\t\t'HSCHR17_6_CTG4'\t88070\tStandard\n",
      "#\t\t'HG2247_PATCH'\t86533\tStandard\n",
      "#\t\t'HG2242_HG2243_PATCH'\t85284\tStandard\n",
      "#\t\t'HSCHR5_1_CTG1'\t82728\tStandard\n",
      "#\t\t'HSCHR21_5_CTG2'\t82692\tStandard\n",
      "#\t\t'HSCHR6_1_CTG10'\t82315\tStandard\n",
      "#\t\t'HSCHRUN_RANDOM_CTG35'\t79590\tStandard\n",
      "#\t\t'HSCHR6_8_CTG1'\t76752\tStandard\n",
      "#\t\t'HSCHR12_5_CTG2_1'\t76061\tStandard\n",
      "#\t\t'HSCHR6_1_CTG9'\t75005\tStandard\n",
      "#\t\t'HSCHR21_3_CTG1_1'\t74653\tStandard\n",
      "#\t\t'HSCHR22_2_CTG1'\t74013\tStandard\n",
      "#\t\t'HSCHR22_UNLOCALIZED_CTG9'\t73985\tStandard\n",
      "#\t\t'HSCHR9_1_CTG2'\t71551\tStandard\n",
      "#\t\t'HSCHRUN_RANDOM_CTG36'\t71251\tStandard\n",
      "#\t\t'HSCHR2_3_CTG1'\t70887\tStandard\n",
      "#\t\t'HSCHR17_5_CTG4'\t70345\tStandard\n",
      "#\t\t'HSCHR11_1_CTG3'\t67707\tStandard\n",
      "#\t\t'HSCHR1_CTG4_UNLOCALIZED'\t66860\tStandard\n",
      "#\t\t'HSCHRUN_RANDOM_CTG23'\t66486\tStandard\n",
      "#\t\t'HSCHR16_4_CTG1'\t63982\tStandard\n",
      "#\t\t'HSCHR21_1_CTG1_1'\t63917\tStandard\n",
      "#\t\t'HSCHRUN_RANDOM_CTG30'\t62944\tStandard\n",
      "#\t\t'HSCHR19_5_CTG2'\t61734\tStandard\n",
      "#\t\t'HSCHR9_1_CTG4'\t60032\tStandard\n",
      "#\t\t'HSCHR16_5_CTG1'\t59016\tStandard\n",
      "#\t\t'HSCHR20_1_CTG4'\t58661\tStandard\n",
      "#\t\t'HSCHR12_7_CTG2_1'\t56134\tStandard\n",
      "#\t\t'HSCHR19_4_CTG2'\t52969\tStandard\n",
      "#\t\t'HSCHR1_4_CTG32_1'\t50258\tStandard\n",
      "#\t\t'HSCHRUN_RANDOM_159'\t44474\tStandard\n",
      "#\t\t'HSCHR14_CTG8_UNLOCALIZED'\t43739\tStandard\n",
      "#\t\t'HSCHR19_2_CTG3_1'\t43156\tStandard\n",
      "#\t\t'HSCHR22_UNLOCALIZED_CTG5'\t42811\tStandard\n",
      "#\t\t'HSCHR1_CTG6_UNLOCALIZED'\t42210\tStandard\n",
      "#\t\t'HSCHRUN_RANDOM_CTG22'\t41891\tStandard\n",
      "#\t\t'HSCHR1_CTG9_UNLOCALIZED'\t41717\tStandard\n",
      "#\t\t'HSCHR22_UNLOCALIZED_CTG2'\t41543\tStandard\n",
      "#\t\t'HSCHR1_CTG8_UNLOCALIZED'\t40745\tStandard\n",
      "#\t\t'HSCHRUN_RANDOM_CTG33'\t40191\tStandard\n",
      "#\t\t'HSCHR1_CTG5_UNLOCALIZED'\t40176\tStandard\n",
      "#\t\t'HSCHR12_5_CTG2'\t40090\tStandard\n",
      "#\t\t'HSCHR9_UNLOCALIZED_CTG1'\t40062\tStandard\n",
      "#\t\t'HSCHR14_CTG6_UNLOCALIZED'\t39555\tStandard\n",
      "#\t\t'HSCHR9_UNLOCALIZED_CTG4'\t39050\tStandard\n",
      "#\t\t'HSCHR14_CTG5_UNLOCALIZED'\t38115\tStandard\n",
      "#\t\t'HSCHR9_UNLOCALIZED_CTG2'\t38054\tStandard\n",
      "#\t\t'HSCHRUN_RANDOM_111'\t37690\tStandard\n",
      "#\t\t'HSCHR13_1_CTG5'\t37287\tStandard\n",
      "#\t\t'HSCHRY_RANDOM_CTG1'\t37240\tStandard\n",
      "#\t\t'HSCHRUN_RANDOM_CTG34'\t36723\tStandard\n",
      "#\t\t'HSCHR8_6_CTG7'\t36640\tStandard\n",
      "#\t\t'HG2216_PATCH'\t35455\tStandard\n",
      "#\t\t'HSCHR1_CTG2_UNLOCALIZED'\t32032\tStandard\n",
      "#\t\t'HSCHRUN_RANDOM_158'\t31033\tStandard\n",
      "#\t\t'HSCHRUN_RANDOM_CTG29'\t27745\tStandard\n",
      "#\t\t'HSCHRUN_RANDOM_136'\t22689\tStandard\n",
      "#\t\t'HSCHRUN_RANDOM_104'\t21476\tStandard\n",
      "#\t\t'MT'\t16569\tVertebrate_Mitochondrial\n",
      "#\t\t'HSCHRUN_RANDOM_CTG19'\t15008\tStandard\n",
      "#\t\t'HG2241_PATCH'\t14347\tStandard\n",
      "#\t\t'HSCHRUN_RANDOM_110'\t12399\tStandard\n",
      "#\t\t'HSCHRUN_RANDOM_178'\t8320\tStandard\n",
      "#\t\t'HSCHRUN_RANDOM_139'\t8127\tStandard\n",
      "#\t\t'HSCHRUN_RANDOM_203'\t7992\tStandard\n",
      "#\t\t'HSCHRUN_RANDOM_204'\t7642\tStandard\n",
      "#\t\t'HSCHRUN_RANDOM_157'\t7046\tStandard\n",
      "#\t\t'HSCHRUN_RANDOM_162'\t6504\tStandard\n",
      "#\t\t'HSCHRUN_RANDOM_140'\t6361\tStandard\n",
      "#\t\t'HSCHRUN_RANDOM_163'\t6158\tStandard\n",
      "#\t\t'HSCHRUN_RANDOM_165'\t5796\tStandard\n",
      "#\t\t'HSCHRUN_RANDOM_138'\t5674\tStandard\n",
      "#\t\t'HSCHRUN_RANDOM_141'\t5353\tStandard\n",
      "#\t\t'HSCHRUN_RANDOM_160'\t4685\tStandard\n",
      "#\t\t'HSCHRUN_RANDOM_161'\t4513\tStandard\n",
      "#\t\t'HSCHRUN_RANDOM_105'\t4416\tStandard\n",
      "#\t\t'HSCHRUN_RANDOM_196'\t4215\tStandard\n",
      "#\t\t'HSCHRUN_RANDOM_130'\t4055\tStandard\n",
      "#\t\t'HSCHRUN_RANDOM_127'\t3920\tStandard\n",
      "#\t\t'HSCHRUN_RANDOM_177'\t3530\tStandard\n",
      "#\t\t'HSCHRUN_RANDOM_142'\t3253\tStandard\n",
      "#\t\t'HSCHRUN_RANDOM_164'\t3041\tStandard\n",
      "#\t\t'HSCHRUN_RANDOM_144'\t2983\tStandard\n",
      "#\t\t'HSCHRUN_RANDOM_155'\t2969\tStandard\n",
      "#\t\t'HSCHRUN_RANDOM_176'\t2855\tStandard\n",
      "#\t\t'HSCHRUN_RANDOM_202'\t2805\tStandard\n",
      "#\t\t'HSCHRUN_RANDOM_169'\t2699\tStandard\n",
      "#\t\t'HSCHRUN_RANDOM_198'\t2656\tStandard\n",
      "#\t\t'HSCHRUN_RANDOM_113'\t2646\tStandard\n",
      "#\t\t'HSCHRUN_RANDOM_114'\t2489\tStandard\n",
      "#\t\t'HSCHRUN_RANDOM_131'\t2415\tStandard\n",
      "#\t\t'HSCHRUN_RANDOM_182'\t2387\tStandard\n",
      "#\t\t'HSCHRUN_RANDOM_201'\t2378\tStandard\n",
      "#\t\t'HSCHRUN_RANDOM_117'\t2321\tStandard\n",
      "#\t\t'HSCHRUN_RANDOM_132'\t2318\tStandard\n",
      "#\t\t'HSCHRUN_RANDOM_108'\t2276\tStandard\n",
      "#\t\t'HSCHRUN_RANDOM_100'\t2274\tStandard\n",
      "#\t\t'HSCHRUN_RANDOM_133'\t2186\tStandard\n",
      "#\t\t'HSCHRUN_RANDOM_145'\t2168\tStandard\n",
      "#\t\t'HSCHRUN_RANDOM_101'\t2165\tStandard\n",
      "#\t\t'HSCHRUN_RANDOM_116'\t2145\tStandard\n",
      "#\t\t'HSCHRUN_RANDOM_118'\t2140\tStandard\n",
      "#\t\t'HSCHRUN_RANDOM_119'\t2043\tStandard\n",
      "#\t\t'HSCHRUN_RANDOM_134'\t1951\tStandard\n",
      "#\t\t'HSCHRUN_RANDOM_102'\t1942\tStandard\n",
      "#\t\t'HSCHRUN_RANDOM_194'\t1930\tStandard\n",
      "#\t\t'HSCHRUN_RANDOM_143'\t1899\tStandard\n",
      "#\t\t'HSCHRUN_RANDOM_122'\t1884\tStandard\n",
      "#\t\t'HSCHRUN_RANDOM_185'\t1880\tStandard\n",
      "#\t\t'HSCHRUN_RANDOM_175'\t1803\tStandard\n",
      "#\t\t'HSCHRUN_RANDOM_188'\t1788\tStandard\n",
      "#\t\t'HSCHRUN_RANDOM_126'\t1774\tStandard\n",
      "#\t\t'HSCHRUN_RANDOM_190'\t1750\tStandard\n",
      "#\t\t'HSCHRUN_RANDOM_192'\t1658\tStandard\n",
      "#\t\t'HSCHRUN_RANDOM_166'\t1652\tStandard\n",
      "#\t\t'HSCHRUN_RANDOM_199'\t1650\tStandard\n",
      "#\t\t'HSCHRUN_RANDOM_149'\t1599\tStandard\n",
      "#\t\t'HSCHRUN_RANDOM_156'\t1553\tStandard\n",
      "#\t\t'HSCHRUN_RANDOM_183'\t1537\tStandard\n",
      "#\t\t'HSCHRUN_RANDOM_189'\t1484\tStandard\n",
      "#\t\t'HSCHRUN_RANDOM_103'\t1472\tStandard\n",
      "#\t\t'HSCHRUN_RANDOM_200'\t1451\tStandard\n",
      "#\t\t'HSCHRUN_RANDOM_120'\t1445\tStandard\n",
      "#\t\t'HSCHRUN_RANDOM_107'\t1444\tStandard\n",
      "#\t\t'HSCHRUN_RANDOM_171'\t1428\tStandard\n",
      "#\t\t'HSCHRUN_RANDOM_172'\t1428\tStandard\n",
      "#\t\t'HSCHRUN_RANDOM_154'\t1400\tStandard\n",
      "#\t\t'HSCHRUN_RANDOM_168'\t1368\tStandard\n",
      "#\t\t'HSCHRUN_RANDOM_123'\t1361\tStandard\n",
      "#\t\t'HSCHRUN_RANDOM_191'\t1308\tStandard\n",
      "#\t\t'HSCHRUN_RANDOM_135'\t1300\tStandard\n",
      "#\t\t'HSCHRUN_RANDOM_181'\t1298\tStandard\n",
      "#\t\t'HSCHRUN_RANDOM_125'\t1233\tStandard\n",
      "#\t\t'HSCHRUN_RANDOM_186'\t1216\tStandard\n",
      "#\t\t'HSCHRUN_RANDOM_148'\t1202\tStandard\n",
      "#\t\t'HSCHRUN_RANDOM_106'\t1201\tStandard\n",
      "#\t\t'HSCHRUN_RANDOM_112'\t1179\tStandard\n",
      "#\t\t'HSCHRUN_RANDOM_184'\t1143\tStandard\n",
      "#\t\t'HSCHRUN_RANDOM_197'\t1136\tStandard\n",
      "#\t\t'HSCHRUN_RANDOM_174'\t1121\tStandard\n",
      "#\t\t'HSCHRUN_RANDOM_170'\t1048\tStandard\n",
      "#\t\t'HSCHRUN_RANDOM_179'\t1048\tStandard\n",
      "#\t\t'HSCHRUN_RANDOM_180'\t1045\tStandard\n",
      "#\t\t'HSCHRUN_RANDOM_167'\t1040\tStandard\n",
      "#\t\t'HSCHRUN_RANDOM_115'\t1029\tStandard\n",
      "#\t\t'HSCHRUN_RANDOM_173'\t1026\tStandard\n",
      "#\t\t'HSCHRUN_RANDOM_109'\t998\tStandard\n",
      "#\t\t'HSCHRUN_RANDOM_146'\t993\tStandard\n",
      "#\t\t'HSCHRUN_RANDOM_195'\t990\tStandard\n",
      "#\t\t'HSCHRUN_RANDOM_121'\t981\tStandard\n",
      "#\t\t'HSCHRUN_RANDOM_193'\t971\tStandard\n",
      "#\t\t'HSCHRUN_RANDOM_187'\t970\tStandard\n",
      "#\t\t'M'\t1\tVertebrate_Mitochondrial\n",
      "#-----------------------------------------------\n",
      "\n",
      "00:01:01\tPredicting variants\n",
      "00:01:01\tCreating summary file: snpEff_summary.html\n",
      "00:01:01\tCreating genes file: snpEff_genes.txt\n",
      "00:01:01\tdone.\n",
      "00:01:01\tLogging\n",
      "00:01:02\tChecking for updates...\n",
      "00:01:03\tDone.\n"
     ]
    }
   ],
   "source": [
    "java -jar $SNPEFF_JAR \\\n",
    "     -v GRCh38.p7.RefSeq \\\n",
    "     annotation/filtered_snps.vcf > annotation/filtered_snps.ann.vcf"
   ]
  },
  {
   "cell_type": "code",
   "execution_count": 57,
   "metadata": {},
   "outputs": [],
   "source": [
    "head annotation/filtered_snps.ann.vcf"
   ]
  },
  {
   "cell_type": "code",
   "execution_count": null,
   "metadata": {},
   "outputs": [],
   "source": []
  }
 ],
 "metadata": {
  "kernelspec": {
   "display_name": "Bash",
   "language": "bash",
   "name": "bash"
  },
  "language_info": {
   "codemirror_mode": "shell",
   "file_extension": ".sh",
   "mimetype": "text/x-sh",
   "name": "bash"
  }
 },
 "nbformat": 4,
 "nbformat_minor": 4
}
